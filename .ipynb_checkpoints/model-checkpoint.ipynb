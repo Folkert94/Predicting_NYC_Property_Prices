{
 "cells": [
  {
   "cell_type": "code",
   "execution_count": 303,
   "metadata": {},
   "outputs": [
    {
     "name": "stdout",
     "output_type": "stream",
     "text": [
      "<class 'pandas.core.frame.DataFrame'>\n",
      "RangeIndex: 84768 entries, 0 to 84767\n",
      "Data columns (total 27 columns):\n",
      " #   Column      Non-Null Count  Dtype  \n",
      "---  ------      --------------  -----  \n",
      " 0   Unnamed: 0  84768 non-null  int64  \n",
      " 1   Sale_id     84768 non-null  int64  \n",
      " 2   bbl_id      84768 non-null  int64  \n",
      " 3   year        84768 non-null  int64  \n",
      " 4   borough     84768 non-null  int64  \n",
      " 5   bldg_ctgy   84768 non-null  object \n",
      " 6   tax_cls_p   84765 non-null  object \n",
      " 7   block       84768 non-null  int64  \n",
      " 8   lot         84768 non-null  int64  \n",
      " 9   easmnt      1 non-null      object \n",
      " 10  bldg_cls_p  84765 non-null  object \n",
      " 11  address     84768 non-null  object \n",
      " 12  apt         20983 non-null  object \n",
      " 13  zip         84768 non-null  int64  \n",
      " 14  res_unit    84768 non-null  int64  \n",
      " 15  com_unit    84768 non-null  int64  \n",
      " 16  tot_unit    84768 non-null  int64  \n",
      " 17  land_sqft   84768 non-null  int64  \n",
      " 18  tot_sqft    84768 non-null  int64  \n",
      " 19  yr_built    84768 non-null  int64  \n",
      " 20  tax_cls_s   84768 non-null  int64  \n",
      " 21  bldg_cls_s  84768 non-null  object \n",
      " 22  sale_date   84768 non-null  object \n",
      " 23  price       84768 non-null  int64  \n",
      " 24  usable      84768 non-null  object \n",
      " 25  long        84768 non-null  float64\n",
      " 26  lat         84768 non-null  float64\n",
      "dtypes: float64(2), int64(16), object(9)\n",
      "memory usage: 17.5+ MB\n"
     ]
    },
    {
     "name": "stderr",
     "output_type": "stream",
     "text": [
      "C:\\Users\\folke\\anaconda3\\lib\\site-packages\\IPython\\core\\interactiveshell.py:3071: DtypeWarning: Columns (9) have mixed types.Specify dtype option on import or set low_memory=False.\n",
      "  has_raised = await self.run_ast_nodes(code_ast.body, cell_name,\n"
     ]
    }
   ],
   "source": [
    "# import all libraries\n",
    "import numpy as np\n",
    "import pandas as pd\n",
    "import matplotlib.pyplot as plt \n",
    "import seaborn as sns\n",
    "import re\n",
    "\n",
    "import sklearn\n",
    "from sklearn.model_selection import train_test_split\n",
    "from sklearn.preprocessing import MinMaxScaler\n",
    "from sklearn.preprocessing import PolynomialFeatures\n",
    "from sklearn.preprocessing import scale\n",
    "from sklearn.feature_selection import RFE\n",
    "from sklearn import linear_model\n",
    "from sklearn import model_selection\n",
    "from sklearn.linear_model import LinearRegression, LogisticRegression, Ridge, Lasso \n",
    "from sklearn.ensemble import RandomForestClassifier\n",
    "from sklearn.model_selection import cross_val_score\n",
    "from sklearn.model_selection import KFold\n",
    "from sklearn.model_selection import GridSearchCV\n",
    "from sklearn.pipeline import make_pipeline\n",
    "from sklearn.metrics import r2_score\n",
    "from sklearn.metrics import mean_absolute_error\n",
    "from sklearn.metrics import classification_report\n",
    "\n",
    "from sklearn.preprocessing import Normalizer,StandardScaler\n",
    "from sklearn.preprocessing.data import normalize\n",
    "\n",
    "from statistics import mean \n",
    "\n",
    "df = pd.read_csv(\"sales_data_2015.csv\")\n",
    "df.info()"
   ]
  },
  {
   "cell_type": "code",
   "execution_count": 105,
   "metadata": {},
   "outputs": [
    {
     "data": {
      "text/plain": [
       "Index(['Unnamed: 0', 'Sale_id', 'bbl_id', 'year', 'borough', 'bldg_ctgy',\n",
       "       'tax_cls_p', 'block', 'lot', 'easmnt', 'bldg_cls_p', 'address', 'apt',\n",
       "       'zip', 'res_unit', 'com_unit', 'tot_unit', 'land_sqft', 'tot_sqft',\n",
       "       'yr_built', 'tax_cls_s', 'bldg_cls_s', 'sale_date', 'price', 'usable',\n",
       "       'long', 'lat'],\n",
       "      dtype='object')"
      ]
     },
     "execution_count": 105,
     "metadata": {},
     "output_type": "execute_result"
    }
   ],
   "source": [
    "df.columns"
   ]
  },
  {
   "cell_type": "code",
   "execution_count": 106,
   "metadata": {},
   "outputs": [],
   "source": [
    "# cleaning option 1\n",
    "# df2 = df[['borough', 'bldg_cls_p', 'tax_cls_p', 'tot_sqft', 'land_sqft', 'tot_unit', 'res_unit', 'com_unit', 'price']]\n",
    "# df2 = df2[(df2.tot_sqft != 0) & (df2.tot_sqft != 1) & (df2.price >= 100) & (df2.land_sqft != 0)]\n",
    "\n",
    "# df2.dropna(subset = [\"bldg_cls_p\"], inplace=True)\n",
    "# df2.dropna(subset = [\"tax_cls_p\"], inplace=True)\n",
    "\n",
    "# print(\"Length of dataset is {}\".format(len(df2)))\n",
    "\n",
    "# def bldg_cls_simple(building):\n",
    "#     return building[0]\n",
    "\n",
    "# def tax_cls_simple(building):\n",
    "#     return building[0]\n",
    "\n",
    "# df2['cat'] = df2.bldg_cls_p.apply(lambda building: bldg_cls_simple(str(building)))\n",
    "# df2['tax_cat'] = df2.tax_cls_p.apply(lambda building: tax_cls_simple(str(building)))\n",
    "\n",
    "# # df2 = pd.concat([df2, pd.get_dummies(df2.tax_cls_p)], axis=1)\n",
    "# df2 = pd.concat([df2, pd.get_dummies(df2.cat)], axis=1)\n",
    "# df2 = pd.concat([df2, pd.get_dummies(df2.tax_cat)], axis=1)\n",
    "# df2 = pd.concat([df2, pd.get_dummies(df2.borough, prefix=\"b\")], axis=1)\n",
    "\n",
    "# df2 = df2.drop(columns=['bldg_cls_p', 'borough', 'tax_cls_p', 'cat', 'tax_cat'])"
   ]
  },
  {
   "cell_type": "code",
   "execution_count": 254,
   "metadata": {},
   "outputs": [
    {
     "name": "stdout",
     "output_type": "stream",
     "text": [
      "Length of dataset is 27881\n"
     ]
    }
   ],
   "source": [
    "# cleaning option 2 (all possible features)\n",
    "df2 = df[['borough', 'bldg_cls_p', 'tax_cls_p','bldg_cls_s', 'tax_cls_s', 'tot_sqft', 'yr_built', 'land_sqft', 'tot_unit', 'res_unit', 'com_unit', 'price']]\n",
    "df2 = df2[(df2.tot_sqft != 0) & (df2.tot_sqft != 1) & (df2.land_sqft != 0) & (df2.land_sqft != 1) & (df2.price >= 10000) & (df2.land_sqft != 0) & (df2.yr_built !=0)]\n",
    "\n",
    "df2.dropna(subset = [\"bldg_cls_p\"], inplace=True)\n",
    "df2.dropna(subset = [\"tax_cls_p\"], inplace=True)\n",
    "\n",
    "print(\"Length of dataset is {}\".format(len(df2)))\n",
    "\n",
    "df2 = pd.concat([df2, pd.get_dummies(df2.bldg_cls_s, prefix=\"bdgp_cls_s\")], axis=1)\n",
    "df2 = pd.concat([df2, pd.get_dummies(df2.borough, prefix=\"b\")], axis=1)\n",
    "# df2 = pd.concat([df2, pd.get_dummies(df2.tax_cls_s, prefix=\"tax_cls_s\")], axis=1)\n",
    "\n",
    "df2 = df2.drop(columns=['borough', 'bldg_cls_p', 'tax_cls_p','bldg_cls_s'])"
   ]
  },
  {
   "cell_type": "code",
   "execution_count": 255,
   "metadata": {},
   "outputs": [
    {
     "data": {
      "text/plain": [
       "150"
      ]
     },
     "execution_count": 255,
     "metadata": {},
     "output_type": "execute_result"
    }
   ],
   "source": [
    "len(df2.columns)"
   ]
  },
  {
   "cell_type": "code",
   "execution_count": 256,
   "metadata": {},
   "outputs": [
    {
     "data": {
      "text/plain": [
       "count    2.788100e+04\n",
       "mean     1.898085e+06\n",
       "std      1.063789e+07\n",
       "min      1.000000e+04\n",
       "25%      3.900000e+05\n",
       "50%      5.800000e+05\n",
       "75%      9.500000e+05\n",
       "max      5.100000e+08\n",
       "Name: price, dtype: float64"
      ]
     },
     "execution_count": 256,
     "metadata": {},
     "output_type": "execute_result"
    }
   ],
   "source": [
    "df2.price.describe()"
   ]
  },
  {
   "cell_type": "code",
   "execution_count": 257,
   "metadata": {},
   "outputs": [
    {
     "name": "stdout",
     "output_type": "stream",
     "text": [
      "(27881, 149) (27881,)\n"
     ]
    }
   ],
   "source": [
    "X = df2.drop(columns=['price'])\n",
    "Y = df2.price\n",
    "Y = np.array(Y).reshape(-1)\n",
    "print(X.shape,Y.shape)"
   ]
  },
  {
   "cell_type": "code",
   "execution_count": 258,
   "metadata": {},
   "outputs": [],
   "source": [
    "# cross validation parameters\n",
    "\n",
    "def nested_cv(MODEL, PARAMS, X, Y, NUM_TRIALS):\n",
    "    nested_scores = []\n",
    "\n",
    "    for i in range(NUM_TRIALS):\n",
    "        inner_cv = KFold(n_splits=10, random_state=i, shuffle=True)\n",
    "        outer_cv = KFold(n_splits=10, random_state=i, shuffle=True)\n",
    "\n",
    "        model = MODEL\n",
    "\n",
    "        lm = GridSearchCV(estimator=model, param_grid=PARAMS, cv=inner_cv)\n",
    "        nested_score = cross_val_score(lm, X=X, y=Y, cv=outer_cv, scoring='r2')\n",
    "        nested_scores.append([nested_score.mean(), nested_score.std()])\n",
    "        print(nested_score.mean(), nested_score.std())\n",
    "    \n",
    "    return nested_scores"
   ]
  },
  {
   "cell_type": "code",
   "execution_count": 259,
   "metadata": {},
   "outputs": [
    {
     "name": "stdout",
     "output_type": "stream",
     "text": [
      "keep column  tax_cls_s 0.23040904782229468\n",
      "keep column  tot_sqft 0.4884014228825321\n",
      "keep column  land_sqft 0.23906352096702496\n",
      "keep column  tot_unit 0.283075970306563\n",
      "keep column  res_unit 0.23831531703852296\n",
      "keep column  com_unit 0.34235282724391924\n",
      "keep column  bdgp_cls_s_H1 0.27731150910853153\n",
      "keep column  bdgp_cls_s_O3 0.26619463282617384\n",
      "keep column  bdgp_cls_s_O4 0.4905733039685425\n",
      "keep column  b_1 0.2727965221412362\n"
     ]
    }
   ],
   "source": [
    "for column in X.columns:\n",
    "    corry = np.corrcoef(Y, X[\"{}\".format(column)])[0][1]\n",
    "    if corry < 0.2 and corry > -0.2:\n",
    "#         print(\"removed column {0}, because {1}\".format(column, corry))\n",
    "        X = X.drop(columns=[column])\n",
    "    else:\n",
    "        print(\"keep column \", column, corry)"
   ]
  },
  {
   "cell_type": "code",
   "execution_count": 260,
   "metadata": {},
   "outputs": [
    {
     "data": {
      "text/plain": [
       "10"
      ]
     },
     "execution_count": 260,
     "metadata": {},
     "output_type": "execute_result"
    }
   ],
   "source": [
    "len(X.columns)"
   ]
  },
  {
   "cell_type": "code",
   "execution_count": 261,
   "metadata": {},
   "outputs": [
    {
     "data": {
      "image/png": "[encoded data removed]",
      "text/plain": [
       "<Figure size 792x648 with 2 Axes>"
      ]
     },
     "metadata": {
      "needs_background": "light"
     },
     "output_type": "display_data"
    }
   ],
   "source": [
    "f, ax = plt.subplots(figsize=(11, 9))\n",
    "\n",
    "corr = pd.concat([df2.price, df2[list(X.columns)]], axis=1).corr()\n",
    "heatmap = sns.heatmap(corr, vmin=-1, vmax=1, annot=True)\n",
    "plt.savefig('corr_heatmap.png', dpi=300, transparent=True)"
   ]
  },
  {
   "cell_type": "code",
   "execution_count": 262,
   "metadata": {},
   "outputs": [],
   "source": [
    "X_train, X_test, y_train, y_test = train_test_split(X, Y, test_size = .30, random_state = 10)\n",
    "\n",
    "feature_scaler = StandardScaler()\n",
    "X_train = feature_scaler.fit_transform(X_train)\n",
    "X_test = feature_scaler.transform(X_test)"
   ]
  },
  {
   "cell_type": "code",
   "execution_count": 271,
   "metadata": {},
   "outputs": [
    {
     "name": "stdout",
     "output_type": "stream",
     "text": [
      "Train: 0.4438429102802992\n",
      "Test: 0.5697216054703158\n",
      "MAE: 1494489.6089206398\n",
      "MAE (baseline): 2248166.4655988915\n",
      "Improvement: -33.52 %\n"
     ]
    }
   ],
   "source": [
    "lm = linear_model.Lasso(tol=1.0, normalize=True)\n",
    "lm.fit(X_train, y_train)\n",
    "print('Train:', lm.score(X_train, y_train))\n",
    "print('Test:', lm.score(X_test, y_test))\n",
    "\n",
    "mae_model = mean_absolute_error(y_test, lm.predict(X_test))\n",
    "mae_baseline = abs(y_test - y_test.mean()).mean()\n",
    "\n",
    "print('MAE:', mae_model)\n",
    "print('MAE (baseline):', mae_baseline)\n",
    "print('Improvement: {:.2f} %'.format(((mae_model-mae_baseline)/ mae_baseline )* 100) )"
   ]
  },
  {
   "cell_type": "code",
   "execution_count": 272,
   "metadata": {},
   "outputs": [
    {
     "data": {
      "text/plain": [
       "Index(['tax_cls_s', 'tot_sqft', 'land_sqft', 'tot_unit', 'res_unit',\n",
       "       'com_unit', 'bdgp_cls_s_H1', 'bdgp_cls_s_O3', 'bdgp_cls_s_O4', 'b_1'],\n",
       "      dtype='object')"
      ]
     },
     "execution_count": 272,
     "metadata": {},
     "output_type": "execute_result"
    }
   ],
   "source": [
    "X.columns"
   ]
  },
  {
   "cell_type": "code",
   "execution_count": 273,
   "metadata": {},
   "outputs": [],
   "source": [
    "parameters = {'alpha': [1e-15, 1e-10, 1e-8, 1e-4, 1e-3, 1e-2, 1, 5, 10, 20]}"
   ]
  },
  {
   "cell_type": "code",
   "execution_count": 274,
   "metadata": {},
   "outputs": [
    {
     "data": {
      "text/plain": [
       "GridSearchCV(cv=5, estimator=Ridge(),\n",
       "             param_grid={'alpha': [1e-15, 1e-10, 1e-08, 0.0001, 0.001, 0.01, 1,\n",
       "                                   5, 10, 20]},\n",
       "             scoring='r2')"
      ]
     },
     "execution_count": 274,
     "metadata": {},
     "output_type": "execute_result"
    }
   ],
   "source": [
    "ridge = Ridge()\n",
    "\n",
    "ridge_regressor = GridSearchCV(ridge, parameters, scoring='r2', cv=5)\n",
    "\n",
    "ridge_regressor.fit(X_train, y_train)"
   ]
  },
  {
   "cell_type": "code",
   "execution_count": 275,
   "metadata": {},
   "outputs": [
    {
     "name": "stdout",
     "output_type": "stream",
     "text": [
      "{'alpha': 20} 0.3348991817281538\n"
     ]
    }
   ],
   "source": [
    "print(ridge_regressor.best_params_, ridge_regressor.best_score_)"
   ]
  },
  {
   "cell_type": "code",
   "execution_count": 276,
   "metadata": {},
   "outputs": [],
   "source": [
    "mean_model = [y_train.mean()] * len(y_test)"
   ]
  },
  {
   "cell_type": "code",
   "execution_count": 277,
   "metadata": {},
   "outputs": [
    {
     "data": {
      "text/plain": [
       "-1.0058235881738042e-05"
      ]
     },
     "execution_count": 277,
     "metadata": {},
     "output_type": "execute_result"
    }
   ],
   "source": [
    "r2_score(y_test, mean_model)"
   ]
  },
  {
   "cell_type": "code",
   "execution_count": 278,
   "metadata": {},
   "outputs": [
    {
     "name": "stdout",
     "output_type": "stream",
     "text": [
      "Test: 0.5487589643086801\n",
      "MAE: 1413208.1657518963\n",
      "MAE (baseline): 2274997.2681587725\n",
      "Improvement: -37.88 %\n"
     ]
    }
   ],
   "source": [
    "print('Test:', ridge_regressor.score(X_test, y_test))\n",
    "\n",
    "mae_model = mean_absolute_error(y_test, ridge_regressor.predict(X_test))\n",
    "mae_baseline = abs(y_test - y_train.mean()).mean()\n",
    "\n",
    "print('MAE:', mae_model)\n",
    "print('MAE (baseline):', mae_baseline)\n",
    "print('Improvement: {:.2f} %'.format(((mae_model-mae_baseline)/ mae_baseline )* 100) )"
   ]
  },
  {
   "cell_type": "code",
   "execution_count": 279,
   "metadata": {},
   "outputs": [
    {
     "name": "stderr",
     "output_type": "stream",
     "text": [
      "C:\\Users\\folke\\anaconda3\\lib\\site-packages\\sklearn\\linear_model\\_coordinate_descent.py:529: ConvergenceWarning: Objective did not converge. You might want to increase the number of iterations. Duality gap: 4.1905873809825856e+17, tolerance: 157441023975119.7\n",
      "  model = cd_fast.enet_coordinate_descent(\n",
      "C:\\Users\\folke\\anaconda3\\lib\\site-packages\\sklearn\\linear_model\\_coordinate_descent.py:529: ConvergenceWarning: Objective did not converge. You might want to increase the number of iterations. Duality gap: 4.900232976713172e+17, tolerance: 183870575901199.34\n",
      "  model = cd_fast.enet_coordinate_descent(\n",
      "C:\\Users\\folke\\anaconda3\\lib\\site-packages\\sklearn\\linear_model\\_coordinate_descent.py:529: ConvergenceWarning: Objective did not converge. You might want to increase the number of iterations. Duality gap: 4.1155028948530426e+17, tolerance: 167768127224360.28\n",
      "  model = cd_fast.enet_coordinate_descent(\n",
      "C:\\Users\\folke\\anaconda3\\lib\\site-packages\\sklearn\\linear_model\\_coordinate_descent.py:529: ConvergenceWarning: Objective did not converge. You might want to increase the number of iterations. Duality gap: 5.1296107102545043e+17, tolerance: 199134990897659.12\n",
      "  model = cd_fast.enet_coordinate_descent(\n",
      "C:\\Users\\folke\\anaconda3\\lib\\site-packages\\sklearn\\linear_model\\_coordinate_descent.py:529: ConvergenceWarning: Objective did not converge. You might want to increase the number of iterations. Duality gap: 4.133552701737351e+17, tolerance: 154317863019018.88\n",
      "  model = cd_fast.enet_coordinate_descent(\n",
      "C:\\Users\\folke\\anaconda3\\lib\\site-packages\\sklearn\\linear_model\\_coordinate_descent.py:529: ConvergenceWarning: Objective did not converge. You might want to increase the number of iterations. Duality gap: 4.1905873806995e+17, tolerance: 157441023975119.7\n",
      "  model = cd_fast.enet_coordinate_descent(\n",
      "C:\\Users\\folke\\anaconda3\\lib\\site-packages\\sklearn\\linear_model\\_coordinate_descent.py:529: ConvergenceWarning: Objective did not converge. You might want to increase the number of iterations. Duality gap: 4.900232976446703e+17, tolerance: 183870575901199.34\n",
      "  model = cd_fast.enet_coordinate_descent(\n",
      "C:\\Users\\folke\\anaconda3\\lib\\site-packages\\sklearn\\linear_model\\_coordinate_descent.py:529: ConvergenceWarning: Objective did not converge. You might want to increase the number of iterations. Duality gap: 4.115502894689522e+17, tolerance: 167768127224360.28\n",
      "  model = cd_fast.enet_coordinate_descent(\n",
      "C:\\Users\\folke\\anaconda3\\lib\\site-packages\\sklearn\\linear_model\\_coordinate_descent.py:529: ConvergenceWarning: Objective did not converge. You might want to increase the number of iterations. Duality gap: 5.129610709919904e+17, tolerance: 199134990897659.12\n",
      "  model = cd_fast.enet_coordinate_descent(\n",
      "C:\\Users\\folke\\anaconda3\\lib\\site-packages\\sklearn\\linear_model\\_coordinate_descent.py:529: ConvergenceWarning: Objective did not converge. You might want to increase the number of iterations. Duality gap: 4.133552690339595e+17, tolerance: 154317863019018.88\n",
      "  model = cd_fast.enet_coordinate_descent(\n",
      "C:\\Users\\folke\\anaconda3\\lib\\site-packages\\sklearn\\linear_model\\_coordinate_descent.py:529: ConvergenceWarning: Objective did not converge. You might want to increase the number of iterations. Duality gap: 4.19058735267385e+17, tolerance: 157441023975119.7\n",
      "  model = cd_fast.enet_coordinate_descent(\n",
      "C:\\Users\\folke\\anaconda3\\lib\\site-packages\\sklearn\\linear_model\\_coordinate_descent.py:529: ConvergenceWarning: Objective did not converge. You might want to increase the number of iterations. Duality gap: 4.900232950065349e+17, tolerance: 183870575901199.34\n",
      "  model = cd_fast.enet_coordinate_descent(\n",
      "C:\\Users\\folke\\anaconda3\\lib\\site-packages\\sklearn\\linear_model\\_coordinate_descent.py:529: ConvergenceWarning: Objective did not converge. You might want to increase the number of iterations. Duality gap: 4.115502878501178e+17, tolerance: 167768127224360.28\n",
      "  model = cd_fast.enet_coordinate_descent(\n",
      "C:\\Users\\folke\\anaconda3\\lib\\site-packages\\sklearn\\linear_model\\_coordinate_descent.py:529: ConvergenceWarning: Objective did not converge. You might want to increase the number of iterations. Duality gap: 5.129610676794945e+17, tolerance: 199134990897659.12\n",
      "  model = cd_fast.enet_coordinate_descent(\n",
      "C:\\Users\\folke\\anaconda3\\lib\\site-packages\\sklearn\\linear_model\\_coordinate_descent.py:529: ConvergenceWarning: Objective did not converge. You might want to increase the number of iterations. Duality gap: 4.133551561950315e+17, tolerance: 154317863019018.88\n",
      "  model = cd_fast.enet_coordinate_descent(\n",
      "C:\\Users\\folke\\anaconda3\\lib\\site-packages\\sklearn\\linear_model\\_coordinate_descent.py:529: ConvergenceWarning: Objective did not converge. You might want to increase the number of iterations. Duality gap: 4.190304288139331e+17, tolerance: 157441023975119.7\n",
      "  model = cd_fast.enet_coordinate_descent(\n",
      "C:\\Users\\folke\\anaconda3\\lib\\site-packages\\sklearn\\linear_model\\_coordinate_descent.py:529: ConvergenceWarning: Objective did not converge. You might want to increase the number of iterations. Duality gap: 4.8999664938639814e+17, tolerance: 183870575901199.34\n",
      "  model = cd_fast.enet_coordinate_descent(\n",
      "C:\\Users\\folke\\anaconda3\\lib\\site-packages\\sklearn\\linear_model\\_coordinate_descent.py:529: ConvergenceWarning: Objective did not converge. You might want to increase the number of iterations. Duality gap: 4.1153393738905594e+17, tolerance: 167768127224360.28\n",
      "  model = cd_fast.enet_coordinate_descent(\n",
      "C:\\Users\\folke\\anaconda3\\lib\\site-packages\\sklearn\\linear_model\\_coordinate_descent.py:529: ConvergenceWarning: Objective did not converge. You might want to increase the number of iterations. Duality gap: 5.129276107785967e+17, tolerance: 199134990897659.12\n",
      "  model = cd_fast.enet_coordinate_descent(\n",
      "C:\\Users\\folke\\anaconda3\\lib\\site-packages\\sklearn\\linear_model\\_coordinate_descent.py:529: ConvergenceWarning: Objective did not converge. You might want to increase the number of iterations. Duality gap: 4.12214939614372e+17, tolerance: 154317863019018.88\n",
      "  model = cd_fast.enet_coordinate_descent(\n",
      "C:\\Users\\folke\\anaconda3\\lib\\site-packages\\sklearn\\linear_model\\_coordinate_descent.py:529: ConvergenceWarning: Objective did not converge. You might want to increase the number of iterations. Duality gap: 4.187755959446008e+17, tolerance: 157441023975119.7\n",
      "  model = cd_fast.enet_coordinate_descent(\n",
      "C:\\Users\\folke\\anaconda3\\lib\\site-packages\\sklearn\\linear_model\\_coordinate_descent.py:529: ConvergenceWarning: Objective did not converge. You might want to increase the number of iterations. Duality gap: 4.897567736193482e+17, tolerance: 183870575901199.34\n",
      "  model = cd_fast.enet_coordinate_descent(\n",
      "C:\\Users\\folke\\anaconda3\\lib\\site-packages\\sklearn\\linear_model\\_coordinate_descent.py:529: ConvergenceWarning: Objective did not converge. You might want to increase the number of iterations. Duality gap: 4.113867476643963e+17, tolerance: 167768127224360.28\n",
      "  model = cd_fast.enet_coordinate_descent(\n",
      "C:\\Users\\folke\\anaconda3\\lib\\site-packages\\sklearn\\linear_model\\_coordinate_descent.py:529: ConvergenceWarning: Objective did not converge. You might want to increase the number of iterations. Duality gap: 5.1262640671144986e+17, tolerance: 199134990897659.12\n",
      "  model = cd_fast.enet_coordinate_descent(\n",
      "C:\\Users\\folke\\anaconda3\\lib\\site-packages\\sklearn\\linear_model\\_coordinate_descent.py:529: ConvergenceWarning: Objective did not converge. You might want to increase the number of iterations. Duality gap: 4.019033212904856e+17, tolerance: 154317863019018.88\n",
      "  model = cd_fast.enet_coordinate_descent(\n",
      "C:\\Users\\folke\\anaconda3\\lib\\site-packages\\sklearn\\linear_model\\_coordinate_descent.py:529: ConvergenceWarning: Objective did not converge. You might want to increase the number of iterations. Duality gap: 4.162223835433277e+17, tolerance: 157441023975119.7\n",
      "  model = cd_fast.enet_coordinate_descent(\n",
      "C:\\Users\\folke\\anaconda3\\lib\\site-packages\\sklearn\\linear_model\\_coordinate_descent.py:529: ConvergenceWarning: Objective did not converge. You might want to increase the number of iterations. Duality gap: 4.8735393464037325e+17, tolerance: 183870575901199.34\n",
      "  model = cd_fast.enet_coordinate_descent(\n",
      "C:\\Users\\folke\\anaconda3\\lib\\site-packages\\sklearn\\linear_model\\_coordinate_descent.py:529: ConvergenceWarning: Objective did not converge. You might want to increase the number of iterations. Duality gap: 4.099127839518697e+17, tolerance: 167768127224360.28\n",
      "  model = cd_fast.enet_coordinate_descent(\n",
      "C:\\Users\\folke\\anaconda3\\lib\\site-packages\\sklearn\\linear_model\\_coordinate_descent.py:529: ConvergenceWarning: Objective did not converge. You might want to increase the number of iterations. Duality gap: 5.096082392394086e+17, tolerance: 199134990897659.12\n",
      "  model = cd_fast.enet_coordinate_descent(\n"
     ]
    },
    {
     "name": "stderr",
     "output_type": "stream",
     "text": [
      "C:\\Users\\folke\\anaconda3\\lib\\site-packages\\sklearn\\linear_model\\_coordinate_descent.py:529: ConvergenceWarning: Objective did not converge. You might want to increase the number of iterations. Duality gap: 2.9439561557033984e+17, tolerance: 154317863019018.88\n",
      "  model = cd_fast.enet_coordinate_descent(\n",
      "C:\\Users\\folke\\anaconda3\\lib\\site-packages\\sklearn\\linear_model\\_coordinate_descent.py:529: ConvergenceWarning: Objective did not converge. You might want to increase the number of iterations. Duality gap: 9.292214549905818e+16, tolerance: 157441023975119.7\n",
      "  model = cd_fast.enet_coordinate_descent(\n",
      "C:\\Users\\folke\\anaconda3\\lib\\site-packages\\sklearn\\linear_model\\_coordinate_descent.py:529: ConvergenceWarning: Objective did not converge. You might want to increase the number of iterations. Duality gap: 1.8087472004250554e+17, tolerance: 183870575901199.34\n",
      "  model = cd_fast.enet_coordinate_descent(\n",
      "C:\\Users\\folke\\anaconda3\\lib\\site-packages\\sklearn\\linear_model\\_coordinate_descent.py:529: ConvergenceWarning: Objective did not converge. You might want to increase the number of iterations. Duality gap: 2.2437394705155965e+17, tolerance: 167768127224360.28\n",
      "  model = cd_fast.enet_coordinate_descent(\n",
      "C:\\Users\\folke\\anaconda3\\lib\\site-packages\\sklearn\\linear_model\\_coordinate_descent.py:529: ConvergenceWarning: Objective did not converge. You might want to increase the number of iterations. Duality gap: 1.2033355803372902e+17, tolerance: 199134990897659.12\n",
      "  model = cd_fast.enet_coordinate_descent(\n"
     ]
    },
    {
     "data": {
      "text/plain": [
       "GridSearchCV(cv=5, estimator=Lasso(normalize=True),\n",
       "             param_grid={'alpha': [1e-15, 1e-10, 1e-08, 0.0001, 0.001, 0.01, 1,\n",
       "                                   5, 10, 20]},\n",
       "             scoring='r2')"
      ]
     },
     "execution_count": 279,
     "metadata": {},
     "output_type": "execute_result"
    }
   ],
   "source": [
    "lasso = Lasso(normalize=True)\n",
    "\n",
    "lasso_regressor = GridSearchCV(lasso, parameters, scoring='r2', cv=5)\n",
    "\n",
    "lasso_regressor.fit(X_train, y_train)"
   ]
  },
  {
   "cell_type": "code",
   "execution_count": 280,
   "metadata": {},
   "outputs": [
    {
     "name": "stdout",
     "output_type": "stream",
     "text": [
      "{'alpha': 20} 0.33469438922216904\n"
     ]
    }
   ],
   "source": [
    "print(lasso_regressor.best_params_, lasso_regressor.best_score_)"
   ]
  },
  {
   "cell_type": "code",
   "execution_count": 281,
   "metadata": {},
   "outputs": [
    {
     "name": "stdout",
     "output_type": "stream",
     "text": [
      "Test: 0.5484225470102382\n",
      "MAE: 1413363.027387369\n",
      "MAE (baseline): 2248166.4655988915\n",
      "Improvement: -37.13 %\n"
     ]
    }
   ],
   "source": [
    "print('Test:', lasso_regressor.score(X_test, y_test))\n",
    "\n",
    "mae_model = mean_absolute_error(y_test, lasso_regressor.predict(X_test))\n",
    "mae_baseline = abs(y_test - y_test.mean()).mean()\n",
    "\n",
    "print('MAE:', mae_model)\n",
    "print('MAE (baseline):', mae_baseline)\n",
    "print('Improvement: {:.2f} %'.format(((mae_model-mae_baseline)/ mae_baseline )* 100) )"
   ]
  },
  {
   "cell_type": "code",
   "execution_count": 282,
   "metadata": {},
   "outputs": [
    {
     "name": "stdout",
     "output_type": "stream",
     "text": [
      "Train: 0.47110555138330246\n",
      "Test: 0.5470728470290941\n",
      "MAE: 1419181.5421767205\n",
      "MAE (baseline): 2274997.2681587725\n",
      "Improvement: -37.62 %\n"
     ]
    }
   ],
   "source": [
    "lm = LinearRegression()\n",
    "lm.fit(X_train, y_train)\n",
    "\n",
    "print('Train:', lm.score(X_train, y_train))\n",
    "print('Test:', lm.score(X_test, y_test))\n",
    "\n",
    "mae_model = mean_absolute_error(y_test, lm.predict(X_test))\n",
    "mae_baseline = abs(y_test - y_train.mean()).mean()\n",
    "\n",
    "print('MAE:', mae_model)\n",
    "print('MAE (baseline):', mae_baseline)\n",
    "print('Improvement: {:.2f} %'.format(((mae_model-mae_baseline)/ mae_baseline )* 100) )"
   ]
  },
  {
   "cell_type": "code",
   "execution_count": 283,
   "metadata": {},
   "outputs": [
    {
     "name": "stdout",
     "output_type": "stream",
     "text": [
      "Train: 0.4439672054279268\n",
      "Test: 0.5694956278828234\n",
      "MAE: 1494140.8086956646\n",
      "MAE (baseline): 2274997.2681587725\n",
      "Improvement: -34.32 %\n"
     ]
    }
   ],
   "source": [
    "# lm = LinearRegression(normalize=True)\n",
    "# lm.fit(X_train, y_train)\n",
    "\n",
    "lm = linear_model.Lasso(alpha=20, tol=1.0, normalize=True)\n",
    "lm.fit(X_train, y_train)\n",
    "\n",
    "print('Train:', lm.score(X_train, y_train))\n",
    "print('Test:', lm.score(X_test, y_test))\n",
    "\n",
    "mae_model = mean_absolute_error(y_test, lm.predict(X_test))\n",
    "mae_baseline = abs(y_test - y_train.mean()).mean()\n",
    "\n",
    "print('MAE:', mae_model)\n",
    "print('MAE (baseline):', mae_baseline)\n",
    "print('Improvement: {:.2f} %'.format(((mae_model-mae_baseline)/ mae_baseline )* 100) )"
   ]
  },
  {
   "cell_type": "code",
   "execution_count": 284,
   "metadata": {},
   "outputs": [
    {
     "name": "stdout",
     "output_type": "stream",
     "text": [
      " Volume in drive C is Local Disk\n",
      " Volume Serial Number is A293-6294\n",
      "\n",
      " Directory of C:\\Users\\folke\\Documents\\Predicting_NY_House_Prices\n",
      "\n",
      "10/24/2020  06:38 PM    <DIR>          .\n",
      "10/24/2020  06:38 PM    <DIR>          ..\n",
      "10/23/2020  08:52 AM                11 .gitignore\n",
      "10/20/2020  08:12 PM    <DIR>          .ipynb_checkpoints\n",
      "10/24/2020  06:36 PM           396,585 corr_heatmap.png\n",
      "10/23/2020  08:54 AM    <DIR>          Literature\n",
      "10/24/2020  06:38 PM           127,477 model.ipynb\n",
      "10/20/2020  08:07 PM             1,117 README.md\n",
      "10/20/2020  08:05 PM        13,926,786 sales_data_2015.csv\n",
      "10/20/2020  08:07 PM        32,082,457 sales_data_2015_DF-inception-conv.csv\n",
      "               6 File(s)     46,534,433 bytes\n",
      "               4 Dir(s)  115,112,828,928 bytes free\n"
     ]
    }
   ],
   "source": [
    "!dir"
   ]
  },
  {
   "cell_type": "code",
   "execution_count": 307,
   "metadata": {},
   "outputs": [],
   "source": [
    "df3 = pd.read_csv(\"sales_data_2015_DF-inception-conv.csv\", index_col=0)"
   ]
  },
  {
   "cell_type": "code",
   "execution_count": 308,
   "metadata": {},
   "outputs": [
    {
     "data": {
      "text/html": [
       "<div>\n",
       "<style scoped>\n",
       "    .dataframe tbody tr th:only-of-type {\n",
       "        vertical-align: middle;\n",
       "    }\n",
       "\n",
       "    .dataframe tbody tr th {\n",
       "        vertical-align: top;\n",
       "    }\n",
       "\n",
       "    .dataframe thead th {\n",
       "        text-align: right;\n",
       "    }\n",
       "</style>\n",
       "<table border=\"1\" class=\"dataframe\">\n",
       "  <thead>\n",
       "    <tr style=\"text-align: right;\">\n",
       "      <th></th>\n",
       "      <th>Sale_id</th>\n",
       "      <th>bbl_id</th>\n",
       "      <th>0</th>\n",
       "      <th>1</th>\n",
       "      <th>2</th>\n",
       "      <th>3</th>\n",
       "      <th>4</th>\n",
       "      <th>5</th>\n",
       "      <th>6</th>\n",
       "      <th>7</th>\n",
       "      <th>...</th>\n",
       "      <th>22</th>\n",
       "      <th>23</th>\n",
       "      <th>24</th>\n",
       "      <th>25</th>\n",
       "      <th>26</th>\n",
       "      <th>27</th>\n",
       "      <th>28</th>\n",
       "      <th>29</th>\n",
       "      <th>30</th>\n",
       "      <th>31</th>\n",
       "    </tr>\n",
       "  </thead>\n",
       "  <tbody>\n",
       "    <tr>\n",
       "      <th>0</th>\n",
       "      <td>1</td>\n",
       "      <td>2290528</td>\n",
       "      <td>0.141194</td>\n",
       "      <td>0.421060</td>\n",
       "      <td>0.466694</td>\n",
       "      <td>-0.989387</td>\n",
       "      <td>0.091223</td>\n",
       "      <td>1.033919</td>\n",
       "      <td>-0.001966</td>\n",
       "      <td>-0.098034</td>\n",
       "      <td>...</td>\n",
       "      <td>0.600213</td>\n",
       "      <td>-0.493792</td>\n",
       "      <td>-0.047002</td>\n",
       "      <td>-0.092415</td>\n",
       "      <td>0.427163</td>\n",
       "      <td>0.688372</td>\n",
       "      <td>-0.549481</td>\n",
       "      <td>-0.538056</td>\n",
       "      <td>0.358792</td>\n",
       "      <td>-0.103146</td>\n",
       "    </tr>\n",
       "    <tr>\n",
       "      <th>1</th>\n",
       "      <td>2</td>\n",
       "      <td>2290528</td>\n",
       "      <td>0.141194</td>\n",
       "      <td>0.421060</td>\n",
       "      <td>0.466694</td>\n",
       "      <td>-0.989387</td>\n",
       "      <td>0.091223</td>\n",
       "      <td>1.033919</td>\n",
       "      <td>-0.001966</td>\n",
       "      <td>-0.098034</td>\n",
       "      <td>...</td>\n",
       "      <td>0.600213</td>\n",
       "      <td>-0.493792</td>\n",
       "      <td>-0.047002</td>\n",
       "      <td>-0.092415</td>\n",
       "      <td>0.427163</td>\n",
       "      <td>0.688372</td>\n",
       "      <td>-0.549481</td>\n",
       "      <td>-0.538056</td>\n",
       "      <td>0.358792</td>\n",
       "      <td>-0.103146</td>\n",
       "    </tr>\n",
       "    <tr>\n",
       "      <th>2</th>\n",
       "      <td>3</td>\n",
       "      <td>230352</td>\n",
       "      <td>0.114756</td>\n",
       "      <td>0.350338</td>\n",
       "      <td>0.387500</td>\n",
       "      <td>-0.834070</td>\n",
       "      <td>0.063190</td>\n",
       "      <td>0.863413</td>\n",
       "      <td>-0.001232</td>\n",
       "      <td>-0.084781</td>\n",
       "      <td>...</td>\n",
       "      <td>0.502646</td>\n",
       "      <td>-0.414158</td>\n",
       "      <td>-0.037535</td>\n",
       "      <td>-0.060672</td>\n",
       "      <td>0.358382</td>\n",
       "      <td>0.585332</td>\n",
       "      <td>-0.458778</td>\n",
       "      <td>-0.447776</td>\n",
       "      <td>0.301268</td>\n",
       "      <td>-0.086599</td>\n",
       "    </tr>\n",
       "    <tr>\n",
       "      <th>3</th>\n",
       "      <td>4</td>\n",
       "      <td>2303936</td>\n",
       "      <td>0.114901</td>\n",
       "      <td>0.351911</td>\n",
       "      <td>0.388062</td>\n",
       "      <td>-0.835415</td>\n",
       "      <td>0.068941</td>\n",
       "      <td>0.867273</td>\n",
       "      <td>-0.001948</td>\n",
       "      <td>-0.082643</td>\n",
       "      <td>...</td>\n",
       "      <td>0.503530</td>\n",
       "      <td>-0.413901</td>\n",
       "      <td>-0.038112</td>\n",
       "      <td>-0.066762</td>\n",
       "      <td>0.358489</td>\n",
       "      <td>0.580582</td>\n",
       "      <td>-0.461086</td>\n",
       "      <td>-0.449793</td>\n",
       "      <td>0.301751</td>\n",
       "      <td>-0.086144</td>\n",
       "    </tr>\n",
       "    <tr>\n",
       "      <th>4</th>\n",
       "      <td>5</td>\n",
       "      <td>2303936</td>\n",
       "      <td>0.114901</td>\n",
       "      <td>0.351911</td>\n",
       "      <td>0.388062</td>\n",
       "      <td>-0.835415</td>\n",
       "      <td>0.068941</td>\n",
       "      <td>0.867273</td>\n",
       "      <td>-0.001948</td>\n",
       "      <td>-0.082643</td>\n",
       "      <td>...</td>\n",
       "      <td>0.503530</td>\n",
       "      <td>-0.413901</td>\n",
       "      <td>-0.038112</td>\n",
       "      <td>-0.066762</td>\n",
       "      <td>0.358489</td>\n",
       "      <td>0.580582</td>\n",
       "      <td>-0.461086</td>\n",
       "      <td>-0.449793</td>\n",
       "      <td>0.301751</td>\n",
       "      <td>-0.086144</td>\n",
       "    </tr>\n",
       "  </tbody>\n",
       "</table>\n",
       "<p>5 rows × 34 columns</p>\n",
       "</div>"
      ],
      "text/plain": [
       "   Sale_id   bbl_id         0         1         2         3         4  \\\n",
       "0        1  2290528  0.141194  0.421060  0.466694 -0.989387  0.091223   \n",
       "1        2  2290528  0.141194  0.421060  0.466694 -0.989387  0.091223   \n",
       "2        3   230352  0.114756  0.350338  0.387500 -0.834070  0.063190   \n",
       "3        4  2303936  0.114901  0.351911  0.388062 -0.835415  0.068941   \n",
       "4        5  2303936  0.114901  0.351911  0.388062 -0.835415  0.068941   \n",
       "\n",
       "          5         6         7  ...        22        23        24        25  \\\n",
       "0  1.033919 -0.001966 -0.098034  ...  0.600213 -0.493792 -0.047002 -0.092415   \n",
       "1  1.033919 -0.001966 -0.098034  ...  0.600213 -0.493792 -0.047002 -0.092415   \n",
       "2  0.863413 -0.001232 -0.084781  ...  0.502646 -0.414158 -0.037535 -0.060672   \n",
       "3  0.867273 -0.001948 -0.082643  ...  0.503530 -0.413901 -0.038112 -0.066762   \n",
       "4  0.867273 -0.001948 -0.082643  ...  0.503530 -0.413901 -0.038112 -0.066762   \n",
       "\n",
       "         26        27        28        29        30        31  \n",
       "0  0.427163  0.688372 -0.549481 -0.538056  0.358792 -0.103146  \n",
       "1  0.427163  0.688372 -0.549481 -0.538056  0.358792 -0.103146  \n",
       "2  0.358382  0.585332 -0.458778 -0.447776  0.301268 -0.086599  \n",
       "3  0.358489  0.580582 -0.461086 -0.449793  0.301751 -0.086144  \n",
       "4  0.358489  0.580582 -0.461086 -0.449793  0.301751 -0.086144  \n",
       "\n",
       "[5 rows x 34 columns]"
      ]
     },
     "execution_count": 308,
     "metadata": {},
     "output_type": "execute_result"
    }
   ],
   "source": [
    "df3.head()"
   ]
  },
  {
   "cell_type": "code",
   "execution_count": 310,
   "metadata": {},
   "outputs": [
    {
     "data": {
      "text/html": [
       "<div>\n",
       "<style scoped>\n",
       "    .dataframe tbody tr th:only-of-type {\n",
       "        vertical-align: middle;\n",
       "    }\n",
       "\n",
       "    .dataframe tbody tr th {\n",
       "        vertical-align: top;\n",
       "    }\n",
       "\n",
       "    .dataframe thead th {\n",
       "        text-align: right;\n",
       "    }\n",
       "</style>\n",
       "<table border=\"1\" class=\"dataframe\">\n",
       "  <thead>\n",
       "    <tr style=\"text-align: right;\">\n",
       "      <th></th>\n",
       "      <th>Unnamed: 0</th>\n",
       "      <th>Sale_id_x</th>\n",
       "      <th>bbl_id</th>\n",
       "      <th>year</th>\n",
       "      <th>borough</th>\n",
       "      <th>bldg_ctgy</th>\n",
       "      <th>tax_cls_p</th>\n",
       "      <th>block</th>\n",
       "      <th>lot</th>\n",
       "      <th>easmnt</th>\n",
       "      <th>...</th>\n",
       "      <th>22</th>\n",
       "      <th>23</th>\n",
       "      <th>24</th>\n",
       "      <th>25</th>\n",
       "      <th>26</th>\n",
       "      <th>27</th>\n",
       "      <th>28</th>\n",
       "      <th>29</th>\n",
       "      <th>30</th>\n",
       "      <th>31</th>\n",
       "    </tr>\n",
       "  </thead>\n",
       "  <tbody>\n",
       "    <tr>\n",
       "      <th>0</th>\n",
       "      <td>0</td>\n",
       "      <td>1</td>\n",
       "      <td>2290528</td>\n",
       "      <td>2015</td>\n",
       "      <td>2</td>\n",
       "      <td>01  ONE FAMILY DWELLINGS</td>\n",
       "      <td>1</td>\n",
       "      <td>2905</td>\n",
       "      <td>28</td>\n",
       "      <td>NaN</td>\n",
       "      <td>...</td>\n",
       "      <td>0.600213</td>\n",
       "      <td>-0.493792</td>\n",
       "      <td>-0.047002</td>\n",
       "      <td>-0.092415</td>\n",
       "      <td>0.427163</td>\n",
       "      <td>0.688372</td>\n",
       "      <td>-0.549481</td>\n",
       "      <td>-0.538056</td>\n",
       "      <td>0.358792</td>\n",
       "      <td>-0.103146</td>\n",
       "    </tr>\n",
       "    <tr>\n",
       "      <th>1</th>\n",
       "      <td>0</td>\n",
       "      <td>1</td>\n",
       "      <td>2290528</td>\n",
       "      <td>2015</td>\n",
       "      <td>2</td>\n",
       "      <td>01  ONE FAMILY DWELLINGS</td>\n",
       "      <td>1</td>\n",
       "      <td>2905</td>\n",
       "      <td>28</td>\n",
       "      <td>NaN</td>\n",
       "      <td>...</td>\n",
       "      <td>0.600213</td>\n",
       "      <td>-0.493792</td>\n",
       "      <td>-0.047002</td>\n",
       "      <td>-0.092415</td>\n",
       "      <td>0.427163</td>\n",
       "      <td>0.688372</td>\n",
       "      <td>-0.549481</td>\n",
       "      <td>-0.538056</td>\n",
       "      <td>0.358792</td>\n",
       "      <td>-0.103146</td>\n",
       "    </tr>\n",
       "    <tr>\n",
       "      <th>2</th>\n",
       "      <td>1</td>\n",
       "      <td>2</td>\n",
       "      <td>2290528</td>\n",
       "      <td>2015</td>\n",
       "      <td>2</td>\n",
       "      <td>01  ONE FAMILY DWELLINGS</td>\n",
       "      <td>1</td>\n",
       "      <td>2905</td>\n",
       "      <td>28</td>\n",
       "      <td>NaN</td>\n",
       "      <td>...</td>\n",
       "      <td>0.600213</td>\n",
       "      <td>-0.493792</td>\n",
       "      <td>-0.047002</td>\n",
       "      <td>-0.092415</td>\n",
       "      <td>0.427163</td>\n",
       "      <td>0.688372</td>\n",
       "      <td>-0.549481</td>\n",
       "      <td>-0.538056</td>\n",
       "      <td>0.358792</td>\n",
       "      <td>-0.103146</td>\n",
       "    </tr>\n",
       "    <tr>\n",
       "      <th>3</th>\n",
       "      <td>1</td>\n",
       "      <td>2</td>\n",
       "      <td>2290528</td>\n",
       "      <td>2015</td>\n",
       "      <td>2</td>\n",
       "      <td>01  ONE FAMILY DWELLINGS</td>\n",
       "      <td>1</td>\n",
       "      <td>2905</td>\n",
       "      <td>28</td>\n",
       "      <td>NaN</td>\n",
       "      <td>...</td>\n",
       "      <td>0.600213</td>\n",
       "      <td>-0.493792</td>\n",
       "      <td>-0.047002</td>\n",
       "      <td>-0.092415</td>\n",
       "      <td>0.427163</td>\n",
       "      <td>0.688372</td>\n",
       "      <td>-0.549481</td>\n",
       "      <td>-0.538056</td>\n",
       "      <td>0.358792</td>\n",
       "      <td>-0.103146</td>\n",
       "    </tr>\n",
       "    <tr>\n",
       "      <th>4</th>\n",
       "      <td>2</td>\n",
       "      <td>3</td>\n",
       "      <td>230352</td>\n",
       "      <td>2015</td>\n",
       "      <td>2</td>\n",
       "      <td>01  ONE FAMILY DWELLINGS</td>\n",
       "      <td>1</td>\n",
       "      <td>3035</td>\n",
       "      <td>2</td>\n",
       "      <td>NaN</td>\n",
       "      <td>...</td>\n",
       "      <td>0.502646</td>\n",
       "      <td>-0.414158</td>\n",
       "      <td>-0.037535</td>\n",
       "      <td>-0.060672</td>\n",
       "      <td>0.358382</td>\n",
       "      <td>0.585332</td>\n",
       "      <td>-0.458778</td>\n",
       "      <td>-0.447776</td>\n",
       "      <td>0.301268</td>\n",
       "      <td>-0.086599</td>\n",
       "    </tr>\n",
       "    <tr>\n",
       "      <th>...</th>\n",
       "      <td>...</td>\n",
       "      <td>...</td>\n",
       "      <td>...</td>\n",
       "      <td>...</td>\n",
       "      <td>...</td>\n",
       "      <td>...</td>\n",
       "      <td>...</td>\n",
       "      <td>...</td>\n",
       "      <td>...</td>\n",
       "      <td>...</td>\n",
       "      <td>...</td>\n",
       "      <td>...</td>\n",
       "      <td>...</td>\n",
       "      <td>...</td>\n",
       "      <td>...</td>\n",
       "      <td>...</td>\n",
       "      <td>...</td>\n",
       "      <td>...</td>\n",
       "      <td>...</td>\n",
       "      <td>...</td>\n",
       "      <td>...</td>\n",
       "    </tr>\n",
       "    <tr>\n",
       "      <th>5138075</th>\n",
       "      <td>84763</td>\n",
       "      <td>84764</td>\n",
       "      <td>5731616</td>\n",
       "      <td>2015</td>\n",
       "      <td>5</td>\n",
       "      <td>02  TWO FAMILY DWELLINGS</td>\n",
       "      <td>1</td>\n",
       "      <td>7316</td>\n",
       "      <td>16</td>\n",
       "      <td>NaN</td>\n",
       "      <td>...</td>\n",
       "      <td>0.382556</td>\n",
       "      <td>-0.321290</td>\n",
       "      <td>-0.030361</td>\n",
       "      <td>0.090807</td>\n",
       "      <td>0.282376</td>\n",
       "      <td>0.503989</td>\n",
       "      <td>-0.333753</td>\n",
       "      <td>-0.315923</td>\n",
       "      <td>0.223577</td>\n",
       "      <td>-0.056866</td>\n",
       "    </tr>\n",
       "    <tr>\n",
       "      <th>5138076</th>\n",
       "      <td>84764</td>\n",
       "      <td>84765</td>\n",
       "      <td>5731693</td>\n",
       "      <td>2015</td>\n",
       "      <td>5</td>\n",
       "      <td>02  TWO FAMILY DWELLINGS</td>\n",
       "      <td>1</td>\n",
       "      <td>7316</td>\n",
       "      <td>93</td>\n",
       "      <td>NaN</td>\n",
       "      <td>...</td>\n",
       "      <td>0.336716</td>\n",
       "      <td>-0.284883</td>\n",
       "      <td>-0.027575</td>\n",
       "      <td>0.111349</td>\n",
       "      <td>0.251931</td>\n",
       "      <td>0.450911</td>\n",
       "      <td>-0.290490</td>\n",
       "      <td>-0.273913</td>\n",
       "      <td>0.191676</td>\n",
       "      <td>-0.046153</td>\n",
       "    </tr>\n",
       "    <tr>\n",
       "      <th>5138077</th>\n",
       "      <td>84765</td>\n",
       "      <td>84766</td>\n",
       "      <td>5734612</td>\n",
       "      <td>2015</td>\n",
       "      <td>5</td>\n",
       "      <td>02  TWO FAMILY DWELLINGS</td>\n",
       "      <td>1</td>\n",
       "      <td>7346</td>\n",
       "      <td>12</td>\n",
       "      <td>NaN</td>\n",
       "      <td>...</td>\n",
       "      <td>0.294367</td>\n",
       "      <td>-0.253488</td>\n",
       "      <td>-0.022022</td>\n",
       "      <td>0.192524</td>\n",
       "      <td>0.226674</td>\n",
       "      <td>0.429164</td>\n",
       "      <td>-0.244548</td>\n",
       "      <td>-0.223428</td>\n",
       "      <td>0.160768</td>\n",
       "      <td>-0.032834</td>\n",
       "    </tr>\n",
       "    <tr>\n",
       "      <th>5138078</th>\n",
       "      <td>84766</td>\n",
       "      <td>84767</td>\n",
       "      <td>5734975</td>\n",
       "      <td>2015</td>\n",
       "      <td>5</td>\n",
       "      <td>02  TWO FAMILY DWELLINGS</td>\n",
       "      <td>1</td>\n",
       "      <td>7349</td>\n",
       "      <td>75</td>\n",
       "      <td>NaN</td>\n",
       "      <td>...</td>\n",
       "      <td>0.344033</td>\n",
       "      <td>-0.291305</td>\n",
       "      <td>-0.025658</td>\n",
       "      <td>0.129233</td>\n",
       "      <td>0.257202</td>\n",
       "      <td>0.475105</td>\n",
       "      <td>-0.295602</td>\n",
       "      <td>-0.276392</td>\n",
       "      <td>0.200034</td>\n",
       "      <td>-0.048457</td>\n",
       "    </tr>\n",
       "    <tr>\n",
       "      <th>5138079</th>\n",
       "      <td>84767</td>\n",
       "      <td>84768</td>\n",
       "      <td>5692678</td>\n",
       "      <td>2015</td>\n",
       "      <td>5</td>\n",
       "      <td>05  TAX CLASS 1 VACANT LAND</td>\n",
       "      <td>1B</td>\n",
       "      <td>6926</td>\n",
       "      <td>78</td>\n",
       "      <td>NaN</td>\n",
       "      <td>...</td>\n",
       "      <td>0.432921</td>\n",
       "      <td>-0.362785</td>\n",
       "      <td>-0.032462</td>\n",
       "      <td>0.109701</td>\n",
       "      <td>0.318225</td>\n",
       "      <td>0.582122</td>\n",
       "      <td>-0.376836</td>\n",
       "      <td>-0.355241</td>\n",
       "      <td>0.258439</td>\n",
       "      <td>-0.066505</td>\n",
       "    </tr>\n",
       "  </tbody>\n",
       "</table>\n",
       "<p>5138080 rows × 60 columns</p>\n",
       "</div>"
      ],
      "text/plain": [
       "         Unnamed: 0  Sale_id_x   bbl_id  year  borough  \\\n",
       "0                 0          1  2290528  2015        2   \n",
       "1                 0          1  2290528  2015        2   \n",
       "2                 1          2  2290528  2015        2   \n",
       "3                 1          2  2290528  2015        2   \n",
       "4                 2          3   230352  2015        2   \n",
       "...             ...        ...      ...   ...      ...   \n",
       "5138075       84763      84764  5731616  2015        5   \n",
       "5138076       84764      84765  5731693  2015        5   \n",
       "5138077       84765      84766  5734612  2015        5   \n",
       "5138078       84766      84767  5734975  2015        5   \n",
       "5138079       84767      84768  5692678  2015        5   \n",
       "\n",
       "                           bldg_ctgy tax_cls_p  block  lot easmnt  ...  \\\n",
       "0           01  ONE FAMILY DWELLINGS         1   2905   28    NaN  ...   \n",
       "1           01  ONE FAMILY DWELLINGS         1   2905   28    NaN  ...   \n",
       "2           01  ONE FAMILY DWELLINGS         1   2905   28    NaN  ...   \n",
       "3           01  ONE FAMILY DWELLINGS         1   2905   28    NaN  ...   \n",
       "4           01  ONE FAMILY DWELLINGS         1   3035    2    NaN  ...   \n",
       "...                              ...       ...    ...  ...    ...  ...   \n",
       "5138075     02  TWO FAMILY DWELLINGS         1   7316   16    NaN  ...   \n",
       "5138076     02  TWO FAMILY DWELLINGS         1   7316   93    NaN  ...   \n",
       "5138077     02  TWO FAMILY DWELLINGS         1   7346   12    NaN  ...   \n",
       "5138078     02  TWO FAMILY DWELLINGS         1   7349   75    NaN  ...   \n",
       "5138079  05  TAX CLASS 1 VACANT LAND        1B   6926   78    NaN  ...   \n",
       "\n",
       "               22        23        24        25        26        27        28  \\\n",
       "0        0.600213 -0.493792 -0.047002 -0.092415  0.427163  0.688372 -0.549481   \n",
       "1        0.600213 -0.493792 -0.047002 -0.092415  0.427163  0.688372 -0.549481   \n",
       "2        0.600213 -0.493792 -0.047002 -0.092415  0.427163  0.688372 -0.549481   \n",
       "3        0.600213 -0.493792 -0.047002 -0.092415  0.427163  0.688372 -0.549481   \n",
       "4        0.502646 -0.414158 -0.037535 -0.060672  0.358382  0.585332 -0.458778   \n",
       "...           ...       ...       ...       ...       ...       ...       ...   \n",
       "5138075  0.382556 -0.321290 -0.030361  0.090807  0.282376  0.503989 -0.333753   \n",
       "5138076  0.336716 -0.284883 -0.027575  0.111349  0.251931  0.450911 -0.290490   \n",
       "5138077  0.294367 -0.253488 -0.022022  0.192524  0.226674  0.429164 -0.244548   \n",
       "5138078  0.344033 -0.291305 -0.025658  0.129233  0.257202  0.475105 -0.295602   \n",
       "5138079  0.432921 -0.362785 -0.032462  0.109701  0.318225  0.582122 -0.376836   \n",
       "\n",
       "               29        30        31  \n",
       "0       -0.538056  0.358792 -0.103146  \n",
       "1       -0.538056  0.358792 -0.103146  \n",
       "2       -0.538056  0.358792 -0.103146  \n",
       "3       -0.538056  0.358792 -0.103146  \n",
       "4       -0.447776  0.301268 -0.086599  \n",
       "...           ...       ...       ...  \n",
       "5138075 -0.315923  0.223577 -0.056866  \n",
       "5138076 -0.273913  0.191676 -0.046153  \n",
       "5138077 -0.223428  0.160768 -0.032834  \n",
       "5138078 -0.276392  0.200034 -0.048457  \n",
       "5138079 -0.355241  0.258439 -0.066505  \n",
       "\n",
       "[5138080 rows x 60 columns]"
      ]
     },
     "execution_count": 310,
     "metadata": {},
     "output_type": "execute_result"
    }
   ],
   "source": [
    "df2.merge(df3, on=['bbl_id'])"
   ]
  }
 ],
 "metadata": {
  "kernelspec": {
   "display_name": "Python 3",
   "language": "python",
   "name": "python3"
  },
  "language_info": {
   "codemirror_mode": {
    "name": "ipython",
    "version": 3
   },
   "file_extension": ".py",
   "mimetype": "text/x-python",
   "name": "python",
   "nbconvert_exporter": "python",
   "pygments_lexer": "ipython3",
   "version": "3.8.3"
  }
 },
 "nbformat": 4,
 "nbformat_minor": 4
}
