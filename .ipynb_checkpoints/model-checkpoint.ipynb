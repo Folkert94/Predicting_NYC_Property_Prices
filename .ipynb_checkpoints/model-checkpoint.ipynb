{
 "cells": [
  {
   "cell_type": "code",
   "execution_count": 1,
   "metadata": {},
   "outputs": [
    {
     "name": "stderr",
     "output_type": "stream",
     "text": [
      "C:\\Users\\folke\\anaconda3\\lib\\site-packages\\sklearn\\utils\\deprecation.py:143: FutureWarning: The sklearn.preprocessing.data module is  deprecated in version 0.22 and will be removed in version 0.24. The corresponding classes / functions should instead be imported from sklearn.preprocessing. Anything that cannot be imported from sklearn.preprocessing is now part of the private API.\n",
      "  warnings.warn(message, FutureWarning)\n"
     ]
    },
    {
     "name": "stdout",
     "output_type": "stream",
     "text": [
      "<class 'pandas.core.frame.DataFrame'>\n",
      "RangeIndex: 84768 entries, 0 to 84767\n",
      "Data columns (total 27 columns):\n",
      " #   Column      Non-Null Count  Dtype  \n",
      "---  ------      --------------  -----  \n",
      " 0   Unnamed: 0  84768 non-null  int64  \n",
      " 1   Sale_id     84768 non-null  int64  \n",
      " 2   bbl_id      84768 non-null  int64  \n",
      " 3   year        84768 non-null  int64  \n",
      " 4   borough     84768 non-null  int64  \n",
      " 5   bldg_ctgy   84768 non-null  object \n",
      " 6   tax_cls_p   84765 non-null  object \n",
      " 7   block       84768 non-null  int64  \n",
      " 8   lot         84768 non-null  int64  \n",
      " 9   easmnt      1 non-null      object \n",
      " 10  bldg_cls_p  84765 non-null  object \n",
      " 11  address     84768 non-null  object \n",
      " 12  apt         20983 non-null  object \n",
      " 13  zip         84768 non-null  int64  \n",
      " 14  res_unit    84768 non-null  int64  \n",
      " 15  com_unit    84768 non-null  int64  \n",
      " 16  tot_unit    84768 non-null  int64  \n",
      " 17  land_sqft   84768 non-null  int64  \n",
      " 18  tot_sqft    84768 non-null  int64  \n",
      " 19  yr_built    84768 non-null  int64  \n",
      " 20  tax_cls_s   84768 non-null  int64  \n",
      " 21  bldg_cls_s  84768 non-null  object \n",
      " 22  sale_date   84768 non-null  object \n",
      " 23  price       84768 non-null  int64  \n",
      " 24  usable      84768 non-null  object \n",
      " 25  long        84768 non-null  float64\n",
      " 26  lat         84768 non-null  float64\n",
      "dtypes: float64(2), int64(16), object(9)\n",
      "memory usage: 17.5+ MB\n"
     ]
    },
    {
     "name": "stderr",
     "output_type": "stream",
     "text": [
      "C:\\Users\\folke\\anaconda3\\lib\\site-packages\\IPython\\core\\interactiveshell.py:3071: DtypeWarning: Columns (9) have mixed types.Specify dtype option on import or set low_memory=False.\n",
      "  has_raised = await self.run_ast_nodes(code_ast.body, cell_name,\n"
     ]
    }
   ],
   "source": [
    "# import all libraries\n",
    "import numpy as np\n",
    "import pandas as pd\n",
    "import matplotlib.pyplot as plt \n",
    "import seaborn as sns\n",
    "import re\n",
    "\n",
    "import sklearn\n",
    "from sklearn.model_selection import train_test_split\n",
    "from sklearn.preprocessing import MinMaxScaler\n",
    "from sklearn.preprocessing import PolynomialFeatures\n",
    "from sklearn.preprocessing import scale\n",
    "from sklearn.feature_selection import RFE\n",
    "from sklearn import model_selection\n",
    "from sklearn.linear_model import LinearRegression, LogisticRegression, Ridge, Lasso \n",
    "from sklearn.model_selection import cross_val_score\n",
    "from sklearn.model_selection import KFold\n",
    "from sklearn.model_selection import GridSearchCV\n",
    "from sklearn.pipeline import make_pipeline\n",
    "from sklearn.metrics import r2_score\n",
    "from sklearn.metrics import mean_absolute_error\n",
    "from sklearn.metrics import classification_report\n",
    "\n",
    "from sklearn.preprocessing import Normalizer,StandardScaler\n",
    "from sklearn.preprocessing.data import normalize\n",
    "\n",
    "from statistics import mean \n",
    "\n",
    "df = pd.read_csv(\"sales_data_2015.csv\")\n",
    "df.info()"
   ]
  },
  {
   "cell_type": "code",
   "execution_count": 2,
   "metadata": {
    "scrolled": false
   },
   "outputs": [
    {
     "data": {
      "text/html": [
       "<div>\n",
       "<style scoped>\n",
       "    .dataframe tbody tr th:only-of-type {\n",
       "        vertical-align: middle;\n",
       "    }\n",
       "\n",
       "    .dataframe tbody tr th {\n",
       "        vertical-align: top;\n",
       "    }\n",
       "\n",
       "    .dataframe thead th {\n",
       "        text-align: right;\n",
       "    }\n",
       "</style>\n",
       "<table border=\"1\" class=\"dataframe\">\n",
       "  <thead>\n",
       "    <tr style=\"text-align: right;\">\n",
       "      <th></th>\n",
       "      <th>Unnamed: 0</th>\n",
       "      <th>Sale_id</th>\n",
       "      <th>bbl_id</th>\n",
       "      <th>year</th>\n",
       "      <th>borough</th>\n",
       "      <th>bldg_ctgy</th>\n",
       "      <th>tax_cls_p</th>\n",
       "      <th>block</th>\n",
       "      <th>lot</th>\n",
       "      <th>easmnt</th>\n",
       "      <th>...</th>\n",
       "      <th>land_sqft</th>\n",
       "      <th>tot_sqft</th>\n",
       "      <th>yr_built</th>\n",
       "      <th>tax_cls_s</th>\n",
       "      <th>bldg_cls_s</th>\n",
       "      <th>sale_date</th>\n",
       "      <th>price</th>\n",
       "      <th>usable</th>\n",
       "      <th>long</th>\n",
       "      <th>lat</th>\n",
       "    </tr>\n",
       "  </thead>\n",
       "  <tbody>\n",
       "    <tr>\n",
       "      <th>0</th>\n",
       "      <td>0</td>\n",
       "      <td>1</td>\n",
       "      <td>2290528</td>\n",
       "      <td>2015</td>\n",
       "      <td>2</td>\n",
       "      <td>01  ONE FAMILY DWELLINGS</td>\n",
       "      <td>1</td>\n",
       "      <td>2905</td>\n",
       "      <td>28</td>\n",
       "      <td>NaN</td>\n",
       "      <td>...</td>\n",
       "      <td>4750</td>\n",
       "      <td>2619</td>\n",
       "      <td>1899</td>\n",
       "      <td>1</td>\n",
       "      <td>A9</td>\n",
       "      <td>08-07-15</td>\n",
       "      <td>0</td>\n",
       "      <td>N</td>\n",
       "      <td>-73.901338</td>\n",
       "      <td>40.841229</td>\n",
       "    </tr>\n",
       "    <tr>\n",
       "      <th>1</th>\n",
       "      <td>1</td>\n",
       "      <td>2</td>\n",
       "      <td>2290528</td>\n",
       "      <td>2015</td>\n",
       "      <td>2</td>\n",
       "      <td>01  ONE FAMILY DWELLINGS</td>\n",
       "      <td>1</td>\n",
       "      <td>2905</td>\n",
       "      <td>28</td>\n",
       "      <td>NaN</td>\n",
       "      <td>...</td>\n",
       "      <td>4750</td>\n",
       "      <td>2619</td>\n",
       "      <td>1899</td>\n",
       "      <td>1</td>\n",
       "      <td>A9</td>\n",
       "      <td>08-07-15</td>\n",
       "      <td>0</td>\n",
       "      <td>N</td>\n",
       "      <td>-73.901338</td>\n",
       "      <td>40.841229</td>\n",
       "    </tr>\n",
       "    <tr>\n",
       "      <th>2</th>\n",
       "      <td>2</td>\n",
       "      <td>3</td>\n",
       "      <td>230352</td>\n",
       "      <td>2015</td>\n",
       "      <td>2</td>\n",
       "      <td>01  ONE FAMILY DWELLINGS</td>\n",
       "      <td>1</td>\n",
       "      <td>3035</td>\n",
       "      <td>2</td>\n",
       "      <td>NaN</td>\n",
       "      <td>...</td>\n",
       "      <td>1287</td>\n",
       "      <td>2528</td>\n",
       "      <td>1899</td>\n",
       "      <td>1</td>\n",
       "      <td>S1</td>\n",
       "      <td>12/18/2015</td>\n",
       "      <td>0</td>\n",
       "      <td>N</td>\n",
       "      <td>-73.898331</td>\n",
       "      <td>40.848648</td>\n",
       "    </tr>\n",
       "    <tr>\n",
       "      <th>3</th>\n",
       "      <td>3</td>\n",
       "      <td>4</td>\n",
       "      <td>2303936</td>\n",
       "      <td>2015</td>\n",
       "      <td>2</td>\n",
       "      <td>01  ONE FAMILY DWELLINGS</td>\n",
       "      <td>1</td>\n",
       "      <td>3039</td>\n",
       "      <td>36</td>\n",
       "      <td>NaN</td>\n",
       "      <td>...</td>\n",
       "      <td>2500</td>\n",
       "      <td>2452</td>\n",
       "      <td>1910</td>\n",
       "      <td>1</td>\n",
       "      <td>S1</td>\n",
       "      <td>08/18/2015</td>\n",
       "      <td>0</td>\n",
       "      <td>N</td>\n",
       "      <td>-73.893338</td>\n",
       "      <td>40.856136</td>\n",
       "    </tr>\n",
       "    <tr>\n",
       "      <th>4</th>\n",
       "      <td>4</td>\n",
       "      <td>5</td>\n",
       "      <td>2303936</td>\n",
       "      <td>2015</td>\n",
       "      <td>2</td>\n",
       "      <td>01  ONE FAMILY DWELLINGS</td>\n",
       "      <td>1</td>\n",
       "      <td>3039</td>\n",
       "      <td>36</td>\n",
       "      <td>NaN</td>\n",
       "      <td>...</td>\n",
       "      <td>2500</td>\n",
       "      <td>2452</td>\n",
       "      <td>1910</td>\n",
       "      <td>1</td>\n",
       "      <td>S1</td>\n",
       "      <td>07-01-15</td>\n",
       "      <td>400000</td>\n",
       "      <td>Y</td>\n",
       "      <td>-73.893338</td>\n",
       "      <td>40.856136</td>\n",
       "    </tr>\n",
       "  </tbody>\n",
       "</table>\n",
       "<p>5 rows × 27 columns</p>\n",
       "</div>"
      ],
      "text/plain": [
       "   Unnamed: 0  Sale_id   bbl_id  year  borough                 bldg_ctgy  \\\n",
       "0           0        1  2290528  2015        2  01  ONE FAMILY DWELLINGS   \n",
       "1           1        2  2290528  2015        2  01  ONE FAMILY DWELLINGS   \n",
       "2           2        3   230352  2015        2  01  ONE FAMILY DWELLINGS   \n",
       "3           3        4  2303936  2015        2  01  ONE FAMILY DWELLINGS   \n",
       "4           4        5  2303936  2015        2  01  ONE FAMILY DWELLINGS   \n",
       "\n",
       "  tax_cls_p  block  lot easmnt  ... land_sqft tot_sqft yr_built  tax_cls_s  \\\n",
       "0         1   2905   28    NaN  ...      4750     2619     1899          1   \n",
       "1         1   2905   28    NaN  ...      4750     2619     1899          1   \n",
       "2         1   3035    2    NaN  ...      1287     2528     1899          1   \n",
       "3         1   3039   36    NaN  ...      2500     2452     1910          1   \n",
       "4         1   3039   36    NaN  ...      2500     2452     1910          1   \n",
       "\n",
       "   bldg_cls_s   sale_date   price  usable       long        lat  \n",
       "0          A9    08-07-15       0       N -73.901338  40.841229  \n",
       "1          A9    08-07-15       0       N -73.901338  40.841229  \n",
       "2          S1  12/18/2015       0       N -73.898331  40.848648  \n",
       "3          S1  08/18/2015       0       N -73.893338  40.856136  \n",
       "4          S1    07-01-15  400000       Y -73.893338  40.856136  \n",
       "\n",
       "[5 rows x 27 columns]"
      ]
     },
     "execution_count": 2,
     "metadata": {},
     "output_type": "execute_result"
    }
   ],
   "source": [
    "df.head()"
   ]
  },
  {
   "cell_type": "code",
   "execution_count": 3,
   "metadata": {},
   "outputs": [
    {
     "data": {
      "text/plain": [
       "Index(['Unnamed: 0', 'Sale_id', 'bbl_id', 'year', 'borough', 'bldg_ctgy',\n",
       "       'tax_cls_p', 'block', 'lot', 'easmnt', 'bldg_cls_p', 'address', 'apt',\n",
       "       'zip', 'res_unit', 'com_unit', 'tot_unit', 'land_sqft', 'tot_sqft',\n",
       "       'yr_built', 'tax_cls_s', 'bldg_cls_s', 'sale_date', 'price', 'usable',\n",
       "       'long', 'lat'],\n",
       "      dtype='object')"
      ]
     },
     "execution_count": 3,
     "metadata": {},
     "output_type": "execute_result"
    }
   ],
   "source": [
    "df.columns"
   ]
  },
  {
   "cell_type": "code",
   "execution_count": 4,
   "metadata": {},
   "outputs": [],
   "source": [
    "# cleaning option 1\n",
    "# df2 = df[['borough', 'bldg_cls_p', 'tax_cls_p', 'tot_sqft', 'land_sqft', 'tot_unit', 'res_unit', 'com_unit', 'price']]\n",
    "# df2 = df2[(df2.tot_sqft != 0) & (df2.tot_sqft != 1) & (df2.price >= 100) & (df2.land_sqft != 0)]\n",
    "\n",
    "# df2.dropna(subset = [\"bldg_cls_p\"], inplace=True)\n",
    "# df2.dropna(subset = [\"tax_cls_p\"], inplace=True)\n",
    "\n",
    "# print(\"Length of dataset is {}\".format(len(df2)))\n",
    "\n",
    "# def bldg_cls_simple(building):\n",
    "#     return building[0]\n",
    "\n",
    "# def tax_cls_simple(building):\n",
    "#     return building[0]\n",
    "\n",
    "# df2['cat'] = df2.bldg_cls_p.apply(lambda building: bldg_cls_simple(str(building)))\n",
    "# df2['tax_cat'] = df2.tax_cls_p.apply(lambda building: tax_cls_simple(str(building)))\n",
    "\n",
    "# # df2 = pd.concat([df2, pd.get_dummies(df2.tax_cls_p)], axis=1)\n",
    "# df2 = pd.concat([df2, pd.get_dummies(df2.cat)], axis=1)\n",
    "# df2 = pd.concat([df2, pd.get_dummies(df2.tax_cat)], axis=1)\n",
    "# df2 = pd.concat([df2, pd.get_dummies(df2.borough, prefix=\"b\")], axis=1)\n",
    "\n",
    "# df2 = df2.drop(columns=['bldg_cls_p', 'borough', 'tax_cls_p', 'cat', 'tax_cat'])"
   ]
  },
  {
   "cell_type": "code",
   "execution_count": 5,
   "metadata": {},
   "outputs": [
    {
     "name": "stdout",
     "output_type": "stream",
     "text": [
      "Length of dataset is 28070\n"
     ]
    }
   ],
   "source": [
    "# cleaning option 2 (all possible features)\n",
    "df2 = df[['borough', 'bldg_cls_p', 'tax_cls_p','bldg_cls_s', 'tax_cls_s', 'tot_sqft', 'land_sqft', 'tot_unit', 'res_unit', 'com_unit', 'price']]\n",
    "df2 = df2[(df2.tot_sqft != 0) & (df2.tot_sqft != 1) & (df2.price >= 100) & (df2.land_sqft != 0)]\n",
    "\n",
    "df2.dropna(subset = [\"bldg_cls_p\"], inplace=True)\n",
    "df2.dropna(subset = [\"tax_cls_p\"], inplace=True)\n",
    "\n",
    "print(\"Length of dataset is {}\".format(len(df2)))\n",
    "\n",
    "df2 = pd.concat([df2, pd.get_dummies(df2.tax_cls_p, prefix=\"tax_cls_p\")], axis=1)\n",
    "df2 = pd.concat([df2, pd.get_dummies(df2.bldg_cls_p, prefix=\"bdgp_cls_p\")], axis=1)\n",
    "df2 = pd.concat([df2, pd.get_dummies(df2.tax_cls_s, prefix=\"tax_cls_s\")], axis=1)\n",
    "df2 = pd.concat([df2, pd.get_dummies(df2.bldg_cls_s, prefix=\"bdgp_cls_s\")], axis=1)\n",
    "df2 = pd.concat([df2, pd.get_dummies(df2.borough, prefix=\"b\")], axis=1)\n",
    "\n",
    "df2 = df2.drop(columns=['borough', 'bldg_cls_p', 'tax_cls_p','bldg_cls_s'])"
   ]
  },
  {
   "cell_type": "code",
   "execution_count": 6,
   "metadata": {},
   "outputs": [
    {
     "data": {
      "text/plain": [
       "290"
      ]
     },
     "execution_count": 6,
     "metadata": {},
     "output_type": "execute_result"
    }
   ],
   "source": [
    "len(df2.columns)"
   ]
  },
  {
   "cell_type": "code",
   "execution_count": 7,
   "metadata": {},
   "outputs": [
    {
     "name": "stdout",
     "output_type": "stream",
     "text": [
      "(28070, 289) (28070,)\n"
     ]
    }
   ],
   "source": [
    "X = df2.drop(columns=['price'])\n",
    "Y = df2.price\n",
    "Y = np.array(Y).reshape(-1)\n",
    "print(X.shape,Y.shape)"
   ]
  },
  {
   "cell_type": "code",
   "execution_count": 8,
   "metadata": {},
   "outputs": [],
   "source": [
    "# for column in X.columns:\n",
    "#     corry = np.corrcoef(Y, X[\"{}\".format(column)])[0][1]\n",
    "#     if corry < 0.1 and corry > -0.1:\n",
    "#         print(\"removed column {0}, because {1}\".format(column, corry))\n",
    "#         X = X.drop(columns=[column])"
   ]
  },
  {
   "cell_type": "code",
   "execution_count": 11,
   "metadata": {},
   "outputs": [
    {
     "name": "stdout",
     "output_type": "stream",
     "text": [
      "(22456, 289) (5614, 289)\n"
     ]
    },
    {
     "data": {
      "text/plain": [
       "GridSearchCV(estimator=Lasso(normalize=True, tol=1.0),\n",
       "             param_grid={'alpha': [0.01, 0.06210526315789474,\n",
       "                                   0.11421052631578947, 0.16631578947368422,\n",
       "                                   0.21842105263157896, 0.2705263157894737,\n",
       "                                   0.32263157894736844, 0.37473684210526315,\n",
       "                                   0.4268421052631579, 0.4789473684210527,\n",
       "                                   0.5310526315789474, 0.5831578947368421,\n",
       "                                   0.6352631578947369, 0.6873684210526316,\n",
       "                                   0.7394736842105263, 0.791578947368421,\n",
       "                                   0.8436842105263158, 0.8957894736842106,\n",
       "                                   0.9478947368421053, 1.0]})"
      ]
     },
     "execution_count": 11,
     "metadata": {},
     "output_type": "execute_result"
    }
   ],
   "source": [
    "from sklearn import linear_model\n",
    "\n",
    "# X = Normalizer().fit_transform(X)\n",
    "# X = StandardScaler().fit_transform(X)\n",
    "\n",
    "parameters = {'alpha': list(np.linspace(0.01, 1, 20))}\n",
    "\n",
    "X_train, X_test, y_train, y_test = train_test_split(X, Y, test_size = .20, random_state=40)\n",
    "print(X_train.shape, X_test.shape)\n",
    "\n",
    "lm = linear_model.Lasso(tol=1.0, normalize=True)\n",
    "\n",
    "clf = GridSearchCV(lm, parameters)\n",
    "clf.fit(X_train, y_train)"
   ]
  },
  {
   "cell_type": "code",
   "execution_count": 12,
   "metadata": {},
   "outputs": [
    {
     "name": "stdout",
     "output_type": "stream",
     "text": [
      "Train: 0.6053512448672322\n",
      "Test: 0.5860313696434315\n"
     ]
    }
   ],
   "source": [
    "# lm = LinearRegression(normalize=True)\n",
    "# lm.fit(X_train, y_train)\n",
    "\n",
    "lm = linear_model.Lasso(tol=10, normalize=True, alpha=0.01)\n",
    "lm.fit(X_train, y_train)\n",
    "\n",
    "print('Train:', lm.score(X_train, y_train))\n",
    "print('Test:', lm.score(X_test, y_test))"
   ]
  }
 ],
 "metadata": {
  "kernelspec": {
   "display_name": "Python 3",
   "language": "python",
   "name": "python3"
  },
  "language_info": {
   "codemirror_mode": {
    "name": "ipython",
    "version": 3
   },
   "file_extension": ".py",
   "mimetype": "text/x-python",
   "name": "python",
   "nbconvert_exporter": "python",
   "pygments_lexer": "ipython3",
   "version": "3.8.3"
  }
 },
 "nbformat": 4,
 "nbformat_minor": 4
}
