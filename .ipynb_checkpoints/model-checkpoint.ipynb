{
 "cells": [
  {
   "cell_type": "code",
   "execution_count": 2,
   "metadata": {},
   "outputs": [],
   "source": [
    "import pandas as pd"
   ]
  },
  {
   "cell_type": "code",
   "execution_count": 3,
   "metadata": {},
   "outputs": [
    {
     "name": "stderr",
     "output_type": "stream",
     "text": [
      "C:\\Users\\folke\\anaconda3\\lib\\site-packages\\IPython\\core\\interactiveshell.py:3071: DtypeWarning: Columns (9) have mixed types.Specify dtype option on import or set low_memory=False.\n",
      "  has_raised = await self.run_ast_nodes(code_ast.body, cell_name,\n"
     ]
    }
   ],
   "source": [
    "df = pd.read_csv(\"sales_data_2015.csv\")"
   ]
  },
  {
   "cell_type": "code",
   "execution_count": 17,
   "metadata": {},
   "outputs": [
    {
     "name": "stdout",
     "output_type": "stream",
     "text": [
      "<class 'pandas.core.frame.DataFrame'>\n",
      "RangeIndex: 84768 entries, 0 to 84767\n",
      "Data columns (total 27 columns):\n",
      " #   Column      Non-Null Count  Dtype  \n",
      "---  ------      --------------  -----  \n",
      " 0   Unnamed: 0  84768 non-null  int64  \n",
      " 1   Sale_id     84768 non-null  int64  \n",
      " 2   bbl_id      84768 non-null  int64  \n",
      " 3   year        84768 non-null  int64  \n",
      " 4   borough     84768 non-null  int64  \n",
      " 5   bldg_ctgy   84768 non-null  object \n",
      " 6   tax_cls_p   84765 non-null  object \n",
      " 7   block       84768 non-null  int64  \n",
      " 8   lot         84768 non-null  int64  \n",
      " 9   easmnt      1 non-null      object \n",
      " 10  bldg_cls_p  84765 non-null  object \n",
      " 11  address     84768 non-null  object \n",
      " 12  apt         20983 non-null  object \n",
      " 13  zip         84768 non-null  int64  \n",
      " 14  res_unit    84768 non-null  int64  \n",
      " 15  com_unit    84768 non-null  int64  \n",
      " 16  tot_unit    84768 non-null  int64  \n",
      " 17  land_sqft   84768 non-null  int64  \n",
      " 18  tot_sqft    84768 non-null  int64  \n",
      " 19  yr_built    84768 non-null  int64  \n",
      " 20  tax_cls_s   84768 non-null  int64  \n",
      " 21  bldg_cls_s  84768 non-null  object \n",
      " 22  sale_date   84768 non-null  object \n",
      " 23  price       84768 non-null  int64  \n",
      " 24  usable      84768 non-null  object \n",
      " 25  long        84768 non-null  float64\n",
      " 26  lat         84768 non-null  float64\n",
      "dtypes: float64(2), int64(16), object(9)\n",
      "memory usage: 17.5+ MB\n"
     ]
    }
   ],
   "source": [
    "df.info()"
   ]
  },
  {
   "cell_type": "code",
   "execution_count": 4,
   "metadata": {
    "scrolled": false
   },
   "outputs": [
    {
     "data": {
      "text/html": [
       "<div>\n",
       "<style scoped>\n",
       "    .dataframe tbody tr th:only-of-type {\n",
       "        vertical-align: middle;\n",
       "    }\n",
       "\n",
       "    .dataframe tbody tr th {\n",
       "        vertical-align: top;\n",
       "    }\n",
       "\n",
       "    .dataframe thead th {\n",
       "        text-align: right;\n",
       "    }\n",
       "</style>\n",
       "<table border=\"1\" class=\"dataframe\">\n",
       "  <thead>\n",
       "    <tr style=\"text-align: right;\">\n",
       "      <th></th>\n",
       "      <th>Unnamed: 0</th>\n",
       "      <th>Sale_id</th>\n",
       "      <th>bbl_id</th>\n",
       "      <th>year</th>\n",
       "      <th>borough</th>\n",
       "      <th>bldg_ctgy</th>\n",
       "      <th>tax_cls_p</th>\n",
       "      <th>block</th>\n",
       "      <th>lot</th>\n",
       "      <th>easmnt</th>\n",
       "      <th>...</th>\n",
       "      <th>land_sqft</th>\n",
       "      <th>tot_sqft</th>\n",
       "      <th>yr_built</th>\n",
       "      <th>tax_cls_s</th>\n",
       "      <th>bldg_cls_s</th>\n",
       "      <th>sale_date</th>\n",
       "      <th>price</th>\n",
       "      <th>usable</th>\n",
       "      <th>long</th>\n",
       "      <th>lat</th>\n",
       "    </tr>\n",
       "  </thead>\n",
       "  <tbody>\n",
       "    <tr>\n",
       "      <th>0</th>\n",
       "      <td>0</td>\n",
       "      <td>1</td>\n",
       "      <td>2290528</td>\n",
       "      <td>2015</td>\n",
       "      <td>2</td>\n",
       "      <td>01  ONE FAMILY DWELLINGS</td>\n",
       "      <td>1</td>\n",
       "      <td>2905</td>\n",
       "      <td>28</td>\n",
       "      <td>NaN</td>\n",
       "      <td>...</td>\n",
       "      <td>4750</td>\n",
       "      <td>2619</td>\n",
       "      <td>1899</td>\n",
       "      <td>1</td>\n",
       "      <td>A9</td>\n",
       "      <td>08-07-15</td>\n",
       "      <td>0</td>\n",
       "      <td>N</td>\n",
       "      <td>-73.901338</td>\n",
       "      <td>40.841229</td>\n",
       "    </tr>\n",
       "    <tr>\n",
       "      <th>1</th>\n",
       "      <td>1</td>\n",
       "      <td>2</td>\n",
       "      <td>2290528</td>\n",
       "      <td>2015</td>\n",
       "      <td>2</td>\n",
       "      <td>01  ONE FAMILY DWELLINGS</td>\n",
       "      <td>1</td>\n",
       "      <td>2905</td>\n",
       "      <td>28</td>\n",
       "      <td>NaN</td>\n",
       "      <td>...</td>\n",
       "      <td>4750</td>\n",
       "      <td>2619</td>\n",
       "      <td>1899</td>\n",
       "      <td>1</td>\n",
       "      <td>A9</td>\n",
       "      <td>08-07-15</td>\n",
       "      <td>0</td>\n",
       "      <td>N</td>\n",
       "      <td>-73.901338</td>\n",
       "      <td>40.841229</td>\n",
       "    </tr>\n",
       "    <tr>\n",
       "      <th>2</th>\n",
       "      <td>2</td>\n",
       "      <td>3</td>\n",
       "      <td>230352</td>\n",
       "      <td>2015</td>\n",
       "      <td>2</td>\n",
       "      <td>01  ONE FAMILY DWELLINGS</td>\n",
       "      <td>1</td>\n",
       "      <td>3035</td>\n",
       "      <td>2</td>\n",
       "      <td>NaN</td>\n",
       "      <td>...</td>\n",
       "      <td>1287</td>\n",
       "      <td>2528</td>\n",
       "      <td>1899</td>\n",
       "      <td>1</td>\n",
       "      <td>S1</td>\n",
       "      <td>12/18/2015</td>\n",
       "      <td>0</td>\n",
       "      <td>N</td>\n",
       "      <td>-73.898331</td>\n",
       "      <td>40.848648</td>\n",
       "    </tr>\n",
       "    <tr>\n",
       "      <th>3</th>\n",
       "      <td>3</td>\n",
       "      <td>4</td>\n",
       "      <td>2303936</td>\n",
       "      <td>2015</td>\n",
       "      <td>2</td>\n",
       "      <td>01  ONE FAMILY DWELLINGS</td>\n",
       "      <td>1</td>\n",
       "      <td>3039</td>\n",
       "      <td>36</td>\n",
       "      <td>NaN</td>\n",
       "      <td>...</td>\n",
       "      <td>2500</td>\n",
       "      <td>2452</td>\n",
       "      <td>1910</td>\n",
       "      <td>1</td>\n",
       "      <td>S1</td>\n",
       "      <td>08/18/2015</td>\n",
       "      <td>0</td>\n",
       "      <td>N</td>\n",
       "      <td>-73.893338</td>\n",
       "      <td>40.856136</td>\n",
       "    </tr>\n",
       "    <tr>\n",
       "      <th>4</th>\n",
       "      <td>4</td>\n",
       "      <td>5</td>\n",
       "      <td>2303936</td>\n",
       "      <td>2015</td>\n",
       "      <td>2</td>\n",
       "      <td>01  ONE FAMILY DWELLINGS</td>\n",
       "      <td>1</td>\n",
       "      <td>3039</td>\n",
       "      <td>36</td>\n",
       "      <td>NaN</td>\n",
       "      <td>...</td>\n",
       "      <td>2500</td>\n",
       "      <td>2452</td>\n",
       "      <td>1910</td>\n",
       "      <td>1</td>\n",
       "      <td>S1</td>\n",
       "      <td>07-01-15</td>\n",
       "      <td>400000</td>\n",
       "      <td>Y</td>\n",
       "      <td>-73.893338</td>\n",
       "      <td>40.856136</td>\n",
       "    </tr>\n",
       "  </tbody>\n",
       "</table>\n",
       "<p>5 rows × 27 columns</p>\n",
       "</div>"
      ],
      "text/plain": [
       "   Unnamed: 0  Sale_id   bbl_id  year  borough                 bldg_ctgy  \\\n",
       "0           0        1  2290528  2015        2  01  ONE FAMILY DWELLINGS   \n",
       "1           1        2  2290528  2015        2  01  ONE FAMILY DWELLINGS   \n",
       "2           2        3   230352  2015        2  01  ONE FAMILY DWELLINGS   \n",
       "3           3        4  2303936  2015        2  01  ONE FAMILY DWELLINGS   \n",
       "4           4        5  2303936  2015        2  01  ONE FAMILY DWELLINGS   \n",
       "\n",
       "  tax_cls_p  block  lot easmnt  ... land_sqft tot_sqft yr_built  tax_cls_s  \\\n",
       "0         1   2905   28    NaN  ...      4750     2619     1899          1   \n",
       "1         1   2905   28    NaN  ...      4750     2619     1899          1   \n",
       "2         1   3035    2    NaN  ...      1287     2528     1899          1   \n",
       "3         1   3039   36    NaN  ...      2500     2452     1910          1   \n",
       "4         1   3039   36    NaN  ...      2500     2452     1910          1   \n",
       "\n",
       "   bldg_cls_s   sale_date   price  usable       long        lat  \n",
       "0          A9    08-07-15       0       N -73.901338  40.841229  \n",
       "1          A9    08-07-15       0       N -73.901338  40.841229  \n",
       "2          S1  12/18/2015       0       N -73.898331  40.848648  \n",
       "3          S1  08/18/2015       0       N -73.893338  40.856136  \n",
       "4          S1    07-01-15  400000       Y -73.893338  40.856136  \n",
       "\n",
       "[5 rows x 27 columns]"
      ]
     },
     "execution_count": 4,
     "metadata": {},
     "output_type": "execute_result"
    }
   ],
   "source": [
    "df.head()"
   ]
  },
  {
   "cell_type": "code",
   "execution_count": 38,
   "metadata": {},
   "outputs": [
    {
     "data": {
      "text/html": [
       "<div>\n",
       "<style scoped>\n",
       "    .dataframe tbody tr th:only-of-type {\n",
       "        vertical-align: middle;\n",
       "    }\n",
       "\n",
       "    .dataframe tbody tr th {\n",
       "        vertical-align: top;\n",
       "    }\n",
       "\n",
       "    .dataframe thead th {\n",
       "        text-align: right;\n",
       "    }\n",
       "</style>\n",
       "<table border=\"1\" class=\"dataframe\">\n",
       "  <thead>\n",
       "    <tr style=\"text-align: right;\">\n",
       "      <th></th>\n",
       "      <th>Unnamed: 0</th>\n",
       "      <th>Sale_id</th>\n",
       "      <th>bbl_id</th>\n",
       "      <th>year</th>\n",
       "      <th>borough</th>\n",
       "      <th>block</th>\n",
       "      <th>lot</th>\n",
       "      <th>zip</th>\n",
       "      <th>res_unit</th>\n",
       "      <th>com_unit</th>\n",
       "      <th>tot_unit</th>\n",
       "      <th>land_sqft</th>\n",
       "      <th>tot_sqft</th>\n",
       "      <th>yr_built</th>\n",
       "      <th>tax_cls_s</th>\n",
       "      <th>price</th>\n",
       "      <th>long</th>\n",
       "      <th>lat</th>\n",
       "    </tr>\n",
       "  </thead>\n",
       "  <tbody>\n",
       "    <tr>\n",
       "      <th>count</th>\n",
       "      <td>84768.000000</td>\n",
       "      <td>84768.000000</td>\n",
       "      <td>8.476800e+04</td>\n",
       "      <td>84768.0</td>\n",
       "      <td>84768.000000</td>\n",
       "      <td>84768.000000</td>\n",
       "      <td>84768.000000</td>\n",
       "      <td>84768.000000</td>\n",
       "      <td>84768.000000</td>\n",
       "      <td>84768.000000</td>\n",
       "      <td>84768.000000</td>\n",
       "      <td>8.476800e+04</td>\n",
       "      <td>8.476800e+04</td>\n",
       "      <td>84768.00000</td>\n",
       "      <td>84768.000000</td>\n",
       "      <td>8.476800e+04</td>\n",
       "      <td>84768.000000</td>\n",
       "      <td>84768.000000</td>\n",
       "    </tr>\n",
       "    <tr>\n",
       "      <th>mean</th>\n",
       "      <td>42383.500000</td>\n",
       "      <td>42384.500000</td>\n",
       "      <td>5.552786e+07</td>\n",
       "      <td>2015.0</td>\n",
       "      <td>2.815968</td>\n",
       "      <td>3922.271812</td>\n",
       "      <td>395.336342</td>\n",
       "      <td>10795.058430</td>\n",
       "      <td>2.206882</td>\n",
       "      <td>0.213842</td>\n",
       "      <td>2.482894</td>\n",
       "      <td>2.897186e+03</td>\n",
       "      <td>4.594859e+03</td>\n",
       "      <td>1799.28020</td>\n",
       "      <td>1.820144</td>\n",
       "      <td>1.138515e+06</td>\n",
       "      <td>-73.932756</td>\n",
       "      <td>40.713802</td>\n",
       "    </tr>\n",
       "    <tr>\n",
       "      <th>std</th>\n",
       "      <td>24470.558146</td>\n",
       "      <td>24470.558146</td>\n",
       "      <td>1.137808e+08</td>\n",
       "      <td>0.0</td>\n",
       "      <td>1.331564</td>\n",
       "      <td>3505.674705</td>\n",
       "      <td>671.917553</td>\n",
       "      <td>640.425751</td>\n",
       "      <td>33.803117</td>\n",
       "      <td>3.328458</td>\n",
       "      <td>34.129612</td>\n",
       "      <td>1.051146e+05</td>\n",
       "      <td>4.351070e+04</td>\n",
       "      <td>520.81237</td>\n",
       "      <td>0.961171</td>\n",
       "      <td>8.874043e+06</td>\n",
       "      <td>0.096322</td>\n",
       "      <td>0.076601</td>\n",
       "    </tr>\n",
       "    <tr>\n",
       "      <th>min</th>\n",
       "      <td>0.000000</td>\n",
       "      <td>1.000000</td>\n",
       "      <td>0.000000e+00</td>\n",
       "      <td>2015.0</td>\n",
       "      <td>1.000000</td>\n",
       "      <td>1.000000</td>\n",
       "      <td>1.000000</td>\n",
       "      <td>0.000000</td>\n",
       "      <td>0.000000</td>\n",
       "      <td>0.000000</td>\n",
       "      <td>0.000000</td>\n",
       "      <td>0.000000e+00</td>\n",
       "      <td>0.000000e+00</td>\n",
       "      <td>0.00000</td>\n",
       "      <td>1.000000</td>\n",
       "      <td>0.000000e+00</td>\n",
       "      <td>-74.253512</td>\n",
       "      <td>40.499018</td>\n",
       "    </tr>\n",
       "    <tr>\n",
       "      <th>25%</th>\n",
       "      <td>21191.750000</td>\n",
       "      <td>21192.750000</td>\n",
       "      <td>1.195860e+06</td>\n",
       "      <td>2015.0</td>\n",
       "      <td>1.000000</td>\n",
       "      <td>1169.000000</td>\n",
       "      <td>22.000000</td>\n",
       "      <td>10065.000000</td>\n",
       "      <td>0.000000</td>\n",
       "      <td>0.000000</td>\n",
       "      <td>1.000000</td>\n",
       "      <td>0.000000e+00</td>\n",
       "      <td>0.000000e+00</td>\n",
       "      <td>1920.00000</td>\n",
       "      <td>1.000000</td>\n",
       "      <td>0.000000e+00</td>\n",
       "      <td>-73.981860</td>\n",
       "      <td>40.664866</td>\n",
       "    </tr>\n",
       "    <tr>\n",
       "      <th>50%</th>\n",
       "      <td>42383.500000</td>\n",
       "      <td>42384.500000</td>\n",
       "      <td>4.222320e+06</td>\n",
       "      <td>2015.0</td>\n",
       "      <td>3.000000</td>\n",
       "      <td>2657.000000</td>\n",
       "      <td>50.000000</td>\n",
       "      <td>11206.000000</td>\n",
       "      <td>1.000000</td>\n",
       "      <td>0.000000</td>\n",
       "      <td>1.000000</td>\n",
       "      <td>1.650000e+03</td>\n",
       "      <td>9.900000e+02</td>\n",
       "      <td>1940.00000</td>\n",
       "      <td>2.000000</td>\n",
       "      <td>3.500000e+05</td>\n",
       "      <td>-73.949712</td>\n",
       "      <td>40.721858</td>\n",
       "    </tr>\n",
       "    <tr>\n",
       "      <th>75%</th>\n",
       "      <td>63575.250000</td>\n",
       "      <td>63576.250000</td>\n",
       "      <td>4.130948e+07</td>\n",
       "      <td>2015.0</td>\n",
       "      <td>4.000000</td>\n",
       "      <td>5878.000000</td>\n",
       "      <td>1003.000000</td>\n",
       "      <td>11355.000000</td>\n",
       "      <td>2.000000</td>\n",
       "      <td>0.000000</td>\n",
       "      <td>2.000000</td>\n",
       "      <td>2.638250e+03</td>\n",
       "      <td>2.180000e+03</td>\n",
       "      <td>1965.00000</td>\n",
       "      <td>2.000000</td>\n",
       "      <td>7.585960e+05</td>\n",
       "      <td>-73.864184</td>\n",
       "      <td>40.763282</td>\n",
       "    </tr>\n",
       "    <tr>\n",
       "      <th>max</th>\n",
       "      <td>84767.000000</td>\n",
       "      <td>84768.000000</td>\n",
       "      <td>5.786011e+08</td>\n",
       "      <td>2015.0</td>\n",
       "      <td>5.000000</td>\n",
       "      <td>16322.000000</td>\n",
       "      <td>9117.000000</td>\n",
       "      <td>11694.000000</td>\n",
       "      <td>8759.000000</td>\n",
       "      <td>612.000000</td>\n",
       "      <td>8805.000000</td>\n",
       "      <td>2.930553e+07</td>\n",
       "      <td>8.942176e+06</td>\n",
       "      <td>2016.00000</td>\n",
       "      <td>4.000000</td>\n",
       "      <td>8.700000e+08</td>\n",
       "      <td>-73.700774</td>\n",
       "      <td>40.912869</td>\n",
       "    </tr>\n",
       "  </tbody>\n",
       "</table>\n",
       "</div>"
      ],
      "text/plain": [
       "         Unnamed: 0       Sale_id        bbl_id     year       borough  \\\n",
       "count  84768.000000  84768.000000  8.476800e+04  84768.0  84768.000000   \n",
       "mean   42383.500000  42384.500000  5.552786e+07   2015.0      2.815968   \n",
       "std    24470.558146  24470.558146  1.137808e+08      0.0      1.331564   \n",
       "min        0.000000      1.000000  0.000000e+00   2015.0      1.000000   \n",
       "25%    21191.750000  21192.750000  1.195860e+06   2015.0      1.000000   \n",
       "50%    42383.500000  42384.500000  4.222320e+06   2015.0      3.000000   \n",
       "75%    63575.250000  63576.250000  4.130948e+07   2015.0      4.000000   \n",
       "max    84767.000000  84768.000000  5.786011e+08   2015.0      5.000000   \n",
       "\n",
       "              block           lot           zip      res_unit      com_unit  \\\n",
       "count  84768.000000  84768.000000  84768.000000  84768.000000  84768.000000   \n",
       "mean    3922.271812    395.336342  10795.058430      2.206882      0.213842   \n",
       "std     3505.674705    671.917553    640.425751     33.803117      3.328458   \n",
       "min        1.000000      1.000000      0.000000      0.000000      0.000000   \n",
       "25%     1169.000000     22.000000  10065.000000      0.000000      0.000000   \n",
       "50%     2657.000000     50.000000  11206.000000      1.000000      0.000000   \n",
       "75%     5878.000000   1003.000000  11355.000000      2.000000      0.000000   \n",
       "max    16322.000000   9117.000000  11694.000000   8759.000000    612.000000   \n",
       "\n",
       "           tot_unit     land_sqft      tot_sqft     yr_built     tax_cls_s  \\\n",
       "count  84768.000000  8.476800e+04  8.476800e+04  84768.00000  84768.000000   \n",
       "mean       2.482894  2.897186e+03  4.594859e+03   1799.28020      1.820144   \n",
       "std       34.129612  1.051146e+05  4.351070e+04    520.81237      0.961171   \n",
       "min        0.000000  0.000000e+00  0.000000e+00      0.00000      1.000000   \n",
       "25%        1.000000  0.000000e+00  0.000000e+00   1920.00000      1.000000   \n",
       "50%        1.000000  1.650000e+03  9.900000e+02   1940.00000      2.000000   \n",
       "75%        2.000000  2.638250e+03  2.180000e+03   1965.00000      2.000000   \n",
       "max     8805.000000  2.930553e+07  8.942176e+06   2016.00000      4.000000   \n",
       "\n",
       "              price          long           lat  \n",
       "count  8.476800e+04  84768.000000  84768.000000  \n",
       "mean   1.138515e+06    -73.932756     40.713802  \n",
       "std    8.874043e+06      0.096322      0.076601  \n",
       "min    0.000000e+00    -74.253512     40.499018  \n",
       "25%    0.000000e+00    -73.981860     40.664866  \n",
       "50%    3.500000e+05    -73.949712     40.721858  \n",
       "75%    7.585960e+05    -73.864184     40.763282  \n",
       "max    8.700000e+08    -73.700774     40.912869  "
      ]
     },
     "execution_count": 38,
     "metadata": {},
     "output_type": "execute_result"
    }
   ],
   "source": [
    "df.describe()"
   ]
  },
  {
   "cell_type": "code",
   "execution_count": 9,
   "metadata": {},
   "outputs": [
    {
     "data": {
      "text/plain": [
       "Index(['Unnamed: 0', 'Sale_id', 'bbl_id', 'year', 'borough', 'bldg_ctgy',\n",
       "       'tax_cls_p', 'block', 'lot', 'easmnt', 'bldg_cls_p', 'address', 'apt',\n",
       "       'zip', 'res_unit', 'com_unit', 'tot_unit', 'land_sqft', 'tot_sqft',\n",
       "       'yr_built', 'tax_cls_s', 'bldg_cls_s', 'sale_date', 'price', 'usable',\n",
       "       'long', 'lat'],\n",
       "      dtype='object')"
      ]
     },
     "execution_count": 9,
     "metadata": {},
     "output_type": "execute_result"
    }
   ],
   "source": [
    "df.columns"
   ]
  },
  {
   "cell_type": "code",
   "execution_count": 21,
   "metadata": {},
   "outputs": [],
   "source": [
    "def split_building_class_0(building):\n",
    "    x = building[0]\n",
    "    return x\n",
    "\n",
    "def split_building_class_1(building):\n",
    "    y = building[1]\n",
    "    return y"
   ]
  },
  {
   "cell_type": "code",
   "execution_count": 24,
   "metadata": {},
   "outputs": [],
   "source": [
    "df['split_bldg_cls_0'] = df['bldg_cls_p'].apply(lambda building: split_building_class_0(str(building)))\n",
    "df['split_bldg_cls_1'] = df['bldg_cls_p'].apply(lambda building: split_building_class_1(str(building)))"
   ]
  },
  {
   "cell_type": "code",
   "execution_count": 31,
   "metadata": {},
   "outputs": [],
   "source": [
    "df['split_bldg_cls_2'] = df['bldg_cls_s'].apply(lambda building: split_building_class_0(str(building)))\n",
    "df['split_bldg_cls_3'] = df['bldg_cls_s'].apply(lambda building: split_building_class_1(str(building)))"
   ]
  },
  {
   "cell_type": "code",
   "execution_count": 68,
   "metadata": {},
   "outputs": [],
   "source": [
    "df2 = df[['borough', 'res_unit', 'com_unit', 'tot_unit', 'land_sqft', 'tot_sqft', 'yr_built', 'price']].copy()"
   ]
  },
  {
   "cell_type": "code",
   "execution_count": 69,
   "metadata": {},
   "outputs": [],
   "source": [
    "df2 = df2[(df2.yr_built != 0) & (df2.tot_sqft != 0) & (df2.price != 0)]"
   ]
  },
  {
   "cell_type": "code",
   "execution_count": 70,
   "metadata": {},
   "outputs": [],
   "source": [
    "X = df2.drop(columns=['price'])\n",
    "Y = df2.price"
   ]
  },
  {
   "cell_type": "code",
   "execution_count": 71,
   "metadata": {},
   "outputs": [
    {
     "data": {
      "text/plain": [
       "((22968, 7), (5743, 7))"
      ]
     },
     "execution_count": 71,
     "metadata": {},
     "output_type": "execute_result"
    }
   ],
   "source": [
    "from sklearn.model_selection import train_test_split\n",
    "\n",
    "X_train, X_test, y_train, y_test = train_test_split(X, Y, test_size = .20, random_state = 40)\n",
    "X_train.shape, X_test.shape"
   ]
  },
  {
   "cell_type": "code",
   "execution_count": 75,
   "metadata": {},
   "outputs": [
    {
     "name": "stdout",
     "output_type": "stream",
     "text": [
      "Train: 0.2441402138728933\n",
      "Test: 0.26068975625021584\n"
     ]
    }
   ],
   "source": [
    "from sklearn.linear_model import LinearRegression\n",
    "\n",
    "lr = LinearRegression()\n",
    "lr.fit(X_train, y_train)\n",
    "\n",
    "print('Train:', lr.score(X_train, y_train))\n",
    "print('Test:', lr.score(X_test, y_test))"
   ]
  },
  {
   "cell_type": "code",
   "execution_count": 76,
   "metadata": {},
   "outputs": [
    {
     "data": {
      "image/png": "[encoded data removed]",
      "text/plain": [
       "<Figure size 432x288 with 1 Axes>"
      ]
     },
     "metadata": {
      "needs_background": "light"
     },
     "output_type": "display_data"
    }
   ],
   "source": [
    "import matplotlib.pyplot as plt\n",
    "\n",
    "plt.scatter(y_test, lr.predict(X_test))\n",
    "plt.xlabel(\"Actual Price\")\n",
    "plt.ylabel(\"Predicted Price\")\n",
    "plt.title(\"Actual Price vs Predicted Price\")\n",
    "plt.show()"
   ]
  },
  {
   "cell_type": "code",
   "execution_count": 77,
   "metadata": {},
   "outputs": [
    {
     "data": {
      "image/png": "[encoded data removed]",
      "text/plain": [
       "<Figure size 432x288 with 1 Axes>"
      ]
     },
     "metadata": {
      "needs_background": "light"
     },
     "output_type": "display_data"
    }
   ],
   "source": [
    "plt.scatter(y_test, lr.predict(X_test))\n",
    "plt.xlabel(\"Actual Price\")\n",
    "plt.ylabel(\"Predicted Price\")\n",
    "plt.title(\"Actual Price vs Predicted Price\")\n",
    "plt.xlim(1,4e8)\n",
    "plt.ylim(1,4e8)\n",
    "plt.xscale('log')\n",
    "plt.yscale('log')\n",
    "plt.show()"
   ]
  },
  {
   "cell_type": "code",
   "execution_count": 78,
   "metadata": {},
   "outputs": [
    {
     "data": {
      "image/png": "[encoded data removed]",
      "text/plain": [
       "<Figure size 432x288 with 1 Axes>"
      ]
     },
     "metadata": {
      "needs_background": "light"
     },
     "output_type": "display_data"
    }
   ],
   "source": [
    "import seaborn\n",
    "\n",
    "seaborn.residplot(y_test, lr.predict(X_test))\n",
    "plt.xlabel(\"Predicted prices\")\n",
    "plt.ylabel(\"Residuals\")\n",
    "plt.title(\"Residual plot\")\n",
    "plt.show()"
   ]
  }
 ],
 "metadata": {
  "kernelspec": {
   "display_name": "Python 3",
   "language": "python",
   "name": "python3"
  },
  "language_info": {
   "codemirror_mode": {
    "name": "ipython",
    "version": 3
   },
   "file_extension": ".py",
   "mimetype": "text/x-python",
   "name": "python",
   "nbconvert_exporter": "python",
   "pygments_lexer": "ipython3",
   "version": "3.8.3"
  }
 },
 "nbformat": 4,
 "nbformat_minor": 4
}
