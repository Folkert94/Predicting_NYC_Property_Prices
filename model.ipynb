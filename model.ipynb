{
 "cells": [
  {
   "cell_type": "code",
   "execution_count": 55,
   "metadata": {},
   "outputs": [
    {
     "name": "stdout",
     "output_type": "stream",
     "text": [
      "<class 'pandas.core.frame.DataFrame'>\n",
      "RangeIndex: 84768 entries, 0 to 84767\n",
      "Data columns (total 27 columns):\n",
      " #   Column      Non-Null Count  Dtype  \n",
      "---  ------      --------------  -----  \n",
      " 0   Unnamed: 0  84768 non-null  int64  \n",
      " 1   Sale_id     84768 non-null  int64  \n",
      " 2   bbl_id      84768 non-null  int64  \n",
      " 3   year        84768 non-null  int64  \n",
      " 4   borough     84768 non-null  int64  \n",
      " 5   bldg_ctgy   84768 non-null  object \n",
      " 6   tax_cls_p   84765 non-null  object \n",
      " 7   block       84768 non-null  int64  \n",
      " 8   lot         84768 non-null  int64  \n",
      " 9   easmnt      1 non-null      object \n",
      " 10  bldg_cls_p  84765 non-null  object \n",
      " 11  address     84768 non-null  object \n",
      " 12  apt         20983 non-null  object \n",
      " 13  zip         84768 non-null  int64  \n",
      " 14  res_unit    84768 non-null  int64  \n",
      " 15  com_unit    84768 non-null  int64  \n",
      " 16  tot_unit    84768 non-null  int64  \n",
      " 17  land_sqft   84768 non-null  int64  \n",
      " 18  tot_sqft    84768 non-null  int64  \n",
      " 19  yr_built    84768 non-null  int64  \n",
      " 20  tax_cls_s   84768 non-null  int64  \n",
      " 21  bldg_cls_s  84768 non-null  object \n",
      " 22  sale_date   84768 non-null  object \n",
      " 23  price       84768 non-null  int64  \n",
      " 24  usable      84768 non-null  object \n",
      " 25  long        84768 non-null  float64\n",
      " 26  lat         84768 non-null  float64\n",
      "dtypes: float64(2), int64(16), object(9)\n",
      "memory usage: 17.5+ MB\n"
     ]
    },
    {
     "name": "stderr",
     "output_type": "stream",
     "text": [
      "C:\\Users\\folke\\anaconda3\\lib\\site-packages\\IPython\\core\\interactiveshell.py:3071: DtypeWarning: Columns (9) have mixed types.Specify dtype option on import or set low_memory=False.\n",
      "  has_raised = await self.run_ast_nodes(code_ast.body, cell_name,\n"
     ]
    }
   ],
   "source": [
    "import pandas as pd\n",
    "import numpy as np\n",
    "import matplotlib.pyplot as plt\n",
    "\n",
    "from sklearn.model_selection import train_test_split\n",
    "from sklearn.linear_model import LinearRegression\n",
    "\n",
    "df = pd.read_csv(\"sales_data_2015.csv\")\n",
    "df.info()"
   ]
  },
  {
   "cell_type": "code",
   "execution_count": 56,
   "metadata": {
    "scrolled": false
   },
   "outputs": [
    {
     "data": {
      "text/html": [
       "<div>\n",
       "<style scoped>\n",
       "    .dataframe tbody tr th:only-of-type {\n",
       "        vertical-align: middle;\n",
       "    }\n",
       "\n",
       "    .dataframe tbody tr th {\n",
       "        vertical-align: top;\n",
       "    }\n",
       "\n",
       "    .dataframe thead th {\n",
       "        text-align: right;\n",
       "    }\n",
       "</style>\n",
       "<table border=\"1\" class=\"dataframe\">\n",
       "  <thead>\n",
       "    <tr style=\"text-align: right;\">\n",
       "      <th></th>\n",
       "      <th>Unnamed: 0</th>\n",
       "      <th>Sale_id</th>\n",
       "      <th>bbl_id</th>\n",
       "      <th>year</th>\n",
       "      <th>borough</th>\n",
       "      <th>bldg_ctgy</th>\n",
       "      <th>tax_cls_p</th>\n",
       "      <th>block</th>\n",
       "      <th>lot</th>\n",
       "      <th>easmnt</th>\n",
       "      <th>...</th>\n",
       "      <th>land_sqft</th>\n",
       "      <th>tot_sqft</th>\n",
       "      <th>yr_built</th>\n",
       "      <th>tax_cls_s</th>\n",
       "      <th>bldg_cls_s</th>\n",
       "      <th>sale_date</th>\n",
       "      <th>price</th>\n",
       "      <th>usable</th>\n",
       "      <th>long</th>\n",
       "      <th>lat</th>\n",
       "    </tr>\n",
       "  </thead>\n",
       "  <tbody>\n",
       "    <tr>\n",
       "      <th>0</th>\n",
       "      <td>0</td>\n",
       "      <td>1</td>\n",
       "      <td>2290528</td>\n",
       "      <td>2015</td>\n",
       "      <td>2</td>\n",
       "      <td>01  ONE FAMILY DWELLINGS</td>\n",
       "      <td>1</td>\n",
       "      <td>2905</td>\n",
       "      <td>28</td>\n",
       "      <td>NaN</td>\n",
       "      <td>...</td>\n",
       "      <td>4750</td>\n",
       "      <td>2619</td>\n",
       "      <td>1899</td>\n",
       "      <td>1</td>\n",
       "      <td>A9</td>\n",
       "      <td>08-07-15</td>\n",
       "      <td>0</td>\n",
       "      <td>N</td>\n",
       "      <td>-73.901338</td>\n",
       "      <td>40.841229</td>\n",
       "    </tr>\n",
       "    <tr>\n",
       "      <th>1</th>\n",
       "      <td>1</td>\n",
       "      <td>2</td>\n",
       "      <td>2290528</td>\n",
       "      <td>2015</td>\n",
       "      <td>2</td>\n",
       "      <td>01  ONE FAMILY DWELLINGS</td>\n",
       "      <td>1</td>\n",
       "      <td>2905</td>\n",
       "      <td>28</td>\n",
       "      <td>NaN</td>\n",
       "      <td>...</td>\n",
       "      <td>4750</td>\n",
       "      <td>2619</td>\n",
       "      <td>1899</td>\n",
       "      <td>1</td>\n",
       "      <td>A9</td>\n",
       "      <td>08-07-15</td>\n",
       "      <td>0</td>\n",
       "      <td>N</td>\n",
       "      <td>-73.901338</td>\n",
       "      <td>40.841229</td>\n",
       "    </tr>\n",
       "    <tr>\n",
       "      <th>2</th>\n",
       "      <td>2</td>\n",
       "      <td>3</td>\n",
       "      <td>230352</td>\n",
       "      <td>2015</td>\n",
       "      <td>2</td>\n",
       "      <td>01  ONE FAMILY DWELLINGS</td>\n",
       "      <td>1</td>\n",
       "      <td>3035</td>\n",
       "      <td>2</td>\n",
       "      <td>NaN</td>\n",
       "      <td>...</td>\n",
       "      <td>1287</td>\n",
       "      <td>2528</td>\n",
       "      <td>1899</td>\n",
       "      <td>1</td>\n",
       "      <td>S1</td>\n",
       "      <td>12/18/2015</td>\n",
       "      <td>0</td>\n",
       "      <td>N</td>\n",
       "      <td>-73.898331</td>\n",
       "      <td>40.848648</td>\n",
       "    </tr>\n",
       "    <tr>\n",
       "      <th>3</th>\n",
       "      <td>3</td>\n",
       "      <td>4</td>\n",
       "      <td>2303936</td>\n",
       "      <td>2015</td>\n",
       "      <td>2</td>\n",
       "      <td>01  ONE FAMILY DWELLINGS</td>\n",
       "      <td>1</td>\n",
       "      <td>3039</td>\n",
       "      <td>36</td>\n",
       "      <td>NaN</td>\n",
       "      <td>...</td>\n",
       "      <td>2500</td>\n",
       "      <td>2452</td>\n",
       "      <td>1910</td>\n",
       "      <td>1</td>\n",
       "      <td>S1</td>\n",
       "      <td>08/18/2015</td>\n",
       "      <td>0</td>\n",
       "      <td>N</td>\n",
       "      <td>-73.893338</td>\n",
       "      <td>40.856136</td>\n",
       "    </tr>\n",
       "    <tr>\n",
       "      <th>4</th>\n",
       "      <td>4</td>\n",
       "      <td>5</td>\n",
       "      <td>2303936</td>\n",
       "      <td>2015</td>\n",
       "      <td>2</td>\n",
       "      <td>01  ONE FAMILY DWELLINGS</td>\n",
       "      <td>1</td>\n",
       "      <td>3039</td>\n",
       "      <td>36</td>\n",
       "      <td>NaN</td>\n",
       "      <td>...</td>\n",
       "      <td>2500</td>\n",
       "      <td>2452</td>\n",
       "      <td>1910</td>\n",
       "      <td>1</td>\n",
       "      <td>S1</td>\n",
       "      <td>07-01-15</td>\n",
       "      <td>400000</td>\n",
       "      <td>Y</td>\n",
       "      <td>-73.893338</td>\n",
       "      <td>40.856136</td>\n",
       "    </tr>\n",
       "  </tbody>\n",
       "</table>\n",
       "<p>5 rows × 27 columns</p>\n",
       "</div>"
      ],
      "text/plain": [
       "   Unnamed: 0  Sale_id   bbl_id  year  borough                 bldg_ctgy  \\\n",
       "0           0        1  2290528  2015        2  01  ONE FAMILY DWELLINGS   \n",
       "1           1        2  2290528  2015        2  01  ONE FAMILY DWELLINGS   \n",
       "2           2        3   230352  2015        2  01  ONE FAMILY DWELLINGS   \n",
       "3           3        4  2303936  2015        2  01  ONE FAMILY DWELLINGS   \n",
       "4           4        5  2303936  2015        2  01  ONE FAMILY DWELLINGS   \n",
       "\n",
       "  tax_cls_p  block  lot easmnt  ... land_sqft tot_sqft yr_built  tax_cls_s  \\\n",
       "0         1   2905   28    NaN  ...      4750     2619     1899          1   \n",
       "1         1   2905   28    NaN  ...      4750     2619     1899          1   \n",
       "2         1   3035    2    NaN  ...      1287     2528     1899          1   \n",
       "3         1   3039   36    NaN  ...      2500     2452     1910          1   \n",
       "4         1   3039   36    NaN  ...      2500     2452     1910          1   \n",
       "\n",
       "   bldg_cls_s   sale_date   price  usable       long        lat  \n",
       "0          A9    08-07-15       0       N -73.901338  40.841229  \n",
       "1          A9    08-07-15       0       N -73.901338  40.841229  \n",
       "2          S1  12/18/2015       0       N -73.898331  40.848648  \n",
       "3          S1  08/18/2015       0       N -73.893338  40.856136  \n",
       "4          S1    07-01-15  400000       Y -73.893338  40.856136  \n",
       "\n",
       "[5 rows x 27 columns]"
      ]
     },
     "execution_count": 56,
     "metadata": {},
     "output_type": "execute_result"
    }
   ],
   "source": [
    "df.head()"
   ]
  },
  {
   "cell_type": "code",
   "execution_count": 57,
   "metadata": {},
   "outputs": [
    {
     "data": {
      "text/plain": [
       "Index(['Unnamed: 0', 'Sale_id', 'bbl_id', 'year', 'borough', 'bldg_ctgy',\n",
       "       'tax_cls_p', 'block', 'lot', 'easmnt', 'bldg_cls_p', 'address', 'apt',\n",
       "       'zip', 'res_unit', 'com_unit', 'tot_unit', 'land_sqft', 'tot_sqft',\n",
       "       'yr_built', 'tax_cls_s', 'bldg_cls_s', 'sale_date', 'price', 'usable',\n",
       "       'long', 'lat'],\n",
       "      dtype='object')"
      ]
     },
     "execution_count": 57,
     "metadata": {},
     "output_type": "execute_result"
    }
   ],
   "source": [
    "df.columns"
   ]
  },
  {
   "cell_type": "code",
   "execution_count": 58,
   "metadata": {},
   "outputs": [],
   "source": [
    "df2 = df[['tot_sqft', 'yr_built', 'long', 'lat', 'price']].copy()"
   ]
  },
  {
   "cell_type": "code",
   "execution_count": 92,
   "metadata": {},
   "outputs": [],
   "source": [
    "df2 = df2[(df2.yr_built != 0) & (df2.tot_sqft != 0) & (df2.price >= 1000)]"
   ]
  },
  {
   "cell_type": "code",
   "execution_count": 62,
   "metadata": {},
   "outputs": [
    {
     "data": {
      "text/plain": [
       "array([0.59892533, 0.81311787, 0.69726554, 0.24096651, 0.37010146,\n",
       "       0.69767538, 0.12234441, 0.45330018, 0.12026212, 0.16402651,\n",
       "       0.81415227, 0.96136336, 0.83861278, 0.42369257, 0.72525831,\n",
       "       0.69543661, 0.90913656, 0.51802063, 0.38519368, 0.24168847,\n",
       "       0.2784945 , 0.65917532, 0.36013026, 0.55975087, 0.81859122,\n",
       "       0.63026394, 0.24177845, 0.72899678, 0.69081701, 0.51145606,\n",
       "       0.99433447, 0.18714378, 0.54556261, 0.40066442, 0.21746067,\n",
       "       0.52363933, 0.49323586, 0.80926626, 0.83720699, 0.05414445,\n",
       "       0.50523066, 0.24433217, 0.14088629, 0.73731066, 0.38723923,\n",
       "       0.03225805, 0.17859197, 0.70085567, 0.24746297, 0.68608989])"
      ]
     },
     "execution_count": 62,
     "metadata": {},
     "output_type": "execute_result"
    }
   ],
   "source": [
    "np.random.rand(50)"
   ]
  },
  {
   "cell_type": "code",
   "execution_count": 63,
   "metadata": {},
   "outputs": [
    {
     "data": {
      "text/plain": [
       "0             0\n",
       "1             0\n",
       "2             0\n",
       "3             0\n",
       "4        400000\n",
       "          ...  \n",
       "84763    495000\n",
       "84764         0\n",
       "84765    825000\n",
       "84766        10\n",
       "84767         0\n",
       "Name: price, Length: 84768, dtype: int64"
      ]
     },
     "execution_count": 63,
     "metadata": {},
     "output_type": "execute_result"
    }
   ],
   "source": [
    "df2.price"
   ]
  },
  {
   "cell_type": "code",
   "execution_count": 71,
   "metadata": {},
   "outputs": [
    {
     "data": {
      "text/plain": [
       "-0.35667494393873245"
      ]
     },
     "execution_count": 71,
     "metadata": {},
     "output_type": "execute_result"
    }
   ],
   "source": [
    "np.log(0.7)"
   ]
  },
  {
   "cell_type": "code",
   "execution_count": 91,
   "metadata": {},
   "outputs": [
    {
     "data": {
      "text/html": [
       "<div>\n",
       "<style scoped>\n",
       "    .dataframe tbody tr th:only-of-type {\n",
       "        vertical-align: middle;\n",
       "    }\n",
       "\n",
       "    .dataframe tbody tr th {\n",
       "        vertical-align: top;\n",
       "    }\n",
       "\n",
       "    .dataframe thead th {\n",
       "        text-align: right;\n",
       "    }\n",
       "</style>\n",
       "<table border=\"1\" class=\"dataframe\">\n",
       "  <thead>\n",
       "    <tr style=\"text-align: right;\">\n",
       "      <th></th>\n",
       "      <th>tot_sqft</th>\n",
       "      <th>yr_built</th>\n",
       "      <th>long</th>\n",
       "      <th>lat</th>\n",
       "      <th>price</th>\n",
       "    </tr>\n",
       "  </thead>\n",
       "  <tbody>\n",
       "    <tr>\n",
       "      <th>8</th>\n",
       "      <td>2400</td>\n",
       "      <td>1993</td>\n",
       "      <td>-73.902418</td>\n",
       "      <td>40.837337</td>\n",
       "      <td>10000</td>\n",
       "    </tr>\n",
       "    <tr>\n",
       "      <th>11</th>\n",
       "      <td>1497</td>\n",
       "      <td>1899</td>\n",
       "      <td>-73.896046</td>\n",
       "      <td>40.853825</td>\n",
       "      <td>1000</td>\n",
       "    </tr>\n",
       "    <tr>\n",
       "      <th>23</th>\n",
       "      <td>2779</td>\n",
       "      <td>2006</td>\n",
       "      <td>-73.895694</td>\n",
       "      <td>40.852502</td>\n",
       "      <td>100</td>\n",
       "    </tr>\n",
       "    <tr>\n",
       "      <th>121</th>\n",
       "      <td>905</td>\n",
       "      <td>1925</td>\n",
       "      <td>-73.843297</td>\n",
       "      <td>40.871326</td>\n",
       "      <td>10</td>\n",
       "    </tr>\n",
       "    <tr>\n",
       "      <th>149</th>\n",
       "      <td>1084</td>\n",
       "      <td>1930</td>\n",
       "      <td>-73.832965</td>\n",
       "      <td>40.887892</td>\n",
       "      <td>100</td>\n",
       "    </tr>\n",
       "    <tr>\n",
       "      <th>...</th>\n",
       "      <td>...</td>\n",
       "      <td>...</td>\n",
       "      <td>...</td>\n",
       "      <td>...</td>\n",
       "      <td>...</td>\n",
       "    </tr>\n",
       "    <tr>\n",
       "      <th>84524</th>\n",
       "      <td>1752</td>\n",
       "      <td>1920</td>\n",
       "      <td>-74.136057</td>\n",
       "      <td>40.611652</td>\n",
       "      <td>10</td>\n",
       "    </tr>\n",
       "    <tr>\n",
       "      <th>84532</th>\n",
       "      <td>1472</td>\n",
       "      <td>1994</td>\n",
       "      <td>-74.143927</td>\n",
       "      <td>40.608642</td>\n",
       "      <td>1</td>\n",
       "    </tr>\n",
       "    <tr>\n",
       "      <th>84570</th>\n",
       "      <td>1890</td>\n",
       "      <td>1990</td>\n",
       "      <td>-74.132474</td>\n",
       "      <td>40.603065</td>\n",
       "      <td>700</td>\n",
       "    </tr>\n",
       "    <tr>\n",
       "      <th>84722</th>\n",
       "      <td>2206</td>\n",
       "      <td>1992</td>\n",
       "      <td>-74.219628</td>\n",
       "      <td>40.536411</td>\n",
       "      <td>1</td>\n",
       "    </tr>\n",
       "    <tr>\n",
       "      <th>84766</th>\n",
       "      <td>1971</td>\n",
       "      <td>1998</td>\n",
       "      <td>-74.222144</td>\n",
       "      <td>40.532429</td>\n",
       "      <td>10</td>\n",
       "    </tr>\n",
       "  </tbody>\n",
       "</table>\n",
       "<p>851 rows × 5 columns</p>\n",
       "</div>"
      ],
      "text/plain": [
       "       tot_sqft  yr_built       long        lat  price\n",
       "8          2400      1993 -73.902418  40.837337  10000\n",
       "11         1497      1899 -73.896046  40.853825   1000\n",
       "23         2779      2006 -73.895694  40.852502    100\n",
       "121         905      1925 -73.843297  40.871326     10\n",
       "149        1084      1930 -73.832965  40.887892    100\n",
       "...         ...       ...        ...        ...    ...\n",
       "84524      1752      1920 -74.136057  40.611652     10\n",
       "84532      1472      1994 -74.143927  40.608642      1\n",
       "84570      1890      1990 -74.132474  40.603065    700\n",
       "84722      2206      1992 -74.219628  40.536411      1\n",
       "84766      1971      1998 -74.222144  40.532429     10\n",
       "\n",
       "[851 rows x 5 columns]"
      ]
     },
     "execution_count": 91,
     "metadata": {},
     "output_type": "execute_result"
    }
   ],
   "source": [
    "df2[df2.price <= 10000]"
   ]
  },
  {
   "cell_type": "code",
   "execution_count": 80,
   "metadata": {},
   "outputs": [
    {
     "data": {
      "text/plain": [
       "4        12.899220\n",
       "7        12.971540\n",
       "8         9.210340\n",
       "9        13.132314\n",
       "10       13.102161\n",
       "           ...    \n",
       "84759    13.151922\n",
       "84761    12.013701\n",
       "84763    13.112313\n",
       "84765    13.623139\n",
       "84766     2.302585\n",
       "Name: price, Length: 28711, dtype: float64"
      ]
     },
     "execution_count": 80,
     "metadata": {},
     "output_type": "execute_result"
    }
   ],
   "source": [
    "np.log(df2.price)"
   ]
  },
  {
   "cell_type": "code",
   "execution_count": 95,
   "metadata": {},
   "outputs": [
    {
     "data": {
      "text/plain": [
       "<matplotlib.legend.Legend at 0x149cee5fe50>"
      ]
     },
     "execution_count": 95,
     "metadata": {},
     "output_type": "execute_result"
    },
    {
     "data": {
      "image/png": "[encoded data removed]",
      "text/plain": [
       "<Figure size 432x288 with 1 Axes>"
      ]
     },
     "metadata": {
      "needs_background": "light"
     },
     "output_type": "display_data"
    }
   ],
   "source": [
    "fig, ax = plt.subplots()\n",
    "\n",
    "scatter = ax.scatter(df2.long, df2.lat, c=np.log(df2.price))\n",
    "legend1 = ax.legend(*scatter.legend_elements(),\n",
    "                    loc=\"lower left\", title=\"Classes\")\n",
    "ax.add_artist(legend1)"
   ]
  },
  {
   "cell_type": "code",
   "execution_count": 29,
   "metadata": {},
   "outputs": [],
   "source": [
    "def get_cat_cls(building):\n",
    "    x = building[0]\n",
    "    return x"
   ]
  },
  {
   "cell_type": "code",
   "execution_count": 30,
   "metadata": {},
   "outputs": [],
   "source": [
    "categories = df['bldg_cls_p'].apply(lambda building: get_cat_cls(str(building)))"
   ]
  },
  {
   "cell_type": "code",
   "execution_count": 36,
   "metadata": {},
   "outputs": [],
   "source": [
    "ctg_dummy = pd.get_dummies(categories).drop(columns=['n'])"
   ]
  },
  {
   "cell_type": "code",
   "execution_count": 30,
   "metadata": {},
   "outputs": [],
   "source": []
  },
  {
   "cell_type": "code",
   "execution_count": 31,
   "metadata": {},
   "outputs": [],
   "source": [
    "df2 = df2[(df2.yr_built != 0) & (df2.tot_sqft != 0) & (df2.price != 0)]"
   ]
  },
  {
   "cell_type": "code",
   "execution_count": 32,
   "metadata": {},
   "outputs": [],
   "source": [
    "X = df2.drop(columns=['price'])\n",
    "Y = df2.price"
   ]
  },
  {
   "cell_type": "code",
   "execution_count": 50,
   "metadata": {},
   "outputs": [
    {
     "name": "stdout",
     "output_type": "stream",
     "text": [
      "Train: 0.23234928984734382\n",
      "Test: -1.5007682806589938e+20\n"
     ]
    }
   ],
   "source": [
    "X_train, X_test, y_train, y_test = train_test_split(X, Y, test_size = .20, random_state = 40)\n",
    "\n",
    "lr = LinearRegression()\n",
    "lr.fit(X_train, y_train)\n",
    "\n",
    "print('Train:', lr.score(X_train, y_train))\n",
    "print('Test:', lr.score(X_test, y_test))"
   ]
  }
 ],
 "metadata": {
  "kernelspec": {
   "display_name": "Python 3",
   "language": "python",
   "name": "python3"
  },
  "language_info": {
   "codemirror_mode": {
    "name": "ipython",
    "version": 3
   },
   "file_extension": ".py",
   "mimetype": "text/x-python",
   "name": "python",
   "nbconvert_exporter": "python",
   "pygments_lexer": "ipython3",
   "version": "3.8.3"
  }
 },
 "nbformat": 4,
 "nbformat_minor": 4
}
