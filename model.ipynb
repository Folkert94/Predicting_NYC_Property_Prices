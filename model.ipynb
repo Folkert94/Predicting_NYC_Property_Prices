{
 "cells": [
  {
   "cell_type": "code",
   "execution_count": 1,
   "metadata": {},
   "outputs": [
    {
     "name": "stderr",
     "output_type": "stream",
     "text": [
      "C:\\Users\\folke\\anaconda3\\lib\\site-packages\\sklearn\\utils\\deprecation.py:143: FutureWarning: The sklearn.preprocessing.data module is  deprecated in version 0.22 and will be removed in version 0.24. The corresponding classes / functions should instead be imported from sklearn.preprocessing. Anything that cannot be imported from sklearn.preprocessing is now part of the private API.\n",
      "  warnings.warn(message, FutureWarning)\n"
     ]
    },
    {
     "name": "stdout",
     "output_type": "stream",
     "text": [
      "<class 'pandas.core.frame.DataFrame'>\n",
      "RangeIndex: 84768 entries, 0 to 84767\n",
      "Data columns (total 27 columns):\n",
      " #   Column      Non-Null Count  Dtype  \n",
      "---  ------      --------------  -----  \n",
      " 0   Unnamed: 0  84768 non-null  int64  \n",
      " 1   Sale_id     84768 non-null  int64  \n",
      " 2   bbl_id      84768 non-null  int64  \n",
      " 3   year        84768 non-null  int64  \n",
      " 4   borough     84768 non-null  int64  \n",
      " 5   bldg_ctgy   84768 non-null  object \n",
      " 6   tax_cls_p   84765 non-null  object \n",
      " 7   block       84768 non-null  int64  \n",
      " 8   lot         84768 non-null  int64  \n",
      " 9   easmnt      1 non-null      object \n",
      " 10  bldg_cls_p  84765 non-null  object \n",
      " 11  address     84768 non-null  object \n",
      " 12  apt         20983 non-null  object \n",
      " 13  zip         84768 non-null  int64  \n",
      " 14  res_unit    84768 non-null  int64  \n",
      " 15  com_unit    84768 non-null  int64  \n",
      " 16  tot_unit    84768 non-null  int64  \n",
      " 17  land_sqft   84768 non-null  int64  \n",
      " 18  tot_sqft    84768 non-null  int64  \n",
      " 19  yr_built    84768 non-null  int64  \n",
      " 20  tax_cls_s   84768 non-null  int64  \n",
      " 21  bldg_cls_s  84768 non-null  object \n",
      " 22  sale_date   84768 non-null  object \n",
      " 23  price       84768 non-null  int64  \n",
      " 24  usable      84768 non-null  object \n",
      " 25  long        84768 non-null  float64\n",
      " 26  lat         84768 non-null  float64\n",
      "dtypes: float64(2), int64(16), object(9)\n",
      "memory usage: 17.5+ MB\n"
     ]
    },
    {
     "name": "stderr",
     "output_type": "stream",
     "text": [
      "C:\\Users\\folke\\anaconda3\\lib\\site-packages\\IPython\\core\\interactiveshell.py:3071: DtypeWarning: Columns (9) have mixed types.Specify dtype option on import or set low_memory=False.\n",
      "  has_raised = await self.run_ast_nodes(code_ast.body, cell_name,\n"
     ]
    }
   ],
   "source": [
    "# import all libraries\n",
    "import numpy as np\n",
    "import pandas as pd\n",
    "import matplotlib.pyplot as plt \n",
    "import seaborn as sns\n",
    "import re\n",
    "\n",
    "import sklearn\n",
    "from sklearn.model_selection import train_test_split\n",
    "from sklearn.preprocessing import MinMaxScaler\n",
    "from sklearn.preprocessing import PolynomialFeatures\n",
    "from sklearn.preprocessing import scale\n",
    "from sklearn.feature_selection import RFE\n",
    "from sklearn import linear_model\n",
    "from sklearn import model_selection\n",
    "from sklearn.linear_model import LinearRegression, LogisticRegression, Ridge, Lasso \n",
    "from sklearn.ensemble import RandomForestClassifier\n",
    "from sklearn.linear_model import SGDClassifier\n",
    "from sklearn.linear_model import HuberRegressor\n",
    "from sklearn.neural_network import MLPClassifier\n",
    "from sklearn.model_selection import cross_val_score\n",
    "from sklearn.model_selection import KFold\n",
    "from sklearn.model_selection import GridSearchCV\n",
    "from sklearn.pipeline import make_pipeline\n",
    "from sklearn.metrics import r2_score\n",
    "from sklearn.metrics import mean_absolute_error\n",
    "from sklearn.metrics import classification_report\n",
    "\n",
    "from sklearn.preprocessing import Normalizer,StandardScaler\n",
    "from sklearn.preprocessing.data import normalize\n",
    "\n",
    "from statistics import mean \n",
    "\n",
    "df = pd.read_csv(\"sales_data_2015.csv\")\n",
    "df.info()"
   ]
  },
  {
   "cell_type": "code",
   "execution_count": 2,
   "metadata": {},
   "outputs": [
    {
     "data": {
      "text/plain": [
       "Index(['Unnamed: 0', 'Sale_id', 'bbl_id', 'year', 'borough', 'bldg_ctgy',\n",
       "       'tax_cls_p', 'block', 'lot', 'easmnt', 'bldg_cls_p', 'address', 'apt',\n",
       "       'zip', 'res_unit', 'com_unit', 'tot_unit', 'land_sqft', 'tot_sqft',\n",
       "       'yr_built', 'tax_cls_s', 'bldg_cls_s', 'sale_date', 'price', 'usable',\n",
       "       'long', 'lat'],\n",
       "      dtype='object')"
      ]
     },
     "execution_count": 2,
     "metadata": {},
     "output_type": "execute_result"
    }
   ],
   "source": [
    "df.columns"
   ]
  },
  {
   "cell_type": "code",
   "execution_count": 3,
   "metadata": {},
   "outputs": [],
   "source": [
    "# cleaning option 1\n",
    "# df2 = df[['borough', 'bldg_cls_p', 'tax_cls_p', 'tot_sqft', 'land_sqft', 'tot_unit', 'res_unit', 'com_unit', 'price']]\n",
    "# df2 = df2[(df2.tot_sqft != 0) & (df2.tot_sqft != 1) & (df2.price >= 100) & (df2.land_sqft != 0)]\n",
    "\n",
    "# df2.dropna(subset = [\"bldg_cls_p\"], inplace=True)\n",
    "# df2.dropna(subset = [\"tax_cls_p\"], inplace=True)\n",
    "\n",
    "# print(\"Length of dataset is {}\".format(len(df2)))\n",
    "\n",
    "# def bldg_cls_simple(building):\n",
    "#     return building[0]\n",
    "\n",
    "# def tax_cls_simple(building):\n",
    "#     return building[0]\n",
    "\n",
    "# df2['cat'] = df2.bldg_cls_p.apply(lambda building: bldg_cls_simple(str(building)))\n",
    "# df2['tax_cat'] = df2.tax_cls_p.apply(lambda building: tax_cls_simple(str(building)))\n",
    "\n",
    "# # df2 = pd.concat([df2, pd.get_dummies(df2.tax_cls_p)], axis=1)\n",
    "# df2 = pd.concat([df2, pd.get_dummies(df2.cat)], axis=1)\n",
    "# df2 = pd.concat([df2, pd.get_dummies(df2.tax_cat)], axis=1)\n",
    "# df2 = pd.concat([df2, pd.get_dummies(df2.borough, prefix=\"b\")], axis=1)\n",
    "\n",
    "# df2 = df2.drop(columns=['bldg_cls_p', 'borough', 'tax_cls_p', 'cat', 'tax_cat'])"
   ]
  },
  {
   "cell_type": "code",
   "execution_count": 4,
   "metadata": {},
   "outputs": [
    {
     "name": "stdout",
     "output_type": "stream",
     "text": [
      "Length of dataset is 27973\n"
     ]
    }
   ],
   "source": [
    "# cleaning option 2 (all possible features)\n",
    "df2 = df[['borough', 'bldg_ctgy','bldg_cls_p', 'tax_cls_p','bldg_cls_s', 'tax_cls_s', 'tot_sqft', 'yr_built', 'land_sqft', 'tot_unit', 'res_unit', 'com_unit', 'price']]\n",
    "df2 = df2[(df2.tot_sqft != 0) & (df2.tot_sqft != 1) & (df2.land_sqft != 0) & (df2.land_sqft != 1) & (df2.price >= 1000) & (df2.land_sqft != 0) & (df2.yr_built !=0)]\n",
    "\n",
    "df2.dropna(subset = [\"bldg_cls_p\"], inplace=True)\n",
    "df2.dropna(subset = [\"tax_cls_p\"], inplace=True)\n",
    "\n",
    "print(\"Length of dataset is {}\".format(len(df2)))\n",
    "\n",
    "df2 = pd.concat([df2, pd.get_dummies(df2.bldg_cls_s, prefix=\"bdgp_cls_s\")], axis=1)\n",
    "df2 = pd.concat([df2, pd.get_dummies(df2.borough, prefix=\"b\")], axis=1)\n",
    "df2 = pd.concat([df2, pd.get_dummies(df2.bldg_ctgy, prefix=\"bldg_ctgy\")], axis=1)\n",
    "# df2 = pd.concat([df2, pd.get_dummies(df2.tax_cls_s, prefix=\"tax_cls_s\")], axis=1)\n",
    "\n",
    "df2 = df2.drop(columns=['borough','bldg_ctgy', 'bldg_cls_p', 'tax_cls_p','bldg_cls_s'])"
   ]
  },
  {
   "cell_type": "code",
   "execution_count": 5,
   "metadata": {},
   "outputs": [
    {
     "data": {
      "text/html": [
       "<div>\n",
       "<style scoped>\n",
       "    .dataframe tbody tr th:only-of-type {\n",
       "        vertical-align: middle;\n",
       "    }\n",
       "\n",
       "    .dataframe tbody tr th {\n",
       "        vertical-align: top;\n",
       "    }\n",
       "\n",
       "    .dataframe thead th {\n",
       "        text-align: right;\n",
       "    }\n",
       "</style>\n",
       "<table border=\"1\" class=\"dataframe\">\n",
       "  <thead>\n",
       "    <tr style=\"text-align: right;\">\n",
       "      <th></th>\n",
       "      <th>tax_cls_s</th>\n",
       "      <th>tot_sqft</th>\n",
       "      <th>yr_built</th>\n",
       "      <th>land_sqft</th>\n",
       "      <th>tot_unit</th>\n",
       "      <th>res_unit</th>\n",
       "      <th>com_unit</th>\n",
       "      <th>price</th>\n",
       "      <th>bdgp_cls_s_A0</th>\n",
       "      <th>bdgp_cls_s_A1</th>\n",
       "      <th>...</th>\n",
       "      <th>bldg_ctgy_32  HOSPITAL AND HEALTH FACILITIES</th>\n",
       "      <th>bldg_ctgy_33  EDUCATIONAL FACILITIES</th>\n",
       "      <th>bldg_ctgy_34  THEATRES</th>\n",
       "      <th>bldg_ctgy_35  INDOOR PUBLIC AND CULTURAL FACILITIES</th>\n",
       "      <th>bldg_ctgy_36  OUTDOOR RECREATIONAL FACILITIES</th>\n",
       "      <th>bldg_ctgy_37  RELIGIOUS FACILITIES</th>\n",
       "      <th>bldg_ctgy_38  ASYLUMS AND HOMES</th>\n",
       "      <th>bldg_ctgy_39  TRANSPORTATION FACILITIES</th>\n",
       "      <th>bldg_ctgy_40  SELECTED GOVERNMENTAL FACILITIES</th>\n",
       "      <th>bldg_ctgy_41  TAX CLASS 4 - OTHER</th>\n",
       "    </tr>\n",
       "  </thead>\n",
       "  <tbody>\n",
       "    <tr>\n",
       "      <th>4</th>\n",
       "      <td>1</td>\n",
       "      <td>2452</td>\n",
       "      <td>1910</td>\n",
       "      <td>2500</td>\n",
       "      <td>2</td>\n",
       "      <td>1</td>\n",
       "      <td>1</td>\n",
       "      <td>400000</td>\n",
       "      <td>0</td>\n",
       "      <td>0</td>\n",
       "      <td>...</td>\n",
       "      <td>0</td>\n",
       "      <td>0</td>\n",
       "      <td>0</td>\n",
       "      <td>0</td>\n",
       "      <td>0</td>\n",
       "      <td>0</td>\n",
       "      <td>0</td>\n",
       "      <td>0</td>\n",
       "      <td>0</td>\n",
       "      <td>0</td>\n",
       "    </tr>\n",
       "    <tr>\n",
       "      <th>7</th>\n",
       "      <td>1</td>\n",
       "      <td>2400</td>\n",
       "      <td>1993</td>\n",
       "      <td>2000</td>\n",
       "      <td>2</td>\n",
       "      <td>2</td>\n",
       "      <td>0</td>\n",
       "      <td>430000</td>\n",
       "      <td>0</td>\n",
       "      <td>0</td>\n",
       "      <td>...</td>\n",
       "      <td>0</td>\n",
       "      <td>0</td>\n",
       "      <td>0</td>\n",
       "      <td>0</td>\n",
       "      <td>0</td>\n",
       "      <td>0</td>\n",
       "      <td>0</td>\n",
       "      <td>0</td>\n",
       "      <td>0</td>\n",
       "      <td>0</td>\n",
       "    </tr>\n",
       "    <tr>\n",
       "      <th>8</th>\n",
       "      <td>1</td>\n",
       "      <td>2400</td>\n",
       "      <td>1993</td>\n",
       "      <td>2000</td>\n",
       "      <td>2</td>\n",
       "      <td>2</td>\n",
       "      <td>0</td>\n",
       "      <td>10000</td>\n",
       "      <td>0</td>\n",
       "      <td>0</td>\n",
       "      <td>...</td>\n",
       "      <td>0</td>\n",
       "      <td>0</td>\n",
       "      <td>0</td>\n",
       "      <td>0</td>\n",
       "      <td>0</td>\n",
       "      <td>0</td>\n",
       "      <td>0</td>\n",
       "      <td>0</td>\n",
       "      <td>0</td>\n",
       "      <td>0</td>\n",
       "    </tr>\n",
       "    <tr>\n",
       "      <th>9</th>\n",
       "      <td>1</td>\n",
       "      <td>2394</td>\n",
       "      <td>1995</td>\n",
       "      <td>3165</td>\n",
       "      <td>2</td>\n",
       "      <td>2</td>\n",
       "      <td>0</td>\n",
       "      <td>505000</td>\n",
       "      <td>0</td>\n",
       "      <td>0</td>\n",
       "      <td>...</td>\n",
       "      <td>0</td>\n",
       "      <td>0</td>\n",
       "      <td>0</td>\n",
       "      <td>0</td>\n",
       "      <td>0</td>\n",
       "      <td>0</td>\n",
       "      <td>0</td>\n",
       "      <td>0</td>\n",
       "      <td>0</td>\n",
       "      <td>0</td>\n",
       "    </tr>\n",
       "    <tr>\n",
       "      <th>10</th>\n",
       "      <td>1</td>\n",
       "      <td>3240</td>\n",
       "      <td>1931</td>\n",
       "      <td>1620</td>\n",
       "      <td>3</td>\n",
       "      <td>2</td>\n",
       "      <td>1</td>\n",
       "      <td>490000</td>\n",
       "      <td>0</td>\n",
       "      <td>0</td>\n",
       "      <td>...</td>\n",
       "      <td>0</td>\n",
       "      <td>0</td>\n",
       "      <td>0</td>\n",
       "      <td>0</td>\n",
       "      <td>0</td>\n",
       "      <td>0</td>\n",
       "      <td>0</td>\n",
       "      <td>0</td>\n",
       "      <td>0</td>\n",
       "      <td>0</td>\n",
       "    </tr>\n",
       "    <tr>\n",
       "      <th>...</th>\n",
       "      <td>...</td>\n",
       "      <td>...</td>\n",
       "      <td>...</td>\n",
       "      <td>...</td>\n",
       "      <td>...</td>\n",
       "      <td>...</td>\n",
       "      <td>...</td>\n",
       "      <td>...</td>\n",
       "      <td>...</td>\n",
       "      <td>...</td>\n",
       "      <td>...</td>\n",
       "      <td>...</td>\n",
       "      <td>...</td>\n",
       "      <td>...</td>\n",
       "      <td>...</td>\n",
       "      <td>...</td>\n",
       "      <td>...</td>\n",
       "      <td>...</td>\n",
       "      <td>...</td>\n",
       "      <td>...</td>\n",
       "      <td>...</td>\n",
       "    </tr>\n",
       "    <tr>\n",
       "      <th>84758</th>\n",
       "      <td>1</td>\n",
       "      <td>1200</td>\n",
       "      <td>1998</td>\n",
       "      <td>3447</td>\n",
       "      <td>2</td>\n",
       "      <td>2</td>\n",
       "      <td>0</td>\n",
       "      <td>465000</td>\n",
       "      <td>0</td>\n",
       "      <td>0</td>\n",
       "      <td>...</td>\n",
       "      <td>0</td>\n",
       "      <td>0</td>\n",
       "      <td>0</td>\n",
       "      <td>0</td>\n",
       "      <td>0</td>\n",
       "      <td>0</td>\n",
       "      <td>0</td>\n",
       "      <td>0</td>\n",
       "      <td>0</td>\n",
       "      <td>0</td>\n",
       "    </tr>\n",
       "    <tr>\n",
       "      <th>84759</th>\n",
       "      <td>1</td>\n",
       "      <td>1550</td>\n",
       "      <td>1997</td>\n",
       "      <td>5645</td>\n",
       "      <td>2</td>\n",
       "      <td>2</td>\n",
       "      <td>0</td>\n",
       "      <td>515000</td>\n",
       "      <td>0</td>\n",
       "      <td>0</td>\n",
       "      <td>...</td>\n",
       "      <td>0</td>\n",
       "      <td>0</td>\n",
       "      <td>0</td>\n",
       "      <td>0</td>\n",
       "      <td>0</td>\n",
       "      <td>0</td>\n",
       "      <td>0</td>\n",
       "      <td>0</td>\n",
       "      <td>0</td>\n",
       "      <td>0</td>\n",
       "    </tr>\n",
       "    <tr>\n",
       "      <th>84761</th>\n",
       "      <td>1</td>\n",
       "      <td>1600</td>\n",
       "      <td>1997</td>\n",
       "      <td>5700</td>\n",
       "      <td>2</td>\n",
       "      <td>2</td>\n",
       "      <td>0</td>\n",
       "      <td>165000</td>\n",
       "      <td>0</td>\n",
       "      <td>0</td>\n",
       "      <td>...</td>\n",
       "      <td>0</td>\n",
       "      <td>0</td>\n",
       "      <td>0</td>\n",
       "      <td>0</td>\n",
       "      <td>0</td>\n",
       "      <td>0</td>\n",
       "      <td>0</td>\n",
       "      <td>0</td>\n",
       "      <td>0</td>\n",
       "      <td>0</td>\n",
       "    </tr>\n",
       "    <tr>\n",
       "      <th>84763</th>\n",
       "      <td>1</td>\n",
       "      <td>1300</td>\n",
       "      <td>1996</td>\n",
       "      <td>3180</td>\n",
       "      <td>2</td>\n",
       "      <td>2</td>\n",
       "      <td>0</td>\n",
       "      <td>495000</td>\n",
       "      <td>0</td>\n",
       "      <td>0</td>\n",
       "      <td>...</td>\n",
       "      <td>0</td>\n",
       "      <td>0</td>\n",
       "      <td>0</td>\n",
       "      <td>0</td>\n",
       "      <td>0</td>\n",
       "      <td>0</td>\n",
       "      <td>0</td>\n",
       "      <td>0</td>\n",
       "      <td>0</td>\n",
       "      <td>0</td>\n",
       "    </tr>\n",
       "    <tr>\n",
       "      <th>84765</th>\n",
       "      <td>1</td>\n",
       "      <td>2875</td>\n",
       "      <td>1997</td>\n",
       "      <td>7933</td>\n",
       "      <td>2</td>\n",
       "      <td>2</td>\n",
       "      <td>0</td>\n",
       "      <td>825000</td>\n",
       "      <td>0</td>\n",
       "      <td>0</td>\n",
       "      <td>...</td>\n",
       "      <td>0</td>\n",
       "      <td>0</td>\n",
       "      <td>0</td>\n",
       "      <td>0</td>\n",
       "      <td>0</td>\n",
       "      <td>0</td>\n",
       "      <td>0</td>\n",
       "      <td>0</td>\n",
       "      <td>0</td>\n",
       "      <td>0</td>\n",
       "    </tr>\n",
       "  </tbody>\n",
       "</table>\n",
       "<p>27973 rows × 183 columns</p>\n",
       "</div>"
      ],
      "text/plain": [
       "       tax_cls_s  tot_sqft  yr_built  land_sqft  tot_unit  res_unit  com_unit  \\\n",
       "4              1      2452      1910       2500         2         1         1   \n",
       "7              1      2400      1993       2000         2         2         0   \n",
       "8              1      2400      1993       2000         2         2         0   \n",
       "9              1      2394      1995       3165         2         2         0   \n",
       "10             1      3240      1931       1620         3         2         1   \n",
       "...          ...       ...       ...        ...       ...       ...       ...   \n",
       "84758          1      1200      1998       3447         2         2         0   \n",
       "84759          1      1550      1997       5645         2         2         0   \n",
       "84761          1      1600      1997       5700         2         2         0   \n",
       "84763          1      1300      1996       3180         2         2         0   \n",
       "84765          1      2875      1997       7933         2         2         0   \n",
       "\n",
       "        price  bdgp_cls_s_A0  bdgp_cls_s_A1  ...  \\\n",
       "4      400000              0              0  ...   \n",
       "7      430000              0              0  ...   \n",
       "8       10000              0              0  ...   \n",
       "9      505000              0              0  ...   \n",
       "10     490000              0              0  ...   \n",
       "...       ...            ...            ...  ...   \n",
       "84758  465000              0              0  ...   \n",
       "84759  515000              0              0  ...   \n",
       "84761  165000              0              0  ...   \n",
       "84763  495000              0              0  ...   \n",
       "84765  825000              0              0  ...   \n",
       "\n",
       "       bldg_ctgy_32  HOSPITAL AND HEALTH FACILITIES  \\\n",
       "4                                                 0   \n",
       "7                                                 0   \n",
       "8                                                 0   \n",
       "9                                                 0   \n",
       "10                                                0   \n",
       "...                                             ...   \n",
       "84758                                             0   \n",
       "84759                                             0   \n",
       "84761                                             0   \n",
       "84763                                             0   \n",
       "84765                                             0   \n",
       "\n",
       "       bldg_ctgy_33  EDUCATIONAL FACILITIES  bldg_ctgy_34  THEATRES  \\\n",
       "4                                         0                       0   \n",
       "7                                         0                       0   \n",
       "8                                         0                       0   \n",
       "9                                         0                       0   \n",
       "10                                        0                       0   \n",
       "...                                     ...                     ...   \n",
       "84758                                     0                       0   \n",
       "84759                                     0                       0   \n",
       "84761                                     0                       0   \n",
       "84763                                     0                       0   \n",
       "84765                                     0                       0   \n",
       "\n",
       "       bldg_ctgy_35  INDOOR PUBLIC AND CULTURAL FACILITIES  \\\n",
       "4                                                      0     \n",
       "7                                                      0     \n",
       "8                                                      0     \n",
       "9                                                      0     \n",
       "10                                                     0     \n",
       "...                                                  ...     \n",
       "84758                                                  0     \n",
       "84759                                                  0     \n",
       "84761                                                  0     \n",
       "84763                                                  0     \n",
       "84765                                                  0     \n",
       "\n",
       "       bldg_ctgy_36  OUTDOOR RECREATIONAL FACILITIES  \\\n",
       "4                                                  0   \n",
       "7                                                  0   \n",
       "8                                                  0   \n",
       "9                                                  0   \n",
       "10                                                 0   \n",
       "...                                              ...   \n",
       "84758                                              0   \n",
       "84759                                              0   \n",
       "84761                                              0   \n",
       "84763                                              0   \n",
       "84765                                              0   \n",
       "\n",
       "       bldg_ctgy_37  RELIGIOUS FACILITIES  bldg_ctgy_38  ASYLUMS AND HOMES  \\\n",
       "4                                       0                                0   \n",
       "7                                       0                                0   \n",
       "8                                       0                                0   \n",
       "9                                       0                                0   \n",
       "10                                      0                                0   \n",
       "...                                   ...                              ...   \n",
       "84758                                   0                                0   \n",
       "84759                                   0                                0   \n",
       "84761                                   0                                0   \n",
       "84763                                   0                                0   \n",
       "84765                                   0                                0   \n",
       "\n",
       "       bldg_ctgy_39  TRANSPORTATION FACILITIES  \\\n",
       "4                                            0   \n",
       "7                                            0   \n",
       "8                                            0   \n",
       "9                                            0   \n",
       "10                                           0   \n",
       "...                                        ...   \n",
       "84758                                        0   \n",
       "84759                                        0   \n",
       "84761                                        0   \n",
       "84763                                        0   \n",
       "84765                                        0   \n",
       "\n",
       "       bldg_ctgy_40  SELECTED GOVERNMENTAL FACILITIES  \\\n",
       "4                                                   0   \n",
       "7                                                   0   \n",
       "8                                                   0   \n",
       "9                                                   0   \n",
       "10                                                  0   \n",
       "...                                               ...   \n",
       "84758                                               0   \n",
       "84759                                               0   \n",
       "84761                                               0   \n",
       "84763                                               0   \n",
       "84765                                               0   \n",
       "\n",
       "       bldg_ctgy_41  TAX CLASS 4 - OTHER  \n",
       "4                                      0  \n",
       "7                                      0  \n",
       "8                                      0  \n",
       "9                                      0  \n",
       "10                                     0  \n",
       "...                                  ...  \n",
       "84758                                  0  \n",
       "84759                                  0  \n",
       "84761                                  0  \n",
       "84763                                  0  \n",
       "84765                                  0  \n",
       "\n",
       "[27973 rows x 183 columns]"
      ]
     },
     "execution_count": 5,
     "metadata": {},
     "output_type": "execute_result"
    }
   ],
   "source": [
    "df2"
   ]
  },
  {
   "cell_type": "code",
   "execution_count": 6,
   "metadata": {},
   "outputs": [
    {
     "data": {
      "text/plain": [
       "183"
      ]
     },
     "execution_count": 6,
     "metadata": {},
     "output_type": "execute_result"
    }
   ],
   "source": [
    "len(df2.columns)"
   ]
  },
  {
   "cell_type": "code",
   "execution_count": 7,
   "metadata": {},
   "outputs": [
    {
     "name": "stdout",
     "output_type": "stream",
     "text": [
      "(27973, 182) (27973,)\n"
     ]
    }
   ],
   "source": [
    "X = df2.drop(columns=['price'])\n",
    "Y = df2.price\n",
    "Y = np.array(Y).reshape(-1)\n",
    "print(X.shape,Y.shape)"
   ]
  },
  {
   "cell_type": "code",
   "execution_count": 8,
   "metadata": {},
   "outputs": [],
   "source": [
    "# cross validation parameters\n",
    "\n",
    "def nested_cv(MODEL, PARAMS, X, Y, NUM_TRIALS):\n",
    "    mae_scores = []\n",
    "    r2_scores = []\n",
    "\n",
    "    for i in range(NUM_TRIALS):\n",
    "        print(\"At {}th trail\".format(i))\n",
    "        inner_cv = KFold(n_splits=10, random_state=i, shuffle=True)\n",
    "        outer_cv = KFold(n_splits=10, random_state=i, shuffle=True)\n",
    "        feature_scaler = StandardScaler()\n",
    "        X = feature_scaler.fit_transform(X)\n",
    "        model = MODEL\n",
    "\n",
    "        lm = GridSearchCV(estimator=model, param_grid=PARAMS, cv=inner_cv)\n",
    "        mae_score = cross_val_score(lm, X=X, y=Y, cv=outer_cv, scoring='neg_mean_absolute_error')\n",
    "        mae_scores.append([mae_score.mean(), mae_score.std()])\n",
    "        r2_score = cross_val_score(lm, X=X, y=Y, cv=outer_cv, scoring='r2')\n",
    "        r2_scores.append([r2_score.mean(), r2_score.std()])\n",
    "    \n",
    "    return r2_scores, mae_scores"
   ]
  },
  {
   "cell_type": "code",
   "execution_count": 9,
   "metadata": {},
   "outputs": [
    {
     "name": "stdout",
     "output_type": "stream",
     "text": [
      "keep column  tax_cls_s 0.23012594469164713\n",
      "keep column  tot_sqft 0.48842222398733975\n",
      "keep column  land_sqft 0.2391077103972308\n",
      "keep column  tot_unit 0.28309517109116783\n",
      "keep column  res_unit 0.23833585391510026\n",
      "keep column  com_unit 0.3423310994445457\n",
      "keep column  bdgp_cls_s_H1 0.2773055370580201\n",
      "keep column  bdgp_cls_s_O3 0.26619319269635827\n",
      "keep column  bdgp_cls_s_O4 0.490557974935088\n",
      "keep column  b_1 0.2728117239135292\n",
      "keep column  bldg_ctgy_08  RENTALS - ELEVATOR APARTMENTS 0.22184774311106858\n",
      "keep column  bldg_ctgy_21  OFFICE BUILDINGS 0.2537633305151676\n",
      "keep column  bldg_ctgy_25  LUXURY HOTELS 0.2672377522449991\n"
     ]
    }
   ],
   "source": [
    "for column in X.columns:\n",
    "    corry = np.corrcoef(Y, X[\"{}\".format(column)])[0][1]\n",
    "    if corry < 0.2 and corry > -0.2:\n",
    "#         print(\"removed column {0}, because {1}\".format(column, corry))\n",
    "        X = X.drop(columns=[column])\n",
    "    else:\n",
    "        print(\"keep column \", column, corry)"
   ]
  },
  {
   "cell_type": "code",
   "execution_count": 10,
   "metadata": {},
   "outputs": [
    {
     "data": {
      "text/plain": [
       "13"
      ]
     },
     "execution_count": 10,
     "metadata": {},
     "output_type": "execute_result"
    }
   ],
   "source": [
    "len(X.columns)"
   ]
  },
  {
   "cell_type": "code",
   "execution_count": 11,
   "metadata": {},
   "outputs": [
    {
     "data": {
      "image/png": "[encoded data removed]",
      "text/plain": [
       "<Figure size 1080x648 with 2 Axes>"
      ]
     },
     "metadata": {
      "needs_background": "light"
     },
     "output_type": "display_data"
    }
   ],
   "source": [
    "f, ax = plt.subplots(figsize=(15, 9))\n",
    "\n",
    "corr = pd.concat([df2.price, df2[list(X.columns)]], axis=1).corr()\n",
    "heatmap = sns.heatmap(corr, vmin=-1, vmax=1, annot=True)\n",
    "plt.savefig('corr_heatmap.png', dpi=300, transparent=True)"
   ]
  },
  {
   "cell_type": "code",
   "execution_count": null,
   "metadata": {},
   "outputs": [
    {
     "name": "stdout",
     "output_type": "stream",
     "text": [
      "At 0th trail\n",
      "At 1th trail\n",
      "At 2th trail\n",
      "At 3th trail\n",
      "At 4th trail\n",
      "At 5th trail\n"
     ]
    },
    {
     "name": "stderr",
     "output_type": "stream",
     "text": [
      "C:\\Users\\folke\\anaconda3\\lib\\site-packages\\sklearn\\linear_model\\_huber.py:296: ConvergenceWarning: lbfgs failed to converge (status=1):\n",
      "STOP: TOTAL NO. of ITERATIONS REACHED LIMIT.\n",
      "\n",
      "Increase the number of iterations (max_iter) or scale the data as shown in:\n",
      "    https://scikit-learn.org/stable/modules/preprocessing.html\n",
      "  self.n_iter_ = _check_optimize_result(\"lbfgs\", opt_res, self.max_iter)\n",
      "C:\\Users\\folke\\anaconda3\\lib\\site-packages\\sklearn\\linear_model\\_huber.py:296: ConvergenceWarning: lbfgs failed to converge (status=1):\n",
      "STOP: TOTAL NO. of ITERATIONS REACHED LIMIT.\n",
      "\n",
      "Increase the number of iterations (max_iter) or scale the data as shown in:\n",
      "    https://scikit-learn.org/stable/modules/preprocessing.html\n",
      "  self.n_iter_ = _check_optimize_result(\"lbfgs\", opt_res, self.max_iter)\n"
     ]
    },
    {
     "name": "stdout",
     "output_type": "stream",
     "text": [
      "At 6th trail\n"
     ]
    }
   ],
   "source": [
    "parameters = {'alpha': [1e-3, 1e-4]}\n",
    "\n",
    "model = linear_model.HuberRegressor(tol=0.1)\n",
    "\n",
    "nested_huber = nested_cv(model, parameters, X, Y, 10)"
   ]
  },
  {
   "cell_type": "code",
   "execution_count": null,
   "metadata": {},
   "outputs": [],
   "source": [
    "temp = np.array(nested_huber)\n",
    "print(np.mean(temp[0], axis=0))\n",
    "print(np.mean(temp[1], axis=0))"
   ]
  },
  {
   "cell_type": "code",
   "execution_count": null,
   "metadata": {},
   "outputs": [],
   "source": [
    "parameters = {'alpha': [1e-15, 1e-10, 1e-8, 1e-4, 1e-3, 1e-2, 1, 5, 10, 20]}\n",
    "model = linear_model.Lasso(tol=1.0, normalize=True)\n",
    "nested_lm = nested_cv(model, parameters, X, Y, 10)"
   ]
  },
  {
   "cell_type": "code",
   "execution_count": null,
   "metadata": {},
   "outputs": [],
   "source": [
    "temp = np.array(nested_lm)\n",
    "print(np.mean(temp[0], axis=0))\n",
    "print(np.mean(temp[1], axis=0))"
   ]
  },
  {
   "cell_type": "code",
   "execution_count": null,
   "metadata": {},
   "outputs": [],
   "source": [
    "parameters = {'alpha': [1e-15, 1e-10, 1e-8, 1e-4, 1e-3, 1e-2, 1, 5, 10, 20]}\n",
    "ridge = Ridge()\n",
    "nested_rlm = nested_cv(ridge, parameters, X, Y, 10)"
   ]
  },
  {
   "cell_type": "code",
   "execution_count": null,
   "metadata": {},
   "outputs": [],
   "source": [
    "temp = np.array(nested_rlm)\n",
    "print(np.mean(temp[0], axis=0))\n",
    "print(np.mean(temp[1], axis=0))"
   ]
  },
  {
   "cell_type": "code",
   "execution_count": null,
   "metadata": {},
   "outputs": [],
   "source": [
    "X_train, X_test, y_train, y_test = train_test_split(X, Y, test_size = .30, random_state = 10)\n",
    "\n",
    "feature_scaler = StandardScaler()\n",
    "X_train = feature_scaler.fit_transform(X_train)\n",
    "X_test = feature_scaler.transform(X_test)"
   ]
  },
  {
   "cell_type": "code",
   "execution_count": null,
   "metadata": {},
   "outputs": [],
   "source": [
    "lm = linear_model.Lasso(tol=1.0, normalize=True)\n",
    "lm.fit(X_train, y_train)\n",
    "print('Train:', lm.score(X_train, y_train))\n",
    "print('Test:', lm.score(X_test, y_test))\n",
    "\n",
    "mae_model = mean_absolute_error(y_test, lm.predict(X_test))\n",
    "mae_baseline = abs(y_test - y_test.mean()).mean()\n",
    "\n",
    "print('MAE:', mae_model)\n",
    "print('MAE (baseline):', mae_baseline)\n",
    "print('Improvement: {:.2f} %'.format(((mae_model-mae_baseline)/ mae_baseline )* 100) )"
   ]
  },
  {
   "cell_type": "code",
   "execution_count": null,
   "metadata": {},
   "outputs": [],
   "source": [
    "X.columns"
   ]
  },
  {
   "cell_type": "code",
   "execution_count": null,
   "metadata": {},
   "outputs": [],
   "source": [
    "parameters = {'alpha': [1e-15, 1e-10, 1e-8, 1e-4, 1e-3, 1e-2, 1, 5, 10, 20]}"
   ]
  },
  {
   "cell_type": "code",
   "execution_count": null,
   "metadata": {},
   "outputs": [],
   "source": [
    "ridge = Ridge()\n",
    "\n",
    "ridge_regressor = GridSearchCV(ridge, parameters, scoring='r2', cv=5)\n",
    "\n",
    "ridge_regressor.fit(X_train, y_train)"
   ]
  },
  {
   "cell_type": "code",
   "execution_count": null,
   "metadata": {},
   "outputs": [],
   "source": [
    "print(ridge_regressor.best_params_, ridge_regressor.best_score_)"
   ]
  },
  {
   "cell_type": "code",
   "execution_count": null,
   "metadata": {},
   "outputs": [],
   "source": [
    "mean_model = [y_train.mean()] * len(y_test)"
   ]
  },
  {
   "cell_type": "code",
   "execution_count": null,
   "metadata": {},
   "outputs": [],
   "source": [
    "r2_score(y_test, mean_model)"
   ]
  },
  {
   "cell_type": "code",
   "execution_count": null,
   "metadata": {},
   "outputs": [],
   "source": [
    "print('Test:', ridge_regressor.score(X_test, y_test))\n",
    "\n",
    "mae_model = mean_absolute_error(y_test, ridge_regressor.predict(X_test))\n",
    "mae_baseline = abs(y_test - y_train.mean()).mean()\n",
    "\n",
    "print('MAE:', mae_model)\n",
    "print('MAE (baseline):', mae_baseline)\n",
    "print('Improvement: {:.2f} %'.format(((mae_model-mae_baseline)/ mae_baseline )* 100) )"
   ]
  },
  {
   "cell_type": "code",
   "execution_count": null,
   "metadata": {},
   "outputs": [],
   "source": [
    "lasso = Lasso(normalize=True)\n",
    "\n",
    "lasso_regressor = GridSearchCV(lasso, parameters, scoring='r2', cv=5)\n",
    "\n",
    "lasso_regressor.fit(X_train, y_train)"
   ]
  },
  {
   "cell_type": "code",
   "execution_count": null,
   "metadata": {},
   "outputs": [],
   "source": [
    "print(lasso_regressor.best_params_, lasso_regressor.best_score_)"
   ]
  },
  {
   "cell_type": "code",
   "execution_count": null,
   "metadata": {},
   "outputs": [],
   "source": [
    "print('Test:', lasso_regressor.score(X_test, y_test))\n",
    "\n",
    "mae_model = mean_absolute_error(y_test, lasso_regressor.predict(X_test))\n",
    "mae_baseline = abs(y_test - y_test.mean()).mean()\n",
    "\n",
    "print('MAE:', mae_model)\n",
    "print('MAE (baseline):', mae_baseline)\n",
    "print('Improvement: {:.2f} %'.format(((mae_model-mae_baseline)/ mae_baseline )* 100) )"
   ]
  },
  {
   "cell_type": "code",
   "execution_count": null,
   "metadata": {},
   "outputs": [],
   "source": [
    "lm = LinearRegression()\n",
    "lm.fit(X_train, y_train)\n",
    "\n",
    "print('Train:', lm.score(X_train, y_train))\n",
    "print('Test:', lm.score(X_test, y_test))\n",
    "\n",
    "mae_model = mean_absolute_error(y_test, lm.predict(X_test))\n",
    "mae_baseline = abs(y_test - y_train.mean()).mean()\n",
    "\n",
    "print('MAE:', mae_model)\n",
    "print('MAE (baseline):', mae_baseline)\n",
    "print('Improvement: {:.2f} %'.format(((mae_model-mae_baseline)/ mae_baseline )* 100) )"
   ]
  },
  {
   "cell_type": "code",
   "execution_count": null,
   "metadata": {},
   "outputs": [],
   "source": [
    "# lm = LinearRegression(normalize=True)\n",
    "# lm.fit(X_train, y_train)\n",
    "\n",
    "lm = linear_model.Lasso(alpha=20, tol=1.0, normalize=True)\n",
    "lm.fit(X_train, y_train)\n",
    "\n",
    "print('Train:', lm.score(X_train, y_train))\n",
    "print('Test:', lm.score(X_test, y_test))\n",
    "\n",
    "mae_model = mean_absolute_error(y_test, lm.predict(X_test))\n",
    "mae_baseline = abs(y_test - y_train.mean()).mean()\n",
    "\n",
    "print('MAE:', mae_model)\n",
    "print('MAE (baseline):', mae_baseline)\n",
    "print('Improvement: {:.2f} %'.format(((mae_model-mae_baseline)/ mae_baseline )* 100) )"
   ]
  },
  {
   "cell_type": "code",
   "execution_count": 7,
   "metadata": {},
   "outputs": [],
   "source": [
    "df3 = pd.read_csv(\"sales_data_2015_DF-inception-conv.csv\", index_col=0)"
   ]
  },
  {
   "cell_type": "code",
   "execution_count": 8,
   "metadata": {},
   "outputs": [
    {
     "data": {
      "text/html": [
       "<div>\n",
       "<style scoped>\n",
       "    .dataframe tbody tr th:only-of-type {\n",
       "        vertical-align: middle;\n",
       "    }\n",
       "\n",
       "    .dataframe tbody tr th {\n",
       "        vertical-align: top;\n",
       "    }\n",
       "\n",
       "    .dataframe thead th {\n",
       "        text-align: right;\n",
       "    }\n",
       "</style>\n",
       "<table border=\"1\" class=\"dataframe\">\n",
       "  <thead>\n",
       "    <tr style=\"text-align: right;\">\n",
       "      <th></th>\n",
       "      <th>Sale_id</th>\n",
       "      <th>bbl_id</th>\n",
       "      <th>0</th>\n",
       "      <th>1</th>\n",
       "      <th>2</th>\n",
       "      <th>3</th>\n",
       "      <th>4</th>\n",
       "      <th>5</th>\n",
       "      <th>6</th>\n",
       "      <th>7</th>\n",
       "      <th>...</th>\n",
       "      <th>22</th>\n",
       "      <th>23</th>\n",
       "      <th>24</th>\n",
       "      <th>25</th>\n",
       "      <th>26</th>\n",
       "      <th>27</th>\n",
       "      <th>28</th>\n",
       "      <th>29</th>\n",
       "      <th>30</th>\n",
       "      <th>31</th>\n",
       "    </tr>\n",
       "  </thead>\n",
       "  <tbody>\n",
       "    <tr>\n",
       "      <th>0</th>\n",
       "      <td>1</td>\n",
       "      <td>2290528</td>\n",
       "      <td>0.141194</td>\n",
       "      <td>0.421060</td>\n",
       "      <td>0.466694</td>\n",
       "      <td>-0.989387</td>\n",
       "      <td>0.091223</td>\n",
       "      <td>1.033919</td>\n",
       "      <td>-0.001966</td>\n",
       "      <td>-0.098034</td>\n",
       "      <td>...</td>\n",
       "      <td>0.600213</td>\n",
       "      <td>-0.493792</td>\n",
       "      <td>-0.047002</td>\n",
       "      <td>-0.092415</td>\n",
       "      <td>0.427163</td>\n",
       "      <td>0.688372</td>\n",
       "      <td>-0.549481</td>\n",
       "      <td>-0.538056</td>\n",
       "      <td>0.358792</td>\n",
       "      <td>-0.103146</td>\n",
       "    </tr>\n",
       "    <tr>\n",
       "      <th>1</th>\n",
       "      <td>2</td>\n",
       "      <td>2290528</td>\n",
       "      <td>0.141194</td>\n",
       "      <td>0.421060</td>\n",
       "      <td>0.466694</td>\n",
       "      <td>-0.989387</td>\n",
       "      <td>0.091223</td>\n",
       "      <td>1.033919</td>\n",
       "      <td>-0.001966</td>\n",
       "      <td>-0.098034</td>\n",
       "      <td>...</td>\n",
       "      <td>0.600213</td>\n",
       "      <td>-0.493792</td>\n",
       "      <td>-0.047002</td>\n",
       "      <td>-0.092415</td>\n",
       "      <td>0.427163</td>\n",
       "      <td>0.688372</td>\n",
       "      <td>-0.549481</td>\n",
       "      <td>-0.538056</td>\n",
       "      <td>0.358792</td>\n",
       "      <td>-0.103146</td>\n",
       "    </tr>\n",
       "    <tr>\n",
       "      <th>2</th>\n",
       "      <td>3</td>\n",
       "      <td>230352</td>\n",
       "      <td>0.114756</td>\n",
       "      <td>0.350338</td>\n",
       "      <td>0.387500</td>\n",
       "      <td>-0.834070</td>\n",
       "      <td>0.063190</td>\n",
       "      <td>0.863413</td>\n",
       "      <td>-0.001232</td>\n",
       "      <td>-0.084781</td>\n",
       "      <td>...</td>\n",
       "      <td>0.502646</td>\n",
       "      <td>-0.414158</td>\n",
       "      <td>-0.037535</td>\n",
       "      <td>-0.060672</td>\n",
       "      <td>0.358382</td>\n",
       "      <td>0.585332</td>\n",
       "      <td>-0.458778</td>\n",
       "      <td>-0.447776</td>\n",
       "      <td>0.301268</td>\n",
       "      <td>-0.086599</td>\n",
       "    </tr>\n",
       "    <tr>\n",
       "      <th>3</th>\n",
       "      <td>4</td>\n",
       "      <td>2303936</td>\n",
       "      <td>0.114901</td>\n",
       "      <td>0.351911</td>\n",
       "      <td>0.388062</td>\n",
       "      <td>-0.835415</td>\n",
       "      <td>0.068941</td>\n",
       "      <td>0.867273</td>\n",
       "      <td>-0.001948</td>\n",
       "      <td>-0.082643</td>\n",
       "      <td>...</td>\n",
       "      <td>0.503530</td>\n",
       "      <td>-0.413901</td>\n",
       "      <td>-0.038112</td>\n",
       "      <td>-0.066762</td>\n",
       "      <td>0.358489</td>\n",
       "      <td>0.580582</td>\n",
       "      <td>-0.461086</td>\n",
       "      <td>-0.449793</td>\n",
       "      <td>0.301751</td>\n",
       "      <td>-0.086144</td>\n",
       "    </tr>\n",
       "    <tr>\n",
       "      <th>4</th>\n",
       "      <td>5</td>\n",
       "      <td>2303936</td>\n",
       "      <td>0.114901</td>\n",
       "      <td>0.351911</td>\n",
       "      <td>0.388062</td>\n",
       "      <td>-0.835415</td>\n",
       "      <td>0.068941</td>\n",
       "      <td>0.867273</td>\n",
       "      <td>-0.001948</td>\n",
       "      <td>-0.082643</td>\n",
       "      <td>...</td>\n",
       "      <td>0.503530</td>\n",
       "      <td>-0.413901</td>\n",
       "      <td>-0.038112</td>\n",
       "      <td>-0.066762</td>\n",
       "      <td>0.358489</td>\n",
       "      <td>0.580582</td>\n",
       "      <td>-0.461086</td>\n",
       "      <td>-0.449793</td>\n",
       "      <td>0.301751</td>\n",
       "      <td>-0.086144</td>\n",
       "    </tr>\n",
       "  </tbody>\n",
       "</table>\n",
       "<p>5 rows × 34 columns</p>\n",
       "</div>"
      ],
      "text/plain": [
       "   Sale_id   bbl_id         0         1         2         3         4  \\\n",
       "0        1  2290528  0.141194  0.421060  0.466694 -0.989387  0.091223   \n",
       "1        2  2290528  0.141194  0.421060  0.466694 -0.989387  0.091223   \n",
       "2        3   230352  0.114756  0.350338  0.387500 -0.834070  0.063190   \n",
       "3        4  2303936  0.114901  0.351911  0.388062 -0.835415  0.068941   \n",
       "4        5  2303936  0.114901  0.351911  0.388062 -0.835415  0.068941   \n",
       "\n",
       "          5         6         7  ...        22        23        24        25  \\\n",
       "0  1.033919 -0.001966 -0.098034  ...  0.600213 -0.493792 -0.047002 -0.092415   \n",
       "1  1.033919 -0.001966 -0.098034  ...  0.600213 -0.493792 -0.047002 -0.092415   \n",
       "2  0.863413 -0.001232 -0.084781  ...  0.502646 -0.414158 -0.037535 -0.060672   \n",
       "3  0.867273 -0.001948 -0.082643  ...  0.503530 -0.413901 -0.038112 -0.066762   \n",
       "4  0.867273 -0.001948 -0.082643  ...  0.503530 -0.413901 -0.038112 -0.066762   \n",
       "\n",
       "         26        27        28        29        30        31  \n",
       "0  0.427163  0.688372 -0.549481 -0.538056  0.358792 -0.103146  \n",
       "1  0.427163  0.688372 -0.549481 -0.538056  0.358792 -0.103146  \n",
       "2  0.358382  0.585332 -0.458778 -0.447776  0.301268 -0.086599  \n",
       "3  0.358489  0.580582 -0.461086 -0.449793  0.301751 -0.086144  \n",
       "4  0.358489  0.580582 -0.461086 -0.449793  0.301751 -0.086144  \n",
       "\n",
       "[5 rows x 34 columns]"
      ]
     },
     "execution_count": 8,
     "metadata": {},
     "output_type": "execute_result"
    }
   ],
   "source": [
    "df3.head()"
   ]
  },
  {
   "cell_type": "code",
   "execution_count": 9,
   "metadata": {},
   "outputs": [
    {
     "data": {
      "text/plain": [
       "84768"
      ]
     },
     "execution_count": 9,
     "metadata": {},
     "output_type": "execute_result"
    }
   ],
   "source": [
    "len(df)"
   ]
  },
  {
   "cell_type": "code",
   "execution_count": 10,
   "metadata": {},
   "outputs": [],
   "source": [
    "new_df = df.merge(df3, on=['Sale_id'])"
   ]
  },
  {
   "cell_type": "code",
   "execution_count": 11,
   "metadata": {},
   "outputs": [
    {
     "data": {
      "text/html": [
       "<div>\n",
       "<style scoped>\n",
       "    .dataframe tbody tr th:only-of-type {\n",
       "        vertical-align: middle;\n",
       "    }\n",
       "\n",
       "    .dataframe tbody tr th {\n",
       "        vertical-align: top;\n",
       "    }\n",
       "\n",
       "    .dataframe thead th {\n",
       "        text-align: right;\n",
       "    }\n",
       "</style>\n",
       "<table border=\"1\" class=\"dataframe\">\n",
       "  <thead>\n",
       "    <tr style=\"text-align: right;\">\n",
       "      <th></th>\n",
       "      <th>Unnamed: 0</th>\n",
       "      <th>Sale_id</th>\n",
       "      <th>bbl_id_x</th>\n",
       "      <th>year</th>\n",
       "      <th>borough</th>\n",
       "      <th>bldg_ctgy</th>\n",
       "      <th>tax_cls_p</th>\n",
       "      <th>block</th>\n",
       "      <th>lot</th>\n",
       "      <th>easmnt</th>\n",
       "      <th>...</th>\n",
       "      <th>22</th>\n",
       "      <th>23</th>\n",
       "      <th>24</th>\n",
       "      <th>25</th>\n",
       "      <th>26</th>\n",
       "      <th>27</th>\n",
       "      <th>28</th>\n",
       "      <th>29</th>\n",
       "      <th>30</th>\n",
       "      <th>31</th>\n",
       "    </tr>\n",
       "  </thead>\n",
       "  <tbody>\n",
       "    <tr>\n",
       "      <th>0</th>\n",
       "      <td>0</td>\n",
       "      <td>1</td>\n",
       "      <td>2290528</td>\n",
       "      <td>2015</td>\n",
       "      <td>2</td>\n",
       "      <td>01  ONE FAMILY DWELLINGS</td>\n",
       "      <td>1</td>\n",
       "      <td>2905</td>\n",
       "      <td>28</td>\n",
       "      <td>NaN</td>\n",
       "      <td>...</td>\n",
       "      <td>0.600213</td>\n",
       "      <td>-0.493792</td>\n",
       "      <td>-0.047002</td>\n",
       "      <td>-0.092415</td>\n",
       "      <td>0.427163</td>\n",
       "      <td>0.688372</td>\n",
       "      <td>-0.549481</td>\n",
       "      <td>-0.538056</td>\n",
       "      <td>0.358792</td>\n",
       "      <td>-0.103146</td>\n",
       "    </tr>\n",
       "    <tr>\n",
       "      <th>1</th>\n",
       "      <td>1</td>\n",
       "      <td>2</td>\n",
       "      <td>2290528</td>\n",
       "      <td>2015</td>\n",
       "      <td>2</td>\n",
       "      <td>01  ONE FAMILY DWELLINGS</td>\n",
       "      <td>1</td>\n",
       "      <td>2905</td>\n",
       "      <td>28</td>\n",
       "      <td>NaN</td>\n",
       "      <td>...</td>\n",
       "      <td>0.600213</td>\n",
       "      <td>-0.493792</td>\n",
       "      <td>-0.047002</td>\n",
       "      <td>-0.092415</td>\n",
       "      <td>0.427163</td>\n",
       "      <td>0.688372</td>\n",
       "      <td>-0.549481</td>\n",
       "      <td>-0.538056</td>\n",
       "      <td>0.358792</td>\n",
       "      <td>-0.103146</td>\n",
       "    </tr>\n",
       "    <tr>\n",
       "      <th>2</th>\n",
       "      <td>2</td>\n",
       "      <td>3</td>\n",
       "      <td>230352</td>\n",
       "      <td>2015</td>\n",
       "      <td>2</td>\n",
       "      <td>01  ONE FAMILY DWELLINGS</td>\n",
       "      <td>1</td>\n",
       "      <td>3035</td>\n",
       "      <td>2</td>\n",
       "      <td>NaN</td>\n",
       "      <td>...</td>\n",
       "      <td>0.502646</td>\n",
       "      <td>-0.414158</td>\n",
       "      <td>-0.037535</td>\n",
       "      <td>-0.060672</td>\n",
       "      <td>0.358382</td>\n",
       "      <td>0.585332</td>\n",
       "      <td>-0.458778</td>\n",
       "      <td>-0.447776</td>\n",
       "      <td>0.301268</td>\n",
       "      <td>-0.086599</td>\n",
       "    </tr>\n",
       "    <tr>\n",
       "      <th>3</th>\n",
       "      <td>3</td>\n",
       "      <td>4</td>\n",
       "      <td>2303936</td>\n",
       "      <td>2015</td>\n",
       "      <td>2</td>\n",
       "      <td>01  ONE FAMILY DWELLINGS</td>\n",
       "      <td>1</td>\n",
       "      <td>3039</td>\n",
       "      <td>36</td>\n",
       "      <td>NaN</td>\n",
       "      <td>...</td>\n",
       "      <td>0.503530</td>\n",
       "      <td>-0.413901</td>\n",
       "      <td>-0.038112</td>\n",
       "      <td>-0.066762</td>\n",
       "      <td>0.358489</td>\n",
       "      <td>0.580582</td>\n",
       "      <td>-0.461086</td>\n",
       "      <td>-0.449793</td>\n",
       "      <td>0.301751</td>\n",
       "      <td>-0.086144</td>\n",
       "    </tr>\n",
       "    <tr>\n",
       "      <th>4</th>\n",
       "      <td>4</td>\n",
       "      <td>5</td>\n",
       "      <td>2303936</td>\n",
       "      <td>2015</td>\n",
       "      <td>2</td>\n",
       "      <td>01  ONE FAMILY DWELLINGS</td>\n",
       "      <td>1</td>\n",
       "      <td>3039</td>\n",
       "      <td>36</td>\n",
       "      <td>NaN</td>\n",
       "      <td>...</td>\n",
       "      <td>0.503530</td>\n",
       "      <td>-0.413901</td>\n",
       "      <td>-0.038112</td>\n",
       "      <td>-0.066762</td>\n",
       "      <td>0.358489</td>\n",
       "      <td>0.580582</td>\n",
       "      <td>-0.461086</td>\n",
       "      <td>-0.449793</td>\n",
       "      <td>0.301751</td>\n",
       "      <td>-0.086144</td>\n",
       "    </tr>\n",
       "  </tbody>\n",
       "</table>\n",
       "<p>5 rows × 60 columns</p>\n",
       "</div>"
      ],
      "text/plain": [
       "   Unnamed: 0  Sale_id  bbl_id_x  year  borough                 bldg_ctgy  \\\n",
       "0           0        1   2290528  2015        2  01  ONE FAMILY DWELLINGS   \n",
       "1           1        2   2290528  2015        2  01  ONE FAMILY DWELLINGS   \n",
       "2           2        3    230352  2015        2  01  ONE FAMILY DWELLINGS   \n",
       "3           3        4   2303936  2015        2  01  ONE FAMILY DWELLINGS   \n",
       "4           4        5   2303936  2015        2  01  ONE FAMILY DWELLINGS   \n",
       "\n",
       "  tax_cls_p  block  lot easmnt  ...        22        23        24        25  \\\n",
       "0         1   2905   28    NaN  ...  0.600213 -0.493792 -0.047002 -0.092415   \n",
       "1         1   2905   28    NaN  ...  0.600213 -0.493792 -0.047002 -0.092415   \n",
       "2         1   3035    2    NaN  ...  0.502646 -0.414158 -0.037535 -0.060672   \n",
       "3         1   3039   36    NaN  ...  0.503530 -0.413901 -0.038112 -0.066762   \n",
       "4         1   3039   36    NaN  ...  0.503530 -0.413901 -0.038112 -0.066762   \n",
       "\n",
       "         26        27        28        29        30        31  \n",
       "0  0.427163  0.688372 -0.549481 -0.538056  0.358792 -0.103146  \n",
       "1  0.427163  0.688372 -0.549481 -0.538056  0.358792 -0.103146  \n",
       "2  0.358382  0.585332 -0.458778 -0.447776  0.301268 -0.086599  \n",
       "3  0.358489  0.580582 -0.461086 -0.449793  0.301751 -0.086144  \n",
       "4  0.358489  0.580582 -0.461086 -0.449793  0.301751 -0.086144  \n",
       "\n",
       "[5 rows x 60 columns]"
      ]
     },
     "execution_count": 11,
     "metadata": {},
     "output_type": "execute_result"
    }
   ],
   "source": [
    "new_df.head()"
   ]
  },
  {
   "cell_type": "code",
   "execution_count": 12,
   "metadata": {},
   "outputs": [
    {
     "data": {
      "text/plain": [
       "Index(['Unnamed: 0', 'Sale_id', 'bbl_id_x', 'year', 'borough', 'bldg_ctgy',\n",
       "       'tax_cls_p', 'block', 'lot', 'easmnt', 'bldg_cls_p', 'address', 'apt',\n",
       "       'zip', 'res_unit', 'com_unit', 'tot_unit', 'land_sqft', 'tot_sqft',\n",
       "       'yr_built', 'tax_cls_s', 'bldg_cls_s', 'sale_date', 'price', 'usable',\n",
       "       'long', 'lat', 'bbl_id_y', '0', '1', '2', '3', '4', '5', '6', '7', '8',\n",
       "       '9', '10', '11', '12', '13', '14', '15', '16', '17', '18', '19', '20',\n",
       "       '21', '22', '23', '24', '25', '26', '27', '28', '29', '30', '31'],\n",
       "      dtype='object')"
      ]
     },
     "execution_count": 12,
     "metadata": {},
     "output_type": "execute_result"
    }
   ],
   "source": [
    "new_df.columns"
   ]
  },
  {
   "cell_type": "code",
   "execution_count": 13,
   "metadata": {},
   "outputs": [
    {
     "name": "stdout",
     "output_type": "stream",
     "text": [
      "Length of dataset is 27973\n"
     ]
    }
   ],
   "source": [
    "df4 = new_df.drop(columns=['Unnamed: 0', 'Sale_id', 'bbl_id_x', 'year', 'block', 'lot','easmnt', 'bldg_cls_p', 'address', 'apt','zip','usable'])\n",
    "df4 = df4[(df4.tot_sqft != 0) & (df4.tot_sqft != 1) & (df4.land_sqft != 0) & (df4.land_sqft != 1) & (df4.price >= 10000) & (df4.land_sqft != 0) & (df4.yr_built != 0)]\n",
    "\n",
    "df4.dropna(subset = [\"bldg_cls_s\"], inplace=True)\n",
    "df4.dropna(subset = [\"tax_cls_s\"], inplace=True)\n",
    "\n",
    "print(\"Length of dataset is {}\".format(len(df2)))\n",
    "\n",
    "df4 = pd.concat([df4, pd.get_dummies(df4.bldg_cls_s, prefix=\"bdgp_cls_s\")], axis=1)\n",
    "df4 = pd.concat([df4, pd.get_dummies(df4.borough, prefix=\"b\")], axis=1)\n",
    "df4 = pd.concat([df4, pd.get_dummies(df4.bldg_ctgy, prefix=\"bldg_ctgy\")], axis=1)\n",
    "# df2 = pd.concat([df2, pd.get_dummies(df2.tax_cls_s, prefix=\"tax_cls_s\")], axis=1)\n",
    "\n",
    "df4 = df4.drop(columns=['borough', 'bldg_ctgy', 'tax_cls_p','bldg_cls_s', 'sale_date', 'long', 'lat'])"
   ]
  },
  {
   "cell_type": "code",
   "execution_count": 14,
   "metadata": {},
   "outputs": [
    {
     "data": {
      "text/plain": [
       "216"
      ]
     },
     "execution_count": 14,
     "metadata": {},
     "output_type": "execute_result"
    }
   ],
   "source": [
    "len(df4.columns)"
   ]
  },
  {
   "cell_type": "code",
   "execution_count": 15,
   "metadata": {},
   "outputs": [
    {
     "data": {
      "text/plain": [
       "Index(['res_unit', 'com_unit', 'tot_unit', 'land_sqft', 'tot_sqft', 'yr_built',\n",
       "       'tax_cls_s', 'price', 'bbl_id_y', '0',\n",
       "       ...\n",
       "       'bldg_ctgy_32  HOSPITAL AND HEALTH FACILITIES',\n",
       "       'bldg_ctgy_33  EDUCATIONAL FACILITIES', 'bldg_ctgy_34  THEATRES',\n",
       "       'bldg_ctgy_35  INDOOR PUBLIC AND CULTURAL FACILITIES',\n",
       "       'bldg_ctgy_36  OUTDOOR RECREATIONAL FACILITIES',\n",
       "       'bldg_ctgy_37  RELIGIOUS FACILITIES', 'bldg_ctgy_38  ASYLUMS AND HOMES',\n",
       "       'bldg_ctgy_39  TRANSPORTATION FACILITIES',\n",
       "       'bldg_ctgy_40  SELECTED GOVERNMENTAL FACILITIES',\n",
       "       'bldg_ctgy_41  TAX CLASS 4 - OTHER'],\n",
       "      dtype='object', length=216)"
      ]
     },
     "execution_count": 15,
     "metadata": {},
     "output_type": "execute_result"
    }
   ],
   "source": [
    "df4.columns"
   ]
  },
  {
   "cell_type": "code",
   "execution_count": 16,
   "metadata": {},
   "outputs": [
    {
     "name": "stdout",
     "output_type": "stream",
     "text": [
      "(27805, 215) (27805,)\n"
     ]
    }
   ],
   "source": [
    "X = df4.drop(columns=['price'])\n",
    "Y = df4.price\n",
    "Y = np.array(Y).reshape(-1)\n",
    "print(X.shape,Y.shape)"
   ]
  },
  {
   "cell_type": "code",
   "execution_count": 21,
   "metadata": {},
   "outputs": [],
   "source": [
    "vis_feats = [str(i) for i in range(0, 13)]"
   ]
  },
  {
   "cell_type": "code",
   "execution_count": 18,
   "metadata": {},
   "outputs": [
    {
     "name": "stdout",
     "output_type": "stream",
     "text": [
      "keep column  res_unit 0.2384739882656794\n",
      "keep column  com_unit 0.342490945141344\n",
      "keep column  tot_unit 0.2832468892059686\n",
      "keep column  land_sqft 0.23715006924854587\n",
      "keep column  tot_sqft 0.4880461440163662\n",
      "keep column  tax_cls_s 0.22950641919684348\n",
      "keep column  0 0.05379095661105772\n",
      "keep column  1 0.005205411928867463\n",
      "keep column  2 0.015351619711994155\n",
      "keep column  3 0.010440300439794098\n",
      "keep column  4 0.07401954755014457\n",
      "keep column  5 0.003834633971153696\n",
      "keep column  6 0.06806552448912734\n",
      "keep column  7 -2.4013888679302756e-05\n",
      "keep column  8 -0.0036467237004326764\n",
      "keep column  9 0.05954542138851074\n",
      "keep column  10 0.003080863169795743\n",
      "keep column  11 0.07880833724897822\n",
      "keep column  12 -0.07166985332226983\n",
      "keep column  13 -0.001360752510909582\n",
      "keep column  14 0.06759194736505608\n",
      "keep column  15 0.001439982607869982\n",
      "keep column  16 -0.008223442082345147\n",
      "keep column  17 0.08677414090038518\n",
      "keep column  18 -0.0004311953344337393\n",
      "keep column  19 -0.00922319873901448\n",
      "keep column  20 -0.0015246735732232385\n",
      "keep column  21 5.428989147953122e-05\n",
      "keep column  22 -0.0024402878695476407\n",
      "keep column  23 0.0046612220673019\n",
      "keep column  24 0.0011963206240145684\n",
      "keep column  25 -0.08301844749478979\n",
      "keep column  26 -0.006321347251047918\n",
      "keep column  27 -0.016819336776829737\n",
      "keep column  28 -0.0024780334546830023\n",
      "keep column  29 -0.005897766492984905\n",
      "keep column  30 0.0007407510567263184\n",
      "keep column  31 -0.013755126538975279\n",
      "keep column  bdgp_cls_s_H1 0.2775605063143264\n",
      "keep column  bdgp_cls_s_O3 0.26643849938130487\n",
      "keep column  bdgp_cls_s_O4 0.49100880364542365\n",
      "keep column  b_1 0.27322698311671634\n",
      "keep column  bldg_ctgy_08  RENTALS - ELEVATOR APARTMENTS 0.2221753278389665\n",
      "keep column  bldg_ctgy_21  OFFICE BUILDINGS 0.2553256483199546\n",
      "keep column  bldg_ctgy_25  LUXURY HOTELS 0.2674837313840792\n"
     ]
    }
   ],
   "source": [
    "for column in X.columns:\n",
    "    corry = np.corrcoef(Y, X[\"{}\".format(column)])[0][1]\n",
    "    if corry < 0.2 and corry > -0.2 and column not in vis_feats:\n",
    "#         print(\"removed column {0}, because {1}\".format(column, corry))\n",
    "        X = X.drop(columns=[column])\n",
    "    else:\n",
    "        print(\"keep column \", column, corry)"
   ]
  },
  {
   "cell_type": "code",
   "execution_count": 19,
   "metadata": {},
   "outputs": [
    {
     "data": {
      "text/plain": [
       "45"
      ]
     },
     "execution_count": 19,
     "metadata": {},
     "output_type": "execute_result"
    }
   ],
   "source": [
    "len(X.columns)"
   ]
  },
  {
   "cell_type": "code",
   "execution_count": 22,
   "metadata": {},
   "outputs": [
    {
     "data": {
      "image/png": "[encoded data removed]",
      "text/plain": [
       "<Figure size 1080x648 with 2 Axes>"
      ]
     },
     "metadata": {
      "needs_background": "light"
     },
     "output_type": "display_data"
    }
   ],
   "source": [
    "f, ax = plt.subplots(figsize=(15, 9))\n",
    "\n",
    "corr = pd.concat([df4.price, df4[vis_feats]], axis=1).corr()\n",
    "heatmap = sns.heatmap(corr, vmin=-1, vmax=1, annot=True)\n",
    "plt.savefig('corr_heatmap.png', dpi=300, transparent=True)"
   ]
  },
  {
   "cell_type": "code",
   "execution_count": null,
   "metadata": {},
   "outputs": [],
   "source": [
    "X_train, X_test, y_train, y_test = train_test_split(X, Y, test_size = .30, random_state = 10)\n",
    "\n",
    "feature_scaler = StandardScaler()\n",
    "X_train = feature_scaler.fit_transform(X_train)\n",
    "X_test = feature_scaler.transform(X_test)"
   ]
  },
  {
   "cell_type": "code",
   "execution_count": null,
   "metadata": {},
   "outputs": [],
   "source": [
    "ridge = Ridge()\n",
    "ridge_regressor = GridSearchCV(ridge, parameters, scoring='r2', cv=5)\n",
    "ridge_regressor.fit(X_train, y_train)\n",
    "\n",
    "print(ridge_regressor.best_params_, ridge_regressor.best_score_)"
   ]
  },
  {
   "cell_type": "code",
   "execution_count": null,
   "metadata": {},
   "outputs": [],
   "source": [
    "print('Test:', ridge_regressor.score(X_test, y_test))\n",
    "\n",
    "mae_model = mean_absolute_error(y_test, ridge_regressor.predict(X_test))\n",
    "mae_baseline = abs(y_test - y_train.mean()).mean()\n",
    "\n",
    "print('MAE:', mae_model)\n",
    "print('MAE (baseline):', mae_baseline)\n",
    "print('Improvement: {:.2f} %'.format(((mae_model-mae_baseline)/ mae_baseline )* 100) )"
   ]
  }
 ],
 "metadata": {
  "kernelspec": {
   "display_name": "Python 3",
   "language": "python",
   "name": "python3"
  },
  "language_info": {
   "codemirror_mode": {
    "name": "ipython",
    "version": 3
   },
   "file_extension": ".py",
   "mimetype": "text/x-python",
   "name": "python",
   "nbconvert_exporter": "python",
   "pygments_lexer": "ipython3",
   "version": "3.8.3"
  }
 },
 "nbformat": 4,
 "nbformat_minor": 4
}
